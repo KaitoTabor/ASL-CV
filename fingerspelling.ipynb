{
 "cells": [
  {
   "cell_type": "code",
   "execution_count": 1,
   "id": "f7df9eba",
   "metadata": {},
   "outputs": [
    {
     "name": "stdout",
     "output_type": "stream",
     "text": [
      "Requirement already satisfied: mediapipe in c:\\users\\kaito\\documents\\asl-cv-service\\venv\\lib\\site-packages (0.10.21)\n",
      "Requirement already satisfied: opencv-python in c:\\users\\kaito\\documents\\asl-cv-service\\venv\\lib\\site-packages (4.11.0.86)\n",
      "Requirement already satisfied: scikit-learn in c:\\users\\kaito\\documents\\asl-cv-service\\venv\\lib\\site-packages (1.6.1)\n",
      "Requirement already satisfied: pandas in c:\\users\\kaito\\documents\\asl-cv-service\\venv\\lib\\site-packages (2.2.3)\n",
      "Requirement already satisfied: tqdm in c:\\users\\kaito\\documents\\asl-cv-service\\venv\\lib\\site-packages (4.67.1)\n",
      "Requirement already satisfied: absl-py in c:\\users\\kaito\\documents\\asl-cv-service\\venv\\lib\\site-packages (from mediapipe) (2.2.2)\n",
      "Requirement already satisfied: attrs>=19.1.0 in c:\\users\\kaito\\documents\\asl-cv-service\\venv\\lib\\site-packages (from mediapipe) (25.3.0)\n",
      "Requirement already satisfied: flatbuffers>=2.0 in c:\\users\\kaito\\documents\\asl-cv-service\\venv\\lib\\site-packages (from mediapipe) (25.2.10)\n",
      "Requirement already satisfied: jax in c:\\users\\kaito\\documents\\asl-cv-service\\venv\\lib\\site-packages (from mediapipe) (0.6.0)\n",
      "Requirement already satisfied: jaxlib in c:\\users\\kaito\\documents\\asl-cv-service\\venv\\lib\\site-packages (from mediapipe) (0.6.0)\n",
      "Requirement already satisfied: matplotlib in c:\\users\\kaito\\documents\\asl-cv-service\\venv\\lib\\site-packages (from mediapipe) (3.10.1)\n",
      "Requirement already satisfied: numpy<2 in c:\\users\\kaito\\documents\\asl-cv-service\\venv\\lib\\site-packages (from mediapipe) (1.26.4)\n",
      "Requirement already satisfied: opencv-contrib-python in c:\\users\\kaito\\documents\\asl-cv-service\\venv\\lib\\site-packages (from mediapipe) (4.11.0.86)\n",
      "Requirement already satisfied: protobuf<5,>=4.25.3 in c:\\users\\kaito\\documents\\asl-cv-service\\venv\\lib\\site-packages (from mediapipe) (4.25.7)\n",
      "Requirement already satisfied: sounddevice>=0.4.4 in c:\\users\\kaito\\documents\\asl-cv-service\\venv\\lib\\site-packages (from mediapipe) (0.5.1)\n",
      "Requirement already satisfied: sentencepiece in c:\\users\\kaito\\documents\\asl-cv-service\\venv\\lib\\site-packages (from mediapipe) (0.2.0)\n",
      "Requirement already satisfied: scipy>=1.6.0 in c:\\users\\kaito\\documents\\asl-cv-service\\venv\\lib\\site-packages (from scikit-learn) (1.15.2)\n",
      "Requirement already satisfied: joblib>=1.2.0 in c:\\users\\kaito\\documents\\asl-cv-service\\venv\\lib\\site-packages (from scikit-learn) (1.4.2)\n",
      "Requirement already satisfied: threadpoolctl>=3.1.0 in c:\\users\\kaito\\documents\\asl-cv-service\\venv\\lib\\site-packages (from scikit-learn) (3.6.0)\n",
      "Requirement already satisfied: python-dateutil>=2.8.2 in c:\\users\\kaito\\documents\\asl-cv-service\\venv\\lib\\site-packages (from pandas) (2.9.0.post0)\n",
      "Requirement already satisfied: pytz>=2020.1 in c:\\users\\kaito\\documents\\asl-cv-service\\venv\\lib\\site-packages (from pandas) (2025.2)\n",
      "Requirement already satisfied: tzdata>=2022.7 in c:\\users\\kaito\\documents\\asl-cv-service\\venv\\lib\\site-packages (from pandas) (2025.2)\n",
      "Requirement already satisfied: colorama in c:\\users\\kaito\\documents\\asl-cv-service\\venv\\lib\\site-packages (from tqdm) (0.4.6)\n",
      "Requirement already satisfied: six>=1.5 in c:\\users\\kaito\\documents\\asl-cv-service\\venv\\lib\\site-packages (from python-dateutil>=2.8.2->pandas) (1.17.0)\n",
      "Requirement already satisfied: CFFI>=1.0 in c:\\users\\kaito\\documents\\asl-cv-service\\venv\\lib\\site-packages (from sounddevice>=0.4.4->mediapipe) (1.17.1)\n",
      "Requirement already satisfied: ml_dtypes>=0.5.0 in c:\\users\\kaito\\documents\\asl-cv-service\\venv\\lib\\site-packages (from jax->mediapipe) (0.5.1)\n",
      "Requirement already satisfied: opt_einsum in c:\\users\\kaito\\documents\\asl-cv-service\\venv\\lib\\site-packages (from jax->mediapipe) (3.4.0)\n",
      "Requirement already satisfied: contourpy>=1.0.1 in c:\\users\\kaito\\documents\\asl-cv-service\\venv\\lib\\site-packages (from matplotlib->mediapipe) (1.3.2)\n",
      "Requirement already satisfied: cycler>=0.10 in c:\\users\\kaito\\documents\\asl-cv-service\\venv\\lib\\site-packages (from matplotlib->mediapipe) (0.12.1)\n",
      "Requirement already satisfied: fonttools>=4.22.0 in c:\\users\\kaito\\documents\\asl-cv-service\\venv\\lib\\site-packages (from matplotlib->mediapipe) (4.57.0)\n",
      "Requirement already satisfied: kiwisolver>=1.3.1 in c:\\users\\kaito\\documents\\asl-cv-service\\venv\\lib\\site-packages (from matplotlib->mediapipe) (1.4.8)\n",
      "Requirement already satisfied: packaging>=20.0 in c:\\users\\kaito\\documents\\asl-cv-service\\venv\\lib\\site-packages (from matplotlib->mediapipe) (25.0)\n",
      "Requirement already satisfied: pillow>=8 in c:\\users\\kaito\\documents\\asl-cv-service\\venv\\lib\\site-packages (from matplotlib->mediapipe) (11.2.1)\n",
      "Requirement already satisfied: pyparsing>=2.3.1 in c:\\users\\kaito\\documents\\asl-cv-service\\venv\\lib\\site-packages (from matplotlib->mediapipe) (3.2.3)\n",
      "Requirement already satisfied: pycparser in c:\\users\\kaito\\documents\\asl-cv-service\\venv\\lib\\site-packages (from CFFI>=1.0->sounddevice>=0.4.4->mediapipe) (2.22)\n",
      "Note: you may need to restart the kernel to use updated packages.\n"
     ]
    },
    {
     "name": "stderr",
     "output_type": "stream",
     "text": [
      "\n",
      "[notice] A new release of pip is available: 24.2 -> 25.1.1\n",
      "[notice] To update, run: python.exe -m pip install --upgrade pip\n"
     ]
    }
   ],
   "source": [
    "# dependencies \n",
    "%pip install mediapipe opencv-python scikit-learn pandas tqdm"
   ]
  },
  {
   "cell_type": "code",
   "execution_count": 3,
   "id": "23f7ce52",
   "metadata": {},
   "outputs": [],
   "source": [
    "#imports \n",
    "import os\n",
    "import cv2\n",
    "import mediapipe as mp\n",
    "import numpy as np\n",
    "import pandas as pd\n",
    "from tqdm import tqdm\n",
    "from sklearn.model_selection import train_test_split\n",
    "from sklearn.neural_network import MLPClassifier\n",
    "from sklearn.preprocessing import LabelEncoder, StandardScaler\n",
    "import joblib"
   ]
  },
  {
   "cell_type": "markdown",
   "id": "67cdc342",
   "metadata": {},
   "source": [
    "Setting up data"
   ]
  },
  {
   "cell_type": "code",
   "execution_count": 4,
   "id": "af5624e2",
   "metadata": {},
   "outputs": [
    {
     "name": "stdout",
     "output_type": "stream",
     "text": [
      "['A0_jpg.rf.378524d206c1caad63d48036309591c0.jpg', 'A0_jpg.rf.be3f012a7e6adce4112412590e00b37b.jpg', 'A0_jpg.rf.d62bc3834f2ed059f244c100351f1919.jpg', 'A11_jpg.rf.2b25985bb9ed5ca5cab5911f463af79b.jpg', 'A11_jpg.rf.4d03e47740b506a2c993fdf2c4ca3801.jpg', 'A11_jpg.rf.900d546673f58a3b1049723b6c74ebb0.jpg', 'A12_jpg.rf.3e510211e8a827af9bc0382183174df4.jpg', 'A12_jpg.rf.6a3b0ca4f482e1ab5810ccd49054c1b9.jpg', 'A12_jpg.rf.91f58cde4edb6ab7ddc7e72c56c54e5e.jpg', 'A13_jpg.rf.1611438fad3db6e9a6a35342567591f6.jpg', 'A13_jpg.rf.a030f32a7d88f032d8142276e3c3a4af.jpg', 'A13_jpg.rf.fd32f3c3d341ac9a887b603b3c3ff772.jpg', 'A15_jpg.rf.4a0262e4e59da2ffc238291f7017531d.jpg', 'A15_jpg.rf.86b1f6da8aa9dd7d92e92db2ffa329ac.jpg', 'A15_jpg.rf.8ecb28f3f20aa9cd53a9b02a7433f7f4.jpg', 'A16_jpg.rf.079708d3fa3bb0fdbfcc09f27d9983de.jpg', 'A16_jpg.rf.8ba392c4fa96e429453ae54330a09547.jpg', 'A16_jpg.rf.a95b74cb6d73dbde325bb1908d9d1d11.jpg', 'A17_jpg.rf.7bd31e51bf70d9c0bdcd52b0d1ecf99f.jpg', 'A17_jpg.rf.c46591f0ecec6a87dcf298db96d0fb6c.jpg', 'A17_jpg.rf.ee1fa62eb3e8c1c9c19f8b1162b6e3e1.jpg', 'A18_jpg.rf.526d86b05e1b1a3bc86354bf756a95db.jpg', 'A18_jpg.rf.cdbcf82f20c45850a274cbe50305eaee.jpg', 'A18_jpg.rf.d657daf1b0b2769b4e4ac2af45d4b4b1.jpg', 'A19_jpg.rf.7c0eb291fe8404f2f732c54aca116e81.jpg', 'A19_jpg.rf.b00cfdf98f5c0cda3993d2377d5c6450.jpg', 'A19_jpg.rf.dc2fbb04a2ce3ea5a8bc68c265d9a242.jpg', 'A1_jpg.rf.320bba9817733098a142e851a48b0359.jpg', 'A1_jpg.rf.60a70cefd79ad62e81aefa99bef262f9.jpg', 'A1_jpg.rf.75edcb532026e915e94c832604501eb2.jpg', 'A21_jpg.rf.6164f2cf87a2cbb760ab4afb3ee0fbe3.jpg', 'A21_jpg.rf.6a55554275f7a6cd7d5a11c5fb01b09b.jpg', 'A21_jpg.rf.dd28e6f37d390b9327da4ccd2d0152c3.jpg', 'A23_jpg.rf.0b6980474567d49230061722bb85b319.jpg', 'A23_jpg.rf.1da9ae21e5799b40a87b861857327e96.jpg', 'A23_jpg.rf.a19b93764d3f52a6f4a2ce953569299a.jpg', 'A24_jpg.rf.809b5887b192a6b90f5a767b4675ecdd.jpg', 'A24_jpg.rf.af7e9fdf8f66364a4decdeb3169c99ac.jpg', 'A24_jpg.rf.e74c484ed9b9ba6d75b4b58ce1de8ca1.jpg', 'A25_jpg.rf.86fc0497645dbca4161c2fd91005d9f2.jpg', 'A25_jpg.rf.8ee07f8268c6a2432a2faad66ad62624.jpg', 'A25_jpg.rf.cbe9b5f5ec712d7941dd1024b5192b68.jpg', 'A26_jpg.rf.1e6a11fdc52a601d85b32c1eea1a7b05.jpg', 'A26_jpg.rf.7e33fde58d10a205ff500962caac926f.jpg', 'A26_jpg.rf.b03309dd89df6e4f3bda48675410b2b2.jpg', 'A27_jpg.rf.6610fd82ea84b202d3f6a8f9981b6d70.jpg', 'A27_jpg.rf.929a7f6cb277a1602c108154b7903dc5.jpg', 'A27_jpg.rf.b4d84a78020780f43d2cb94d1068cc86.jpg', 'A28_jpg.rf.1ca8e0eab78d4800a2a2f79523330f48.jpg', 'A28_jpg.rf.6ed615442cbfa8e57d2ed19d6cdca4aa.jpg', 'A28_jpg.rf.bd5b71f47a65ba7b68f695b927059117.jpg', 'A2_jpg.rf.04cc2c3fcbc3a027c7ee156ed6f8b355.jpg', 'A2_jpg.rf.286fd9041d8548250ffa7bc77c2d4353.jpg', 'A2_jpg.rf.c5c46f7ee50df52aed5415e8b22c5da7.jpg', 'A4_jpg.rf.2bc95a6f632ea04d7f5016fa9a951415.jpg', 'A4_jpg.rf.78a05e53c1a2c629bd459797197705fe.jpg', 'A4_jpg.rf.a5a0a4e6a7e57544b7a569d66a9fd6f7.jpg', 'A5_jpg.rf.42d762bfcddcb709b1b65ceda1e23a8c.jpg', 'A5_jpg.rf.647d0e6dbe17cc47d3d34aec7b4f5738.jpg', 'A5_jpg.rf.dde7130be2567b272b220a8051e44dbd.jpg', 'A6_jpg.rf.581605a1edc37a82ac0f8afd87b66d9e.jpg', 'A6_jpg.rf.c76d36144b9f6fcdf4eea4c4b3124b79.jpg', 'A6_jpg.rf.fb7dc2a30344bf8357fb44b52d469f1b.jpg', 'A7_jpg.rf.00c8bdd938386e056217565afecf1459.jpg', 'A7_jpg.rf.1839065aca3b8c10f77df93977848ac8.jpg', 'A7_jpg.rf.f8ffc532603611f95e78839d65a9863e.jpg', 'A8_jpg.rf.1f890068d0b9dea5e59e9da35a173f37.jpg', 'A8_jpg.rf.4bbd03f1e47369d82c042e877504bd62.jpg', 'A8_jpg.rf.e35b5b909f4e7ba90902328f395b3fc9.jpg', 'B11_jpg.rf.00e0189da65a7f77fc1ecc60187fdf52.jpg', 'B11_jpg.rf.56ef36b83cb28c3fda43f7aba8cdb1ac.jpg', 'B11_jpg.rf.bdbcb401ffc3c15ff9a766b91d586200.jpg', 'B13_jpg.rf.4285146cb3afe734db7e9ae034506ed4.jpg', 'B13_jpg.rf.475b0b53747387fdbfee9cb6c72f41b6.jpg', 'B13_jpg.rf.71aba1fe8e78281448dbad2b7eadcbd5.jpg', 'B16_jpg.rf.0f5799ae36eef5f46af6bad5e3cf1fc7.jpg', 'B16_jpg.rf.55971d36db7aaedaf5c844e5134b7482.jpg', 'B16_jpg.rf.fcea8d2d86a4b4b8e45aabba680d3b5d.jpg', 'B17_jpg.rf.3006caa43e0a5c427d9e1d3a69ab4a11.jpg', 'B17_jpg.rf.b0ec6786c364fa51ffbb4e773b2dcceb.jpg', 'B17_jpg.rf.de3f0bf91874496bb235672130843d4e.jpg', 'B18_jpg.rf.5e0c05ea0467052908ee0e4a719d8b5f.jpg', 'B18_jpg.rf.a9ba5b8a977bd696422a1d5d9090eeb8.jpg', 'B18_jpg.rf.f36fb04e2224bcc4a00c1f645d6484c9.jpg', 'B20_jpg.rf.18875f56aadbac5ef628167d9e69e431.jpg', 'B20_jpg.rf.40e3bfcfca1cef5018d204a10b0918c0.jpg', 'B20_jpg.rf.9327fafa6ba2bbee08b4f4c06109a23f.jpg', 'B22_jpg.rf.08b843a70b40f88c4dd7810a6052ce3f.jpg', 'B22_jpg.rf.3d4dec21eee5583299b0869e0c456613.jpg', 'B22_jpg.rf.85a694854629a1e2310c087abea5cc7a.jpg', 'B24_jpg.rf.33f48ae028fa0e5b3020de515a32bd5c.jpg', 'B24_jpg.rf.64a435132cbb9b7db5b1ee64de005d46.jpg', 'B24_jpg.rf.78c6df2a7ff11bee9632d935846ba0bc.jpg', 'B2_jpg.rf.cd5302e9d34a68c9698a52a0a418f9c3.jpg', 'B2_jpg.rf.f32392e42c752db63e637fe0fe1c0804.jpg', 'B2_jpg.rf.ffb85bd8773222bfebdb0b1521cd8b86.jpg', 'B3_jpg.rf.6a4912feba4dcc802d55104c76e816f2.jpg', 'B3_jpg.rf.85a20c5dc3d0b3c2680f2840837bb8fa.jpg', 'B3_jpg.rf.d3de79ddabe31c789cb2960905bde8fe.jpg', 'B4_jpg.rf.042e00fdefbe4d981280ac3443e54193.jpg', 'B4_jpg.rf.0f3fef8b92a6e615ee0c96383394f816.jpg', 'B4_jpg.rf.37a56177e03e5903849044a2180cd9bf.jpg', 'B7_jpg.rf.06d0e02a4babd9cacc4ed6aecb8db4d8.jpg', 'B7_jpg.rf.2fba1cd4906d80e99243c97f2509e68a.jpg', 'B7_jpg.rf.e2c5881e2ce295120779e63876b52abc.jpg', 'B8_jpg.rf.a942dcdcaceaaaa9b0bb30a712142d19.jpg', 'B8_jpg.rf.c0a020954464adfe4301601d01846983.jpg', 'B8_jpg.rf.c4ebddf537232347eea0b96027ed80b9.jpg', 'C0_jpg.rf.7d89b6784586ca66b72eaaeaf14f9883.jpg', 'C0_jpg.rf.9f7d6e3d282216097d5afc39b85aeb93.jpg', 'C0_jpg.rf.c4ee476c2f6614efaee7cf3eed57a524.jpg', 'C10_jpg.rf.0862bb3b8db7c045a22cc59fd4ebd6d2.jpg', 'C10_jpg.rf.15639052f673e06f89ee202dedaf954e.jpg', 'C10_jpg.rf.fbceb7cb2068a33ad6c8f8cfed6908b1.jpg', 'C11_jpg.rf.13fdbafec5079eef2e66c216603fbb40.jpg', 'C11_jpg.rf.6cab79798aed03da4b319ecbb126d2f8.jpg', 'C11_jpg.rf.9b9aeece3f1460986756b5a995b114af.jpg', 'C12_jpg.rf.ac39ea7d3445ed658cb5e63699ca26b8.jpg', 'C12_jpg.rf.bee1950d4dc6addd70e56d646d5a9626.jpg', 'C12_jpg.rf.e047e4a8d6e1ab5fb0b1b636fbc337b9.jpg', 'C13_jpg.rf.149e2ce0c520a37fd92db47af54ed70b.jpg', 'C13_jpg.rf.bd44d11713fc8bef5a815654e94d961f.jpg', 'C13_jpg.rf.ec8860d049124395a17c5a1acfea5764.jpg', 'C14_jpg.rf.927fe92e1b1a94baf90d35b7db20a8a4.jpg', 'C14_jpg.rf.a26139df7b0ca2e5d75a9e1b0a08599b.jpg', 'C14_jpg.rf.f50d0a73885174d378d3582d6e694933.jpg', 'C16_jpg.rf.40b184e86d0a3c6057536676669961bd.jpg', 'C16_jpg.rf.51cc5d57767ff72a0f76d416d54def49.jpg', 'C16_jpg.rf.a35b40cfcf432818c19ca03923af6cc1.jpg', 'C18_jpg.rf.43db6224b98a8d158b7c0272e321dcfc.jpg', 'C18_jpg.rf.6543ed062c370ad5272fa8886b5f1484.jpg', 'C18_jpg.rf.f51664a5a7f293b3534ff28e4efe1f59.jpg', 'C20_jpg.rf.8459e4678a50cdcd623fca629f3eaa2b.jpg', 'C20_jpg.rf.8ae2d366488081525453b26eed3a64af.jpg', 'C20_jpg.rf.c72ad63280d37e2d89be82c872facb2a.jpg', 'C21_jpg.rf.1fa40b20093985f479a1fd2e4b2b74d5.jpg', 'C21_jpg.rf.4617a055810c67cff8baf7a83743eb92.jpg', 'C21_jpg.rf.ec26e3a0a025fabf530a92c207bea6b0.jpg', 'C24_jpg.rf.6d3a22972b45afd8259490e4b6d6c348.jpg', 'C24_jpg.rf.aa056d140a2f2aed963872c448ecc56c.jpg', 'C24_jpg.rf.c751aa48ec72808545e9dcdca7bf2170.jpg', 'C2_jpg.rf.1b0f93b5d5918c23d634f0df83c1f626.jpg', 'C2_jpg.rf.c925ea5373978841c2a28513e009f81b.jpg', 'C2_jpg.rf.cf204de9a3a847a8294291a85f387e8a.jpg', 'C3_jpg.rf.c1935b7dfcbb63a3d44ab29576c43d3c.jpg', 'C3_jpg.rf.e0e5f87e583631855119a3ad1d5040ba.jpg', 'C3_jpg.rf.fe91f4ac4afd84132ea584c4c2836add.jpg', 'C4_jpg.rf.2d6622204f176f5db7cbdb1cf22d8b95.jpg', 'C4_jpg.rf.30641262c7a960b9c721264da88538b2.jpg', 'C4_jpg.rf.6543d992488abbb13a5345afcefa593d.jpg', 'C5_jpg.rf.1843fe37ee6b45c856fd8272b2740f1b.jpg', 'C5_jpg.rf.4601396fc9a6ebf86d50378d6f22ac57.jpg', 'C5_jpg.rf.5c9aebd210313e15808af49b6f511368.jpg', 'C6_jpg.rf.49922aed39897949fe5467b5c8945b4f.jpg', 'C6_jpg.rf.75709d353ac72d5aae476c2c90ba9166.jpg', 'C6_jpg.rf.d029eba1430042883f0a6c025551f183.jpg', 'C7_jpg.rf.3101a6c084b4975d709a5e4ab30ab0b7.jpg', 'C7_jpg.rf.966a45f6eb1f7768b2698a2e5d979ca8.jpg', 'C7_jpg.rf.d95b16cd579e29ab41eeda88199dfaa6.jpg', 'C8_jpg.rf.61e72fd5dae77c39b287e1abb82b2f2d.jpg', 'C8_jpg.rf.62787a65ea775e0be37285953259ed9a.jpg', 'C8_jpg.rf.87ea8cd2be5d9a56a70d77ec80206ead.jpg', 'D10_jpg.rf.64f0e731f8b17fb2bda0bb0ae9038e05.jpg', 'D10_jpg.rf.89eef0cbc2c139109cf864595ea822f8.jpg', 'D10_jpg.rf.caf5c3338cc01747f4fe1dae112ab55e.jpg', 'D11_jpg.rf.25d9c22137a3eba6a14ce377be53546b.jpg', 'D11_jpg.rf.9c775680477a3ad4bb32f066ecace128.jpg', 'D11_jpg.rf.e7a2b0d1756cb13da26182fa3a01d7a7.jpg', 'D13_jpg.rf.7a5fc80a94c662a79c628fd923c97e3e.jpg', 'D13_jpg.rf.7aac1998f2ac725d190f2910d7da415e.jpg', 'D13_jpg.rf.afc4f7a804abe683befefd5a4c24d203.jpg', 'D14_jpg.rf.168bcd3e5fe34845e3bf7bd9949c2e47.jpg', 'D14_jpg.rf.47510485bee20bcabca2436b7bfd1765.jpg', 'D14_jpg.rf.5dca4af149835ecf2d067677136efdc6.jpg', 'D16_jpg.rf.5ad4780da12b30946a9c3aaf0ca4bf00.jpg', 'D16_jpg.rf.6da99f7f2259f36d8e5e2a457b0c815b.jpg', 'D16_jpg.rf.b520532289c6b3a49ca3b799353f5497.jpg', 'D18_jpg.rf.27600762406ec65a21286bf4e9f0f97c.jpg', 'D18_jpg.rf.2a50bac7b479b183cf09a2524c8fd181.jpg', 'D18_jpg.rf.ca87a7b573e874c3fd6c22e1e52c5954.jpg', 'D19_jpg.rf.0574603ac7c38a3d0a9b9f05e30320e2.jpg', 'D19_jpg.rf.11365b66b250b280b7a79fd570bd0331.jpg', 'D19_jpg.rf.90c12a40b1b7cde42c8a61d3fceb4639.jpg', 'D21_jpg.rf.66605c580d6f3e6ae373df081af2694a.jpg', 'D21_jpg.rf.83fa1ea0e2baa1db9de26b2cec8bfff6.jpg', 'D21_jpg.rf.b048baa6d5e27cbb64b4e9edc574503c.jpg', 'D22_jpg.rf.7c93fc61a14de1b9d1908ec6a90bff19.jpg', 'D22_jpg.rf.910ea8b0b50aea827474e0ae33bafc4a.jpg', 'D22_jpg.rf.9e0c72ca114c80816643fcc0aa56f5ac.jpg', 'D23_jpg.rf.38c1d79bac2aa4cc45b30f1aa4114ce0.jpg', 'D23_jpg.rf.7551f22249d290aa1af2b5e73cbe094e.jpg', 'D23_jpg.rf.95b138df01a36eb5efba7a844f4b3556.jpg', 'D24_jpg.rf.22728e01836c4ac0ed046f5e639834cd.jpg', 'D24_jpg.rf.7d7109725b891161b835604461c4c42a.jpg', 'D24_jpg.rf.e808b003b750d09c9a85a77a78bef686.jpg', 'D25_jpg.rf.05827ff6f88e1bd21908280c710f79ad.jpg', 'D25_jpg.rf.8cd6e922c53ebce953cb8c48ee1c622d.jpg', 'D25_jpg.rf.c48f1ef1d31a3b384c8f4e199e0ef6aa.jpg', 'D26_jpg.rf.338824b7a4f611da0a69afb9aabe614b.jpg', 'D26_jpg.rf.3a3afd46664674ac01a9bfad80bbed58.jpg', 'D26_jpg.rf.f5d12c24a3fe78ff5a5223c98a6bb89f.jpg', 'D27_jpg.rf.a33382817ad63eb0a872f02b8d4e8564.jpg', 'D27_jpg.rf.bd46489eaddda8aefa557506e2dfa438.jpg', 'D27_jpg.rf.f214fe5ffe98b63644b973117115aceb.jpg', 'D2_jpg.rf.5cf8cb4739e7d17eb43ac8ce74d407ab.jpg', 'D2_jpg.rf.8ebf16f86ac7895db30fd2a7b7f44225.jpg', 'D2_jpg.rf.a83a0884333de9ec6ff75e25f680c3a1.jpg', 'D3_jpg.rf.02c13d8320d1922e57ecf9a94655ffbe.jpg', 'D3_jpg.rf.7893dc18736016934312a4b7374d2b63.jpg', 'D3_jpg.rf.7c4e3096156ff6843ee6fa6635a24a8c.jpg', 'D4_jpg.rf.25a66ff662899e4cd629e397eafff841.jpg', 'D4_jpg.rf.8cfa58c9c48bed06aea0c1b1beee181a.jpg', 'D4_jpg.rf.f9d1df2a3bb29c123237465565cc4e4a.jpg', 'D5_jpg.rf.1e8e8516222a55d70e411ab24f326e9e.jpg', 'D5_jpg.rf.749995db03b3cfc70dd02a9cfb66d5dd.jpg', 'D5_jpg.rf.b7f1e34e749ec006d49037dd7ea39966.jpg', 'D6_jpg.rf.03462ca3054ca918470615b7d13f407e.jpg', 'D6_jpg.rf.47c333980cf2bbee1c370d8ed15d9278.jpg', 'D6_jpg.rf.9a85eb3fe82898712a1d259e5fed24f8.jpg', 'D8_jpg.rf.276837df1a81fb03ccf1f59c61b508a6.jpg', 'D8_jpg.rf.7ce4f61ef4085964c3365e5642d39f18.jpg', 'D8_jpg.rf.f204ed6690918b4f8f1012a09ee16762.jpg', 'D9_jpg.rf.26d33efaa2cab0b7a3f054ecd4b4330e.jpg', 'D9_jpg.rf.7af95f6d6b124523642c7268cbe01484.jpg', 'D9_jpg.rf.86aa7ac059def0d42b7717e67ad50e09.jpg', 'E0_jpg.rf.1085cafcb1272356b6cc812ac58b6415.jpg', 'E0_jpg.rf.8c713c7ae2f52e89c6765f039b2435d3.jpg', 'E0_jpg.rf.da13384f9fd95820d3e2a3826a596173.jpg', 'E10_jpg.rf.13bc53887276cc1b360c377fefb3a625.jpg', 'E10_jpg.rf.d55159e067126f27e9a7bad9afd73e69.jpg', 'E10_jpg.rf.fd4518c48006d36b81d5926f37138988.jpg', 'E11_jpg.rf.180ddf7f3d57357be9a33cf6278d0071.jpg', 'E11_jpg.rf.4ce8125f2fac1e7d59c61ef03d502173.jpg', 'E11_jpg.rf.57b467dd297f8e05337374d77f0f2e35.jpg', 'E12_jpg.rf.093c54d0d268ce6d5cb570049aa6edd3.jpg', 'E12_jpg.rf.23c72dab83788452d2c95ac2ee2c07d8.jpg', 'E12_jpg.rf.3aa64eda58736b3391ee78f021e34115.jpg', 'E13_jpg.rf.62846e253a1ed8e649f85e95efe423ee.jpg', 'E13_jpg.rf.9cdfaa0369584514cccc3aaf485a5700.jpg', 'E13_jpg.rf.b70e0110f9b3743c9d28290386c5f9f6.jpg', 'E14_jpg.rf.52fb03b8e3406c43aeee2634d4b9e634.jpg', 'E14_jpg.rf.9d3ca3c5261d137ba721468a940b6278.jpg', 'E14_jpg.rf.c330e7edf83753ed65ef97feafee2088.jpg', 'E15_jpg.rf.0d71ac2f5adfb52e792cd89955053a3c.jpg', 'E15_jpg.rf.89853e78fd8a337e5d446d84014dde22.jpg', 'E15_jpg.rf.a884ecedb540c62c8d690ca4ec362a27.jpg', 'E17_jpg.rf.48830d5801a2c32b00f41d2d41130ce8.jpg', 'E17_jpg.rf.beb822c9c74788af927404aeae0b0603.jpg', 'E17_jpg.rf.da62b33e25f610a21f175cb53b281dc4.jpg', 'E19_jpg.rf.03adb1cb9c07c2f87819ec60374292a6.jpg', 'E19_jpg.rf.3e5941cf04af4a46a650bc790d898050.jpg', 'E19_jpg.rf.8c4fff2f0a825c0fe470a2c45bbafc9a.jpg', 'E1_jpg.rf.98de11acfb050f5e0847cbb560020b67.jpg', 'E1_jpg.rf.bec34c68f857116bdde382da4ae0c987.jpg', 'E1_jpg.rf.c2d0b4dca17583fa46d4bdcbe48f076b.jpg', 'E20_jpg.rf.0c2f2a53e48b8c04f0135ae5aea94c28.jpg', 'E20_jpg.rf.d053faf8fb27b633eb6f61ad18e05beb.jpg', 'E20_jpg.rf.dab1c76af6166934afcd4472af058c87.jpg', 'E21_jpg.rf.51491a0bc611157136194f07c6adbc25.jpg', 'E21_jpg.rf.5fd2157e2c764e0b5541ea4e86d9fafd.jpg', 'E21_jpg.rf.d8a1653917b92a431b06dac55d80d2a5.jpg', 'E22_jpg.rf.ca32946c2899e1fd726aba1432dff317.jpg', 'E22_jpg.rf.f3cfb15b3d92c28458c889954f84221e.jpg', 'E22_jpg.rf.f496928527e50a468feea183f12307fd.jpg', 'E23_jpg.rf.9485760eeb9a0c6823409be50e7a6e9c.jpg', 'E23_jpg.rf.98584276a6e06290bd36fb6089f0993b.jpg', 'E23_jpg.rf.b2ad66a64303f7902622a2e9a1ef0996.jpg', 'E24_jpg.rf.6733cc3a125d76c82ca1a18d40462951.jpg', 'E24_jpg.rf.711de31ed4425249c1f44b8dd7bb0782.jpg', 'E24_jpg.rf.ba950c5d34f85b052abbafe1aff3dfbb.jpg', 'E2_jpg.rf.6eeddb11245b421c50cbb48826cfbc8e.jpg', 'E2_jpg.rf.721d43e3aa806370a2e9379691cc1672.jpg', 'E2_jpg.rf.748243111b76bded15a150f037cc921b.jpg', 'E3_jpg.rf.09ce9eceaceaf36f354bd7daa7066786.jpg', 'E3_jpg.rf.4709743a44e8effc00a6c74f77392098.jpg', 'E3_jpg.rf.dec1dd782cd2605be420f2e323490a19.jpg', 'E5_jpg.rf.1aad8b0b2a65b6156302d52b5b78aeb1.jpg', 'E5_jpg.rf.36117c618b48780483075dfa5afbcae0.jpg', 'E5_jpg.rf.42df15f3c5b17be952ddcc2eb89f43da.jpg', 'E6_jpg.rf.5eb459eebe6df3ffed0635c0b5d3d133.jpg', 'E6_jpg.rf.a453b4401ef0fab25fcac0d93f9b82d1.jpg', 'E6_jpg.rf.e7d7ced1926a2685c0db9b7327b921bf.jpg', 'E8_jpg.rf.85fe7c9446843c863359c4f3080d22a0.jpg', 'E8_jpg.rf.872d78bf44eb1491067ce2379bbcba63.jpg', 'E8_jpg.rf.c04689d113b2fb519a4e865e83eb3f24.jpg', 'E9_jpg.rf.52e2a092172ec7c292261ead7f339f9a.jpg', 'E9_jpg.rf.e4be457b7c5fde84b6fc2b89ee6d894a.jpg', 'E9_jpg.rf.eb345266e9f9e314cb9c2fc56175ee5e.jpg', 'F10_jpg.rf.375096dc7c2ddf775324658a01431ed2.jpg', 'F10_jpg.rf.529502a9582c44b5efc0e71680e60af5.jpg', 'F10_jpg.rf.7f9b99c4c277fe74888242c4fb4644cb.jpg', 'F12_jpg.rf.31ab6bf5a643900b440a211cd55649f3.jpg', 'F12_jpg.rf.947f58b868087804a5ef061dc9212979.jpg', 'F12_jpg.rf.e35ff1c3f6f6f1ffb5b28100cbf64070.jpg', 'F14_jpg.rf.2d20e13d2f0dcb307c9e008a2df9ae21.jpg', 'F14_jpg.rf.2da95110727946f861eb50662a93220d.jpg', 'F14_jpg.rf.8b9d4f880e496a3dfe809e5f7c828c01.jpg', 'F15_jpg.rf.631e856fc730fe966eef86abb3e4410b.jpg', 'F15_jpg.rf.c7edf087f643464850fb46c6e8bc9100.jpg', 'F15_jpg.rf.d522797f5b163bcba13c72743c420087.jpg', 'F16_jpg.rf.3aa326f48490903589f25175a8d21644.jpg', 'F16_jpg.rf.4017054def7bbe62e23206d2202d506a.jpg', 'F16_jpg.rf.d15582906f9f73d63a5318b838cf9243.jpg', 'F18_jpg.rf.6f0e32135858141b77500c8dfb179671.jpg', 'F18_jpg.rf.7a70d343c25dc9d52a65b4a47c7f1d8f.jpg', 'F18_jpg.rf.9a7b544fff018ccb6a4bd9665227ff8d.jpg', 'F1_jpg.rf.b2b49edc044cc30783672536b5d8b34b.jpg', 'F1_jpg.rf.b536457cc6fef78f895cc84c6695d045.jpg', 'F1_jpg.rf.f5459d11bc81b99cde341e0d20dbf8b1.jpg', 'F20_jpg.rf.131342663069ad6669e0b7e5abc8ee1e.jpg', 'F20_jpg.rf.24a43f9fe907e7ffd1597e3e7be52eff.jpg', 'F20_jpg.rf.62ecabee608acaa89bdfa48bd3da0a25.jpg', 'F21_jpg.rf.90742972e8f9b3cfa5479979d1082087.jpg', 'F21_jpg.rf.9b99aa0e2548d5402c0037be16ff9e55.jpg', 'F21_jpg.rf.fa5b9282b28dc834e6ccc651a8658d7b.jpg', 'F22_jpg.rf.46a53e9ae0da8c411503252c0d4d7e33.jpg', 'F22_jpg.rf.85930c01f0ef7a19965ff7d0ecb42b32.jpg', 'F22_jpg.rf.8ca21bf3c09823e909ee9f1cfa529480.jpg', 'F23_jpg.rf.3d577c1dedc09004aacb39bcac1fde5e.jpg', 'F23_jpg.rf.81de6f7314e22fdc8172d39fc53f79d4.jpg', 'F23_jpg.rf.e08ca8de25b051cdb9eb538e1a0d6d8c.jpg', 'F24_jpg.rf.b9170384f1e8eed05fd1c7d43d1e9791.jpg', 'F24_jpg.rf.d0a9e90a810bbab03a8b4d2f667511ae.jpg', 'F24_jpg.rf.e4ccc288f2b8163f2722ef3d76156063.jpg', 'F25_jpg.rf.169290765d5a4a068dddde7938731140.jpg', 'F25_jpg.rf.189a0ca55890a032268f9915dcc33bfd.jpg', 'F25_jpg.rf.9d5bda605fd7aa571fa748e8eee701f2.jpg', 'F26_jpg.rf.174dd60efde10c2c2fc546deadf52819.jpg', 'F26_jpg.rf.735bb4b6855a28036183869c7fb1bccd.jpg', 'F26_jpg.rf.a767b221403599201d5d6de1810a342b.jpg', 'F27_jpg.rf.3e193ef7fb4c2800a2c38851d4a5d8de.jpg', 'F27_jpg.rf.41074fc0b74a00965d42cf0ad0129d42.jpg', 'F27_jpg.rf.be9b0d9aefcf449b13aae2cc6c4e2bd2.jpg', 'F28_jpg.rf.c20e2e02538ea329611d6b0ddfdccca4.jpg', 'F28_jpg.rf.cf021193e8699482a052182b9a702df6.jpg', 'F2_jpg.rf.1aa4f11370d8b547189887a2f5f72789.jpg', 'F2_jpg.rf.294eececd5428a6c285fdc03ff69f3aa.jpg', 'F2_jpg.rf.f31ee91e80ba2977909f10607822c336.jpg', 'F6_jpg.rf.6f13aaaea25b64f2bbc2beaa3affba2d.jpg', 'F6_jpg.rf.bdb7737a900ba915c126df9acefaab2e.jpg', 'F6_jpg.rf.c2fe637ac9f55e199bcce4d63ed1f5ea.jpg', 'F7_jpg.rf.b6a0c878d34f138eebc6a3a1918a6451.jpg', 'F7_jpg.rf.d664a05e0dc321f90ca37913cb642e2c.jpg', 'F7_jpg.rf.e9abd1748a86060202e1d2bb4ed8785f.jpg', 'F9_jpg.rf.0fa3250e30baea4b3c0ecef7979b3286.jpg', 'F9_jpg.rf.afc9ff9c2517e82fc3f615f162c85b51.jpg', 'G0_jpg.rf.2222fe09b7dc56de0a5a79ae85340e7e.jpg', 'G0_jpg.rf.3ff46e25c51b7e279fabd2bab54849ad.jpg', 'G0_jpg.rf.6b5090b1ae0cd1b2795787526d604ef9.jpg', 'G10_jpg.rf.29753c0d5b6c5e4741728458c9c092c0.jpg', 'G10_jpg.rf.5536052b296876e4817ef74c2fd8e699.jpg', 'G10_jpg.rf.c48072f71188f1f59e8be7d4be43333c.jpg', 'G12_jpg.rf.1dbc20f6562d440c653a56f0b50a12e0.jpg', 'G12_jpg.rf.88685bc1905632743df88f96129010d1.jpg', 'G12_jpg.rf.90310ebd3c36d24cf88223249cc4dbeb.jpg', 'G13_jpg.rf.0eb86284f1259e8307482042ba20acde.jpg', 'G13_jpg.rf.182d2c690764f43eea9bafce110bdb2f.jpg', 'G13_jpg.rf.99708bb8b45e737ce6e06715e871f35a.jpg', 'G14_jpg.rf.40c46c5a2c81dec02b1dda9ce381248c.jpg', 'G14_jpg.rf.8ec6f1499179ea42514583d5e5256f04.jpg', 'G14_jpg.rf.9ce7480c5645b5bce2ad80848f287ef3.jpg', 'G15_jpg.rf.2e413381d29f76c73a49e859221d7a98.jpg', 'G15_jpg.rf.5876a128460e7f3ac470aeb54dee30e5.jpg', 'G15_jpg.rf.b241e477e034aeafa44923105ffb6462.jpg', 'G16_jpg.rf.2947d2d69c06853d8e74f15f50e5c932.jpg', 'G16_jpg.rf.bac613201f04af88ba9c2f852b4030e3.jpg', 'G16_jpg.rf.db99088bbd2208c62cc884a53c123a53.jpg', 'G17_jpg.rf.665fff7cf97de5cbfe0c5aab85315cb7.jpg', 'G17_jpg.rf.763fa1b76ff200353e182dfd568cd5ff.jpg', 'G17_jpg.rf.a30206fdfc67ec6fc083a883861f8232.jpg', 'G19_jpg.rf.67b0939a47e8002547a2bf394689171c.jpg', 'G19_jpg.rf.7e2448dd38a6a1705a6c8a25448fbbc1.jpg', 'G19_jpg.rf.aa608c023c471250ef3239b804c4b286.jpg', 'G1_jpg.rf.7568552aa87d9865efde6425c32be7de.jpg', 'G1_jpg.rf.e23ef297d798d950e5365ec7ceb67c78.jpg', 'G1_jpg.rf.e56f590c0f308a11a04f3bdce2dc6ca0.jpg', 'G22_jpg.rf.644edb54095792f45e6352423d942167.jpg', 'G22_jpg.rf.65efd098874a85be9921f80c29d0e149.jpg', 'G22_jpg.rf.a79cc6cab726e7f78a46cc950bb0b61d.jpg', 'G24_jpg.rf.052408626298f0efbbe5558be36f8eec.jpg', 'G24_jpg.rf.83dd3b1614390f8f5cdd282bb430adc2.jpg', 'G24_jpg.rf.da956f3cb163fc28fbb2c40acacfcbdf.jpg', 'G25_jpg.rf.56ed7b378aa7e5b21610898872f6e8c9.jpg', 'G25_jpg.rf.742c3fd9b3cc24e9e9116d00c93af002.jpg', 'G25_jpg.rf.8dda3513dcfbf5bc012a99b746e1fa29.jpg', 'G26_jpg.rf.9c861f2020bd1ce65d6c482f3f77d685.jpg', 'G26_jpg.rf.c5005ed8f2c0b922daf075fb55935183.jpg', 'G26_jpg.rf.fefc996b057cf71d887a58790e749a40.jpg', 'G27_jpg.rf.80f7b7d95852217267c869215cf553ec.jpg', 'G27_jpg.rf.e5ed5c9886bdedb3155754942d7091b6.jpg', 'G27_jpg.rf.f35297295ba6781d3f491d7292193d95.jpg', 'G28_jpg.rf.5b7818b08fa36445abdf6548b507ab71.jpg', 'G28_jpg.rf.63c021935e44a556922324e0f3cb202e.jpg', 'G28_jpg.rf.d43ba628ac495614767a4df232f717ac.jpg', 'G29_jpg.rf.60b510183a79b75eb505aa2d367e027c.jpg', 'G29_jpg.rf.968547c6304335161e63e584b5aee88c.jpg', 'G29_jpg.rf.aa3ef925611579274b07ea877f0079d3.jpg', 'G2_jpg.rf.08fcc78ad2947b1388b36e1b7bac9ba8.jpg', 'G2_jpg.rf.1c4e9ee1b552db25aeddd9a424da1803.jpg', 'G2_jpg.rf.bdc7c54c9686150a8cb57fcf75363612.jpg', 'G6_jpg.rf.5d728526d6ac4f85400bf5ecfd290140.jpg', 'G6_jpg.rf.c0d2c72af777b8e257661dc99e14fbd6.jpg', 'G6_jpg.rf.f5169c7994cb751dc5597b04839981a2.jpg', 'G8_jpg.rf.73c0965e0385fbaad09563e9c0fb0b3b.jpg', 'G8_jpg.rf.9d43870cc9de9f32f2aa6c5f72a218f4.jpg', 'G8_jpg.rf.cf478411d1b704e96cc6ba45cc0f16cc.jpg', 'H10_jpg.rf.1131a19756b00e1330ebbf48ba825fb4.jpg', 'H10_jpg.rf.e2b0a3468ecce741d91ab61a51575a73.jpg', 'H10_jpg.rf.fe39a157a684d4308da84521136e4616.jpg', 'H11_jpg.rf.5b314ab9b43555e954a88330852bb4fd.jpg', 'H11_jpg.rf.866a3ea0b5bd292f432cd794f6f6ddc7.jpg', 'H11_jpg.rf.bfa1137c05329646d045a927cf86d64d.jpg', 'H12_jpg.rf.b8f216acd9660607b978fb99831e59ba.jpg', 'H12_jpg.rf.d67cc0a5527bc602e3ab394e8af0fe88.jpg', 'H12_jpg.rf.ea382ccd0a32e108fb9831c11c4bf54d.jpg', 'H16_jpg.rf.05c46f831cffdc3891fefb7b9c85c245.jpg', 'H16_jpg.rf.edd4c126f81b722ff304f5d640d6fdda.jpg', 'H16_jpg.rf.efab3bbc204d535510ac98e25fd78e77.jpg', 'H17_jpg.rf.4bed0d93109d8220535cd055471b9a32.jpg', 'H17_jpg.rf.5c989945cb39cfd4fdb38f5afa551e64.jpg', 'H17_jpg.rf.73276e332eca3ab2b3a85ef5a3622d64.jpg', 'H20_jpg.rf.0ca90b98b915c946a5b147378168b4ab.jpg', 'H20_jpg.rf.9c6d8e690d31c585012aaa1430dfae3f.jpg', 'H20_jpg.rf.ab309d2b0eb9479cc7835febf3b9c616.jpg', 'H22_jpg.rf.5ebb11ec9e3fd46bb56fce2663d185a0.jpg', 'H22_jpg.rf.a71e7c9880996ecaeea135c9633759e9.jpg', 'H22_jpg.rf.a80e462860522510eefe48f86c9a13b8.jpg', 'H23_jpg.rf.10cac222264f658874afe5a81f2bd05e.jpg', 'H23_jpg.rf.405372e9d823080d48fdacb4dc613d0b.jpg', 'H23_jpg.rf.bb5ece9f24a40d99d9ccd48109a993da.jpg', 'H24_jpg.rf.198d964e1c6eb80bf1d964135394b8aa.jpg', 'H24_jpg.rf.2e437c2d2e57377cda94bfe4e081de87.jpg', 'H24_jpg.rf.f5d4c34c5a8388d0a118b4ab27386f26.jpg', 'H26_jpg.rf.b36736eeb0a3e59be75f375eb810b1d9.jpg', 'H26_jpg.rf.cee7074040552447133b88cbcd1ae2ca.jpg', 'H26_jpg.rf.ffff0c00138833f9d0af10e1bdd96a92.jpg', 'H28_jpg.rf.5cca76059694bdf6e1a61cc4161ce9cd.jpg', 'H28_jpg.rf.b9184ad9011c1b78f9b96732dc8523fa.jpg', 'H28_jpg.rf.dffab474ca049c120e366ab3d1aed190.jpg', 'H2_jpg.rf.101c9823d55a396ecdc697bd752e4264.jpg', 'H2_jpg.rf.5939853e24a645b6ea75c6e9ba5f30df.jpg', 'H2_jpg.rf.b226b7a5cedb4c1556e8c66cc9b84e3b.jpg', 'H4_jpg.rf.279c46d58dfc8e8caacb6d75bf422627.jpg', 'H4_jpg.rf.55b5a421789ccf6fd469f285544f40c5.jpg', 'H4_jpg.rf.c8da594ad01578ae4c4c0d704f26370a.jpg', 'H6_jpg.rf.29995f175e5e8165adcb5500b1772de4.jpg', 'H6_jpg.rf.45d4bbc9cd7a79d81436d504a43eabdb.jpg', 'H6_jpg.rf.e773bd5e14dcd2dbe4feec13e4dc9e34.jpg', 'H7_jpg.rf.25c0528a9222698d3cec1083b33d0ee1.jpg', 'H7_jpg.rf.93a509822c80da189ee81e5bdd13b9d3.jpg', 'H7_jpg.rf.df496fd2dbf0eafd762879c9f0ef854f.jpg', 'H8_jpg.rf.2682161dd2e89bf24607fc165db0d812.jpg', 'H8_jpg.rf.48b2a75ec52bb9caf21b275a18dc010b.jpg', 'H8_jpg.rf.aa46c1686dc8d5f94321742af853653c.jpg', 'H9_jpg.rf.2550697d86efdf2d0f0c7130afc7a232.jpg', 'H9_jpg.rf.59d0732554e949e53a84024425010658.jpg', 'H9_jpg.rf.691283bcdba589e505b991e02fd5b2fe.jpg', 'I0_jpg.rf.dd23a9120e68646ace87d5430f02415c.jpg', 'I0_jpg.rf.e5e9009756f17d76400334f1d56d58bf.jpg', 'I0_jpg.rf.f83c8bb874b00ca35872a122df363ebb.jpg', 'I10_jpg.rf.0d59d031aace3a57bbf12bffa0dc4364.jpg', 'I10_jpg.rf.318c30e20244efc14362a77a30c77ee9.jpg', 'I10_jpg.rf.9018ef61bf5a5b175a4acd6f6491f2da.jpg', 'I11_jpg.rf.2503a5f467e6a82d44e56e7dd4c0ef33.jpg', 'I11_jpg.rf.c0506aa4ace72efce1dd0902fe7347e2.jpg', 'I11_jpg.rf.fb348858fcc336644fbaab3dcd9b8d96.jpg', 'I12_jpg.rf.13fbc2a832f8f584996b59083ab92f26.jpg', 'I12_jpg.rf.75782a697db08606ec534a432e274f14.jpg', 'I12_jpg.rf.ce03776d7aa1d193739b3e6106cd15f2.jpg', 'I14_jpg.rf.10b6ed06314c7c960d772fb9af68637c.jpg', 'I14_jpg.rf.3ed71fb28949c162f4218ac6c63baf86.jpg', 'I14_jpg.rf.a6bc3f44f7ec6edadeb00c539fc245e0.jpg', 'I15_jpg.rf.4d9be3cf7ba8b6b6544641461b90ade4.jpg', 'I15_jpg.rf.9d94916bdc29d889f3ebe725319007e7.jpg', 'I15_jpg.rf.b2d96016ae31a648fea738c82de413e8.jpg', 'I16_jpg.rf.013e3d38925e400b1cc66b7020df4b14.jpg', 'I16_jpg.rf.0d479fc8b2c4473fc99517163afb566e.jpg', 'I16_jpg.rf.22a22b8a723ce1061949745ac7a4c0e2.jpg', 'I18_jpg.rf.3f116bc0da2996e4a8d677e3e36c541a.jpg', 'I18_jpg.rf.7ca35205d31c560bd3a6ad55ad5fd7d6.jpg', 'I18_jpg.rf.ed15bda895d4caeb4375d94fcd02e6c0.jpg', 'I1_jpg.rf.09b459119aa01936b80be7de105b2f1d.jpg', 'I1_jpg.rf.1ba7ddde114d0b5e24e75d0866411e34.jpg', 'I1_jpg.rf.71d34aa95d254e27b4902bae8aec9aaf.jpg', 'I20_jpg.rf.3c56bcf9f09121c91e2ce0fc71e4e221.jpg', 'I20_jpg.rf.583d2cee6123deeac5c78ab9b2738fc3.jpg', 'I20_jpg.rf.60e6e06766c0592a049ea5b2aef579d0.jpg', 'I21_jpg.rf.5b34b203965e875c28864f1293e55d88.jpg', 'I21_jpg.rf.9eb0d5893b72ca427b2876d4a4ee7a43.jpg', 'I21_jpg.rf.d0788e6d5b30117dc2ccce9fd3a3d3c7.jpg', 'I22_jpg.rf.23028bf39185f2b87c5e82c3ca25c633.jpg', 'I22_jpg.rf.40670bc9269c290450faa5f42390d09b.jpg', 'I22_jpg.rf.58c6f574df76b272104d11a10e175b55.jpg', 'I23_jpg.rf.6e5b9f22c7ccdc54147b968fa93d4eb5.jpg', 'I23_jpg.rf.b01ac8d3b4a32dd76c0394d84e84fc52.jpg', 'I23_jpg.rf.fce421c49adeb440d24def20bdbc52e5.jpg', 'I24_jpg.rf.6f68bf3eb0a011b54762cedb022fcd31.jpg', 'I24_jpg.rf.7539b63919a441a247901427b430b643.jpg', 'I24_jpg.rf.7745e2460d71e14fed49c9facec5fbee.jpg', 'I25_jpg.rf.03a1771e17aea432f22531849a4dd2d9.jpg', 'I25_jpg.rf.e7b0318add214ba447e309ead0c78a94.jpg', 'I25_jpg.rf.f3fb005ba3c8be24d911289b3a1e252a.jpg', 'I26_jpg.rf.1e93d4793fde7dbc29e296e7ac4e9639.jpg', 'I26_jpg.rf.b4a6e6b0ea4f6429ca6ce322dd541468.jpg', 'I26_jpg.rf.b9674650d716d75f5997c3f98c2d851a.jpg', 'I27_jpg.rf.18aeb95363b719660961286923157c92.jpg', 'I27_jpg.rf.3cf6bfcbb0dbe818ca957593f126b099.jpg', 'I27_jpg.rf.c10fddcaabbcd843587420d0b9235200.jpg', 'I29_jpg.rf.049c3224f812567ccc88b3864669c92a.jpg', 'I29_jpg.rf.12be32cea1ae8da35a59ab09b2541508.jpg', 'I29_jpg.rf.89c3111a875e936d8c897a044d2c70c1.jpg', 'I2_jpg.rf.c050dd0aa862f1a898671064012c010b.jpg', 'I2_jpg.rf.c734552e83f07100ba40a60528fa2cd5.jpg', 'I2_jpg.rf.edfb7812d5c6e0a9c5d373943c023f41.jpg', 'I3_jpg.rf.0b07ca695f6d76cf4c3437675d38b818.jpg', 'I3_jpg.rf.95ef4f3d841f0a707fc0cef9a4443f06.jpg', 'I3_jpg.rf.fbc1050b3cd5305d56887290fe383d7a.jpg', 'I4_jpg.rf.5b3c34dafc2383c1ba6217492eacd89d.jpg', 'I4_jpg.rf.8dd75c82d090cbddb8081b02209929b2.jpg', 'I4_jpg.rf.d06620e06880f151054e068958bc5647.jpg', 'I5_jpg.rf.33b1ee0f7b90a7b4e1b5704205c26b80.jpg', 'I5_jpg.rf.b2fa1ea91b125d01216d94cfe28fe58f.jpg', 'I5_jpg.rf.f1698117d0941ddec9ad88a0fbc7f1a0.jpg', 'I6_jpg.rf.23d77e37c4e329f1e0db907f326e277f.jpg', 'I6_jpg.rf.54c61e0c5b87c3dc942b6ab76313f20b.jpg', 'I6_jpg.rf.f217cc531b499011484cf225e427cb92.jpg', 'I7_jpg.rf.3aa446d20ddd7f6f8d08f91793a30fbf.jpg', 'I7_jpg.rf.6a96c796ab2df5319cf7609d774e52cd.jpg', 'I7_jpg.rf.ed7f8e1de6d0fc75ee5fbb00a7f78967.jpg', 'I8_jpg.rf.3314e8df0b00215c87ee28c1a62480cb.jpg', 'I8_jpg.rf.99370d23310a2f0f236b5670814cda09.jpg', 'I8_jpg.rf.c7d8c84ad23c332b6b1d866f65476663.jpg', 'I9_jpg.rf.4402d6143ffe2d59aa47248aa5baa5c3.jpg', 'I9_jpg.rf.525d141237bddba6c5d6cf8487a90016.jpg', 'I9_jpg.rf.d4beb68d7c0a2e82b1c0a7863d5698cf.jpg', 'J0_jpg.rf.08b803670487357e96bba961b30a3e4f.jpg', 'J0_jpg.rf.2a82b2ad75988777f56b80e91faabaaf.jpg', 'J0_jpg.rf.a98481c371cbc1cf43df3f93ac2619fb.jpg', 'J10_jpg.rf.481587c63449f5147f72f5779785dc8e.jpg', 'J10_jpg.rf.6500c798ff27e4e780d2f483226a58c8.jpg', 'J10_jpg.rf.9b3e3baffa811b39e67b561dffaa2d5c.jpg', 'J11_jpg.rf.509c720f99325f7680aecb61c114c76c.jpg', 'J11_jpg.rf.51a3a2e68ea421c42eefc3fcf620605a.jpg', 'J11_jpg.rf.eaa33e65d183ab4a06960fa05dd9bb9d.jpg', 'J13_jpg.rf.16666634a8e1fd27c031d702669a2d99.jpg', 'J13_jpg.rf.285d6f0775b63400e007829ff835a509.jpg', 'J13_jpg.rf.c60159742f662b4f59067154671ef03b.jpg', 'J15_jpg.rf.ad15fce0bdc42d09c7fb0548ef57aeba.jpg', 'J15_jpg.rf.c49aecf55f3e29667b8a52386d5b03cd.jpg', 'J15_jpg.rf.f99f7bfe194a1f26420082c189955b2b.jpg', 'J17_jpg.rf.0fe52e614ccb63d2835d36e7c0588357.jpg', 'J17_jpg.rf.1a0f87de50d9d2bdd755c281fbfa3546.jpg', 'J17_jpg.rf.70cd3013bcc642b076e4ca4509d5bac1.jpg', 'J18_jpg.rf.1ebbe1dc07b88fa10b7302d06d4b4d89.jpg', 'J18_jpg.rf.8fe65a892867a320e7fcd775ddfda33f.jpg', 'J18_jpg.rf.e10af1b878ceaf0d1971ab78fa2b586c.jpg', 'J19_jpg.rf.5c008406cabaa44202d704f6f9e4eed2.jpg', 'J19_jpg.rf.77801845c997207a19fede8ff3e913cb.jpg', 'J19_jpg.rf.7dde4e4a356fc98b96eb0d60cb99b9c9.jpg', 'J1_jpg.rf.3d305cad4e42c38cad3c1284fe4df4dc.jpg', 'J1_jpg.rf.5a3920bffa563add2d4511f7ba3b489d.jpg', 'J1_jpg.rf.f8a98525b1a7bbb833ff93920358af15.jpg', 'J20_jpg.rf.5ace67bac6c05b9181f942f5e0e13da9.jpg', 'J20_jpg.rf.690a5028c12a99134c4170085ef571a6.jpg', 'J20_jpg.rf.aad076425d115492b727dd1e86557983.jpg', 'J21_jpg.rf.466f2a7de5e2f066fb577296346db162.jpg', 'J21_jpg.rf.740ff96ff6436ce68c558ad91e8f0c56.jpg', 'J21_jpg.rf.c89ed2306533ebf0b51f42a997f3ae34.jpg', 'J22_jpg.rf.9b93496cf31417035860c2ff6d699fa8.jpg', 'J22_jpg.rf.b9e295a8c2716ec14543d619b5b977f6.jpg', 'J22_jpg.rf.bfc9a60c8a2d231b20bc90d57a86a0d7.jpg', 'J23_jpg.rf.5a72da850251d730afa8b929882647df.jpg', 'J23_jpg.rf.79b2fdf4a386b47b7c4959aac372fe3e.jpg', 'J23_jpg.rf.fe06c8547c6d982b26af3717d43aa36c.jpg', 'J25_jpg.rf.2f6b51efee66167f090e38fac69082d3.jpg', 'J25_jpg.rf.5939918d50f9c98c144002810ee755bd.jpg', 'J25_jpg.rf.d8f995644bd2e5e4b2e68ab7d3365a2c.jpg', 'J29_jpg.rf.2020af3831c870cb38154bb007fd7518.jpg', 'J29_jpg.rf.784cf3f69092a40853087d01b51b7ca1.jpg', 'J29_jpg.rf.bdeeadf684c2a81ce4647fd1bc696744.jpg', 'J2_jpg.rf.41063382ccd4db83c89dc1519cabdcb6.jpg', 'J2_jpg.rf.4a93a10c0fff0d9515ea08e46f74b379.jpg', 'J2_jpg.rf.5aeb7bffffd7a9292fae1317b5340a49.jpg', 'J30_jpg.rf.2f54b188f06799d953606b4b83336291.jpg', 'J30_jpg.rf.47c6a35993746da7d9ea2046c3804e01.jpg', 'J30_jpg.rf.623ba9d23e82903d8d094c24c4fc900c.jpg', 'J31_jpg.rf.8443d779c5fcbfe90b5ba391d3bfd249.jpg', 'J31_jpg.rf.8457059c299625ca3d7f998baa63cb08.jpg', 'J31_jpg.rf.f9518cdc3bcbb86751da1725a1473d3a.jpg', 'J32_jpg.rf.115ddaf6e3eee68893454202ae0226d3.jpg', 'J32_jpg.rf.bfd81a4cecd809daf4895792a1e75c49.jpg', 'J32_jpg.rf.c685ac11c1982c3278b1b458456d3a34.jpg', 'J33_jpg.rf.430bb3fb5d4d12f990309a0ad03ab71c.jpg', 'J33_jpg.rf.4329606f9250fbc404ffbb9915d673f5.jpg', 'J33_jpg.rf.6372e748ac83edd8d836267391cfe37b.jpg', 'J34_jpg.rf.3c83816fb66a4db3aa29662215f7edf7.jpg', 'J34_jpg.rf.b2c7e7d860004732ed3b390942f3bbee.jpg', 'J34_jpg.rf.c5447c2a24608b49e9c27f9bc40cc1a0.jpg', 'J35_jpg.rf.60b987ae2938e36c4be3dbabaeb43f15.jpg', 'J35_jpg.rf.94020a2abeb90490736e536a7f3a50b4.jpg', 'J35_jpg.rf.da9958cee9a54a14ad660ad6668e5d7b.jpg', 'J36_jpg.rf.d6f6116ac9f2bc0df076339fc6166f0c.jpg', 'J36_jpg.rf.f0b169f2f4e41f0a0b6a99c31493d998.jpg', 'J36_jpg.rf.f9c570006afd752b0841116497963eaa.jpg', 'J37_jpg.rf.059ad3814a509f9a77b2da7d7aa38abb.jpg', 'J37_jpg.rf.8ef7a282cb2e72d7575032723b2c041e.jpg', 'J37_jpg.rf.e34531d991174cdba1ecdab032ef6781.jpg', 'J3_jpg.rf.42a2b53796605e4688503831734cc18b.jpg', 'J3_jpg.rf.82bd6b428c98861e32a1e06774529a9c.jpg', 'J3_jpg.rf.a13b3332cf7c95b4fe8ec35790429afe.jpg', 'J7_jpg.rf.064bf0fa0b69507438db742bf49cc586.jpg', 'J7_jpg.rf.42c00c951b5f2f7615367d81f4a3c6a5.jpg', 'J7_jpg.rf.9545801e95d59c98a230740fc111cac2.jpg', 'K10_jpg.rf.68976dd3c4fcc87859e498f23f0cd8d0.jpg', 'K10_jpg.rf.9f34dff3a06c323739b96e74d131a729.jpg', 'K10_jpg.rf.ae1c2c855b5466b19dfe63bfbd5295ab.jpg', 'K11_jpg.rf.14a19a3109007c5a26d6a2c6f54197b5.jpg', 'K11_jpg.rf.491384ec29de9d90ed7c4b6f0392c5b7.jpg', 'K11_jpg.rf.6c404a651555c8b01dde76ddb0dee8d9.jpg', 'K14_jpg.rf.667657accdb68aaee92e074d9745f2bc.jpg', 'K14_jpg.rf.6e9a1ea45df53677c905f4ba44eacafb.jpg', 'K14_jpg.rf.9eb5cf78b6363abbdcffb2bbbe7cd315.jpg', 'K15_jpg.rf.3369ccbf437616f7f4eb77b04b36e285.jpg', 'K15_jpg.rf.8507b29236e15b23a3d6579ef2cd819f.jpg', 'K15_jpg.rf.b33e5c3d848ad7b5e1f59790038eaa12.jpg', 'K16_jpg.rf.7a4afcdc55b04986cc51ffa83c1698a2.jpg', 'K16_jpg.rf.d5ab3b4f4baa926c26c138083edeec9e.jpg', 'K16_jpg.rf.df11efad454eee3e79574e1d7c737105.jpg', 'K17_jpg.rf.33c113b4bcc2433fcbe6a99cdf59a629.jpg', 'K17_jpg.rf.7f6e5afeb9f6dd00bc32e2c71050abcc.jpg', 'K17_jpg.rf.e5374fbc718e1082934d9d480a9afc92.jpg', 'K18_jpg.rf.38eed0698f7e52032a2b708c83718e7a.jpg', 'K18_jpg.rf.5141c8b4dc3291b08de50b653fe6dc5c.jpg', 'K18_jpg.rf.bcd80b1375d1824a46ea33fa26fa33ba.jpg', 'K19_jpg.rf.31d20b71c87c221e13ade56d7d3a9b12.jpg', 'K19_jpg.rf.d9c9b83b99d0491ecfc8dcab29c7841b.jpg', 'K19_jpg.rf.fab8c3cb63e372d746644e04e58a9459.jpg', 'K21_jpg.rf.136e96d239fa8de609c6eb76c0c83181.jpg', 'K21_jpg.rf.5421d6040cda4e3826e879465af9a17f.jpg', 'K21_jpg.rf.c2c57c788926ebb268c22b99bc8acd1a.jpg', 'K22_jpg.rf.129002d2f604d4c776f4e6b88b42046d.jpg', 'K22_jpg.rf.368f654bfb52b57bceed6fd2b3db00da.jpg', 'K22_jpg.rf.b01f56542af95931287d8168ccbcee5e.jpg', 'K25_jpg.rf.24223f3adf21b60e9e6f34db462713af.jpg', 'K25_jpg.rf.45c9271b7b9a1512a53081c05aae5b35.jpg', 'K25_jpg.rf.5b74b844dd585d10a671d5e9a3bfc161.jpg', 'K26_jpg.rf.1585d017599f88841a5d040f43bb5381.jpg', 'K26_jpg.rf.5803dfec8f17a3a853d9bb289fbe60ec.jpg', 'K26_jpg.rf.6947436d13381d59fee2d44475f5498c.jpg', 'K2_jpg.rf.3a58cb14afe7b7522c239cf6b92c5979.jpg', 'K2_jpg.rf.85dd3d3b8640d3b00648400f92012a4f.jpg', 'K2_jpg.rf.9fb4c165a6a305f483af33b7d446633a.jpg', 'K3_jpg.rf.233f4fd59b171d6cd3224c8f9644e144.jpg', 'K3_jpg.rf.677ada9146553bbe0ccd7c40b28d7bb8.jpg', 'K3_jpg.rf.67ff2b9079fb4ef8d254549cae361917.jpg', 'K4_jpg.rf.00db3057fbddb8e4c5d3c1130d2b20eb.jpg', 'K4_jpg.rf.4286beb93fc5fe49f8cbc532087fe070.jpg', 'K4_jpg.rf.9c7543e3db58dad67f8eeab3f621389d.jpg', 'K7_jpg.rf.ae85f2d431f1543d2b1b013a490efd9a.jpg', 'K7_jpg.rf.c5f4770eb0d75c99fc9defbd97fc8b73.jpg', 'K7_jpg.rf.ec129072c8ef1b9e9606a2066091cb5f.jpg', 'K8_jpg.rf.5d19190e8bb71f74d811a20aa617a075.jpg', 'K8_jpg.rf.95acf3e9c1071b310caa9e9334096beb.jpg', 'K8_jpg.rf.bd2e80711f728f1961a616dcfe40fb43.jpg', 'L0_jpg.rf.6ec631c634e67ff847fab455604c69f8.jpg', 'L0_jpg.rf.7b4f30d25ba13a4c8e483c33af436a6f.jpg', 'L0_jpg.rf.ad5523cd66ea389cf660debda5102c70.jpg', 'L10_jpg.rf.040e909ed66738026120b25cdab70ef8.jpg', 'L10_jpg.rf.1e99788395df62ea3067ee2242a72d31.jpg', 'L10_jpg.rf.8f81a57bca3a6af16b9a6d3c320554c9.jpg', 'L12_jpg.rf.0a7ef645aaf5d87a9bfb3aa66cc9f17c.jpg', 'L12_jpg.rf.4f3ac8a3c571d936eb9272e2e6fca573.jpg', 'L12_jpg.rf.ff4ee952675f0135d431c72a85c29ff0.jpg', 'L13_jpg.rf.5b5181b51303f8f1efa40e2e1569fc21.jpg', 'L13_jpg.rf.92974477071aba59718a29aa97a4ed7e.jpg', 'L13_jpg.rf.dffafe7c2af9597f0c18c2de412c4557.jpg', 'L15_jpg.rf.446b780d1cd77d4d85a8c57a69962225.jpg', 'L15_jpg.rf.696ee72c294f0c1ca4506257a639b326.jpg', 'L15_jpg.rf.a6c09454dcbf66d7a169d28ef25233b0.jpg', 'L16_jpg.rf.2a2e212c0dc88e86b1e801a72548c4bb.jpg', 'L16_jpg.rf.2f1b9ee01b46310800c37be748608381.jpg', 'L16_jpg.rf.be069a2257ecdd035a459f9af0bc8d67.jpg', 'L17_jpg.rf.39c1883f2903cccf48ede279a8981416.jpg', 'L17_jpg.rf.6dca8bc2953e0d1a7a727f5c10418b2f.jpg', 'L17_jpg.rf.a428d1281c066393acce598d1d2bb361.jpg', 'L18_jpg.rf.ab4a867602fd7bcc142d50b0ae722ba8.jpg', 'L18_jpg.rf.dae99c82a51dfb48ecec2ed80891ba8e.jpg', 'L19_jpg.rf.2d2fc45fa0fcf87c4e00063f385e618e.jpg', 'L19_jpg.rf.a222ace2954bb0778ed4b29c696df9d8.jpg', 'L19_jpg.rf.e07efd266d631d7c53be852c8e5f337f.jpg', 'L1_jpg.rf.173fa6119fea9b85e65e2c2d5a2f5aa9.jpg', 'L1_jpg.rf.5950b5a845d252dd23178e372cb357c8.jpg', 'L1_jpg.rf.5a85af221db64a17d4f51d0ef948797d.jpg', 'L20_jpg.rf.015284c28f9403c3093c9f240d379a5f.jpg', 'L20_jpg.rf.4936ed5270ce79fb79ae1dd5bfe49403.jpg', 'L20_jpg.rf.ddf50c772f235f4e47985153f113ef58.jpg', 'L21_jpg.rf.0a5776a6393bc3da0fee185f982c1fcc.jpg', 'L21_jpg.rf.3f848331cb6b7e6f3be228208763bdab.jpg', 'L21_jpg.rf.b1cf04864d80a2d6124b437dfde31a8d.jpg', 'L22_jpg.rf.2ba30bc02efafe96da953a30b772378c.jpg', 'L22_jpg.rf.2cd2fa823215c725f5f5c2be977808d5.jpg', 'L22_jpg.rf.a6d5056046ec5becd603c7b719dc7883.jpg', 'L23_jpg.rf.05dd63421c4ecc5bbed460d4f012fc37.jpg', 'L23_jpg.rf.9665225fb7d72bdd1b519fa54329a599.jpg', 'L23_jpg.rf.bb59b9aa63a55660e78601d09527c071.jpg', 'L24_jpg.rf.00ab98eafdc43e7c9ce5b9aee35a7562.jpg', 'L24_jpg.rf.c31e8c35302634b9ca29228a11c4369e.jpg', 'L24_jpg.rf.dde6753bf2722b2c7eae004ca7468254.jpg', 'L25_jpg.rf.0843ed2baabccfae05392e408775c9d3.jpg', 'L25_jpg.rf.65e3494451d7f30fdaf22a35796930e0.jpg', 'L25_jpg.rf.e3729ce42f9d0c8ad4d216691dba280e.jpg', 'L2_jpg.rf.90b39297f060f17f05f2fe3ae50f9951.jpg', 'L2_jpg.rf.ba72f40b78f6b814896012298647494d.jpg', 'L2_jpg.rf.c4caa0ea8d40135a39f6961cbcd3a8c0.jpg', 'L3_jpg.rf.0b7b8b9639d4c90e3296278c6edaae5f.jpg', 'L3_jpg.rf.2eba5d12d914f0d37547231e79341516.jpg', 'L3_jpg.rf.ceff245402821c266ab6e8f56050bb72.jpg', 'L4_jpg.rf.3867044acf3852c7a1fb4f40127aa411.jpg', 'L4_jpg.rf.b54eb77eb5dc544fa2abc13d4580d0f4.jpg', 'L4_jpg.rf.e5ce8ec1a99db3580cf22796530c6f1d.jpg', 'L5_jpg.rf.70a6abb7f4a0fca232b389b5612c6734.jpg', 'L5_jpg.rf.7990d116c91de697919714957b41e301.jpg', 'L5_jpg.rf.8bbac8bd181b5f44e8e51fb511dc6f40.jpg', 'L6_jpg.rf.03e6117aec62fa7bcba37e67029efb45.jpg', 'L6_jpg.rf.48019e8fcb0c560507c86fb12f6ca3a1.jpg', 'L6_jpg.rf.9a2fccbf571d57ab407d31d172d4e8d6.jpg', 'L7_jpg.rf.11bbd80e7dc8e23ecd2aace24d0f0b2a.jpg', 'L7_jpg.rf.2733dfdbbd0101dc65b5b1bb7748eab4.jpg', 'L7_jpg.rf.3853c6e03189c36782ff634211f17aae.jpg', 'L8_jpg.rf.6595ff70c1dabc123dc77961e1a43b69.jpg', 'L8_jpg.rf.8597e041ed131d1e3ca71e22db274278.jpg', 'L8_jpg.rf.e7e6ff63cc8a99b1a393838f795e4acc.jpg', 'L9_jpg.rf.252ad8d821f42795ad0860ecd182cd5a.jpg', 'L9_jpg.rf.62f11d0332c45e52561c3537a371ede0.jpg', 'L9_jpg.rf.f8081b330ed1d562761701cc3e3135aa.jpg', 'M0_jpg.rf.25e804920588eb27a3ec0b037d6bba5a.jpg', 'M0_jpg.rf.3dc2690c2b4775751a086c59c4215b96.jpg', 'M0_jpg.rf.616ce77109239025b4e3e57c642e86a7.jpg', 'M11_jpg.rf.a5d35381e897082cb9fbba988eeec73e.jpg', 'M11_jpg.rf.c7ed03aa6edb01679d3de31a071baa55.jpg', 'M11_jpg.rf.cc6d5799442f204b149146b95dd7efc6.jpg', 'M13_jpg.rf.c8cdd4be2b303700b71664c00308a860.jpg', 'M13_jpg.rf.e167d9d48c5e1cb28ed83718408136a4.jpg', 'M13_jpg.rf.f41a1a3160681aa49ac8293b2a94722f.jpg', 'M15_jpg.rf.0c12480f715b0f0432632ceecc252a66.jpg', 'M15_jpg.rf.3295e8e8c143c846b33503d189b69494.jpg', 'M15_jpg.rf.c00942387ff22d934f640809cafe0409.jpg', 'M16_jpg.rf.0e58a002b71dea820e028765a9da44e8.jpg', 'M16_jpg.rf.713d44fd70771bb8afb9db78697d3be2.jpg', 'M16_jpg.rf.fc085905638d986a5809e672516ae5be.jpg', 'M17_jpg.rf.1f8dceaa4cd234150f51c13896ba5b3e.jpg', 'M17_jpg.rf.73dc48ad08e77e9d040d1f3447f551fb.jpg', 'M17_jpg.rf.b3f2723eefaf214fdace90f8d6c20558.jpg', 'M18_jpg.rf.893871c82263939ab0b65ca453ad48be.jpg', 'M18_jpg.rf.bc869a07c431c3ad5a67f8283d121c4f.jpg', 'M18_jpg.rf.c1a062b95943c779a61be3d8eda5bd2d.jpg', 'M19_jpg.rf.0840e1c92e2f82491c969b985d8e8627.jpg', 'M19_jpg.rf.4c2a3bfaf649c33d96dcd8296db2865e.jpg', 'M19_jpg.rf.5e33c625023ff5e2870079c5304343c1.jpg', 'M1_jpg.rf.2005ea196f06ea68200ffad2a3775365.jpg', 'M1_jpg.rf.30a5542368b5878890b0f511e7dfaf1c.jpg', 'M1_jpg.rf.a5f37e13812fab6936da07c12ea2e1fd.jpg', 'M21_jpg.rf.7a8ea5e72bb477c08f55dc502acbe0a9.jpg', 'M21_jpg.rf.b99f29a39bd5427fb40970e8e1f0f1f6.jpg', 'M21_jpg.rf.d96d5fda3f46c34ed556db4ea706e375.jpg', 'M22_jpg.rf.8ccad262229e486d88fcb1741e7dd2aa.jpg', 'M22_jpg.rf.d053aab634415c43550a9d5cfbfc96a7.jpg', 'M22_jpg.rf.dcbe1856f78f8d9ffaff7953f6b0d0fc.jpg', 'M23_jpg.rf.073f98c7e8bc25631b0ee98ed3735d9d.jpg', 'M23_jpg.rf.19ede5b4135de360040da63edfd4e9a7.jpg', 'M23_jpg.rf.4bda815fda25b5a7ea668561bf936ae0.jpg', 'M27_jpg.rf.012f59e0d663602f97bad02440d4e745.jpg', 'M27_jpg.rf.02093712d93a693a1c7ed792cc9eef85.jpg', 'M27_jpg.rf.898026fa673cdee4aa611ab443c9ebee.jpg', 'M2_jpg.rf.5d8f17d3fdd1b70026a2d2265ff49803.jpg', 'M2_jpg.rf.88a67d5a6c9a3964b6d8c62acd55e6be.jpg', 'M2_jpg.rf.aad225d78fab09ef95c0efe4028df874.jpg', 'M3_jpg.rf.110de8d4ffcc96f8c6d80c30d6c6f0c0.jpg', 'M3_jpg.rf.26ad401139d33d7a580fb6197032bd05.jpg', 'M3_jpg.rf.6d17c1312f601aa8f6d8bbbb50304ebf.jpg', 'M4_jpg.rf.34d136d7a0ed3a959d4854b1d2a23ba4.jpg', 'M4_jpg.rf.58790d18cdac5361e2fc14252e648496.jpg', 'M4_jpg.rf.ba7b0b20da2f25d5036b6dd44f5258f1.jpg', 'M8_jpg.rf.26953e761952c607bdc4ecaef7dc4042.jpg', 'M8_jpg.rf.7836f621a0aaf19e9b18537f326bc5bd.jpg', 'M8_jpg.rf.86e483a6b61da0145dafa26c47e042a1.jpg', 'N0_jpg.rf.025267a10db9486e1fe95f5354121fea.jpg', 'N0_jpg.rf.9af84ac6065c6c56ab66ae7882b587e0.jpg', 'N0_jpg.rf.fe715a4861142b478c89f40112499256.jpg', 'N10_jpg.rf.303a42268cff40745135fb1553ef0831.jpg', 'N10_jpg.rf.962a42ff86d994d27c7a0807bce1ed6e.jpg', 'N10_jpg.rf.bf4d4ddc8a11008dca74cc703c5c181e.jpg', 'N11_jpg.rf.76a16650927b4c30318ecff71a5aae00.jpg', 'N11_jpg.rf.906b4a9a200aad92c14704f794518b70.jpg', 'N11_jpg.rf.ed3060e443293e67fe8579e492427762.jpg', 'N12_jpg.rf.1a9997118fe82fdd0194d31d99a5f05c.jpg', 'N12_jpg.rf.7c0de95a62395298b890789225ba10bc.jpg', 'N12_jpg.rf.f805739d8f1c8043da238a8b8a49a5ef.jpg', 'N13_jpg.rf.13e789d4ca57f66f9abbad1371179aec.jpg', 'N13_jpg.rf.570ad7f833e64f28e50fb33168c2c951.jpg', 'N13_jpg.rf.69410fb21cfe565226f7208981530e25.jpg', 'N14_jpg.rf.5b095db8965a3b6c64068ce29b985682.jpg', 'N14_jpg.rf.ab9d6791bf02e3dde8b6ad0d96b75cc0.jpg', 'N14_jpg.rf.fbef648f0126b644368075b18d4c47d0.jpg', 'N17_jpg.rf.3b2ef2a1ff2dea40efe6481e1b5cd10d.jpg', 'N17_jpg.rf.3b385b8454a964540245ae6cc1095e1e.jpg', 'N17_jpg.rf.93e9b680c02923232b86ccf73dfba3f4.jpg', 'N19_jpg.rf.0b8c3de1ba6be145fac920d98a63add7.jpg', 'N19_jpg.rf.3cfcd5d384846250808aa78ccb917388.jpg', 'N19_jpg.rf.d2fb69b70c3f84a10282de4cab94f4b1.jpg', 'N20_jpg.rf.53ca5363f196091ef7bbf370543dd1ae.jpg', 'N20_jpg.rf.9801bda7261361aa28fc175e2cbb6271.jpg', 'N20_jpg.rf.aadc4dfbc9e84bed1fbeb7e0cac2a30d.jpg', 'N21_jpg.rf.223fd4ac82f228e6e46b429d82dda988.jpg', 'N21_jpg.rf.8321c5e3c623bf77b33d948a89f511fb.jpg', 'N21_jpg.rf.accf2a119d694040c5fd9b180385bbe9.jpg', 'N23_jpg.rf.1d213dac89597e6e5ed37221820b3a8d.jpg', 'N23_jpg.rf.5a3123bfd83904f88fb2caf94930321f.jpg', 'N23_jpg.rf.88bbf67b2d1c4ffe713f4536bec833ca.jpg', 'N24_jpg.rf.0e064b1e31c5490a8440a50b9371446a.jpg', 'N24_jpg.rf.811ef05eb133ab96d0fa1ee0d4c9f4ba.jpg', 'N24_jpg.rf.b44b0092aeb4a92d1597bb8948f38333.jpg', 'N25_jpg.rf.5e1be7851ad3f4111c3fb4eae6a34448.jpg', 'N25_jpg.rf.afb48fd3ba83dc2dff5f913d1c902cbc.jpg', 'N25_jpg.rf.d6a17dec6fd98dd0d4a4c57479ca2109.jpg', 'N26_jpg.rf.34b88777ea734dc18f9ac2252dbc2a61.jpg', 'N26_jpg.rf.bab99298ec2e0fe26346ae420635626b.jpg', 'N26_jpg.rf.f90e12b53b97211447ce1c21a61aaa27.jpg', 'N2_jpg.rf.6a1bacdef389f782ad21cd7564bf7ff0.jpg', 'N2_jpg.rf.8151ede6d7417cced5d93f06eb0a051d.jpg', 'N2_jpg.rf.e461a6fec1232c1aac8186e9d5e55efd.jpg', 'N3_jpg.rf.10ae236645c4419b8c12dbb74930ebb5.jpg', 'N3_jpg.rf.6b23bd5e89222e5a4012f7603ddee0db.jpg', 'N3_jpg.rf.7da51b92518c4df10b060f7a7d2ba345.jpg', 'N4_jpg.rf.52397a16fedf78631447fc1d18828c2d.jpg', 'N4_jpg.rf.920d44befc64278f20fc6d8b1598bd97.jpg', 'N4_jpg.rf.9297025f92894a475009b894f48a91a5.jpg', 'N5_jpg.rf.0d135331d5d0e102a69465db8a829338.jpg', 'N5_jpg.rf.34b2493fdf32b8c8f9424e452a3dd8c5.jpg', 'N5_jpg.rf.a44d3c089f04604c62389fdf0900bc8d.jpg', 'N7_jpg.rf.2f4056c08a5b26fe7c769a1ced3190b1.jpg', 'N7_jpg.rf.9034d7f7f5665255d46cb84756f361a3.jpg', 'N7_jpg.rf.b2c5e3a0bc42083226a9607b110c6623.jpg', 'N8_jpg.rf.0e85b433e06c14f023765ccc357190d7.jpg', 'N8_jpg.rf.9a877912c2bfa45b4bf5ac53e7ec8027.jpg', 'N8_jpg.rf.cbbae61b9abb62455a2fba2b52487855.jpg', 'O10_jpg.rf.2514b0c3823b9f6481b60dc0f99e9baf.jpg', 'O10_jpg.rf.279d940cf5156aba962afe1a2133e63e.jpg', 'O10_jpg.rf.bb8608cff93b3d512040a86fc2662626.jpg', 'O14_jpg.rf.017fafc108524d33a81defd7e49d97de.jpg', 'O14_jpg.rf.1c332236a1579cf593417cbe1bffeeb5.jpg', 'O14_jpg.rf.47d3c055235cdcd7323b1854992b4217.jpg', 'O15_jpg.rf.22aa9a5b4e43ededfbcdb24782db286c.jpg', 'O15_jpg.rf.36c2b70725954cf9e8123dd7189d588a.jpg', 'O15_jpg.rf.eef4d4fd8f0e25594fe0ba376b6939f8.jpg', 'O16_jpg.rf.3168b11448f5c96bab0465a346fe7a99.jpg', 'O16_jpg.rf.4522293f19b9abbc4195e09b3af7e008.jpg', 'O16_jpg.rf.932fff3ea3c2b67e5463528a94e632d0.jpg', 'O18_jpg.rf.5c22d65a82e1336b219eb3d2afe8e0c9.jpg', 'O18_jpg.rf.9966bbb04db946f6d1430077297a7e67.jpg', 'O18_jpg.rf.bbfdd629f2548982a5d291741214003c.jpg', 'O19_jpg.rf.72095746637affd5148b2b41f29d8d43.jpg', 'O19_jpg.rf.79076ec745b68acb5c5f5bccf2a7edfa.jpg', 'O19_jpg.rf.ef67284622be08d7e854d51def5350c6.jpg', 'O1_jpg.rf.1714a0e3885ecbc798820bd153c67bcd.jpg', 'O1_jpg.rf.3a9d3801a3aa755f756e00c4bbfc5a67.jpg', 'O1_jpg.rf.5e7bdaf476e5cef47797a399215550d0.jpg', 'O21_jpg.rf.4981d021b8a0c1cc4233abce362edfd9.jpg', 'O21_jpg.rf.b419e9c59ee3bc9d4a34bf27bc065aaa.jpg', 'O21_jpg.rf.d57e362b479707a220ef2c667fb49712.jpg', 'O23_jpg.rf.32974f8d8c326623215a1edc6990cf27.jpg', 'O23_jpg.rf.b9ddd472d9ca1fa223a6140a59edac2f.jpg', 'O23_jpg.rf.e48723b5f094a89cb62a1a3549b576dd.jpg', 'O24_jpg.rf.0e34e5f0a6bd3cdf856ed6290693882f.jpg', 'O24_jpg.rf.c46acb0a1c242482cce1dee3262e4351.jpg', 'O24_jpg.rf.f29af20bdd3e9a06bd8641fd00b40201.jpg', 'O25_jpg.rf.4b765fca754450501543162dc69a225c.jpg', 'O25_jpg.rf.9ef68fe6f470a99755609bd5e6e6abfd.jpg', 'O25_jpg.rf.cf2fae31a6ec68400e0022b31402a0be.jpg', 'O26_jpg.rf.214253e3de17c31a23e1d0f4660f30b5.jpg', 'O26_jpg.rf.53c27d2879eba14cd3725f06ad07c2d3.jpg', 'O26_jpg.rf.826f35da3d9c0b272db0074db2217c71.jpg', 'O27_jpg.rf.764c734793b12807c4a777a27d9cf5d3.jpg', 'O27_jpg.rf.9639ebef707a066281336d36ff052353.jpg', 'O27_jpg.rf.f2f3b1781063fb2cc9a23b9447d75244.jpg', 'O2_jpg.rf.62ca8d3818cfd9c256cd6a13a6cb7689.jpg', 'O2_jpg.rf.86d5b39fbb80def0f257539620901112.jpg', 'O2_jpg.rf.b035d6a8b34b9c2868e8949c91472243.jpg', 'O5_jpg.rf.a0ba0f1f6a52cbc58e4b7e1f557b4426.jpg', 'O5_jpg.rf.bd36c88a0fffc7062a5146eb237bdceb.jpg', 'O5_jpg.rf.d7a96ac9c3ce88827df099d012e67740.jpg', 'O6_jpg.rf.25821ac161c7d1298f513c10b168bca9.jpg', 'O6_jpg.rf.25ac072e8485b679ea9a45a333a51c14.jpg', 'O6_jpg.rf.307466f522544f1d43900f91f4b199ef.jpg', 'O7_jpg.rf.6d3046054a86a3e36cf2399855275c57.jpg', 'O7_jpg.rf.d6c735da1cc4db80794d1d7489097e0b.jpg', 'O7_jpg.rf.e4eb07c42a9877f0f3157b41a8adb622.jpg', 'O9_jpg.rf.079eab47ac2a5190708669edbaf4ec5d.jpg', 'O9_jpg.rf.660396bfedfc2a53c520054caf17d690.jpg', 'O9_jpg.rf.77a78051435e490b7128c679531575c7.jpg', 'P0_jpg.rf.aa8e4f34d468de9de0fab9d55831f5ed.jpg', 'P0_jpg.rf.b20bc893db699f92b1d9f7df82492aba.jpg', 'P0_jpg.rf.d6c47f8b40b6201ab68aa6b2a57b9eab.jpg', 'P10_jpg.rf.23bc880374023c5e236fd47416e78f52.jpg', 'P10_jpg.rf.b45a12fd4ff33cd337509e738b179f5e.jpg', 'P10_jpg.rf.e515ad6f25d3eb11ff474279054e4578.jpg', 'P11_jpg.rf.761fc404e047c5c9be302c832e7d6394.jpg', 'P11_jpg.rf.89ab6ae1b077dc6e83163b05a9c723d9.jpg', 'P11_jpg.rf.ebe575023901a7143dc3a7fca7ede7ab.jpg', 'P12_jpg.rf.b15f23b1ec17de6ec952a8c249264e42.jpg', 'P12_jpg.rf.b73ca5c54691fc04bb0d2be4dcce0555.jpg', 'P12_jpg.rf.c356d858a90d760f42f095373b1ff49c.jpg', 'P13_jpg.rf.6302d80a36556088775b18485bb0c642.jpg', 'P13_jpg.rf.8aa342813816b361086a6a46e084692e.jpg', 'P13_jpg.rf.b05c49224f42b9ed8e1189702a9c0203.jpg', 'P14_jpg.rf.4f98b9d9cb013ad252d17239cffe5c41.jpg', 'P14_jpg.rf.9b0c3aa5d5e980c04c6f4642f3bc0218.jpg', 'P14_jpg.rf.e5002cf93fd7360a8d13fe9bb2e4c33b.jpg', 'P15_jpg.rf.63b4f44855ff892ce97918bb7a2f969c.jpg', 'P15_jpg.rf.e35bd97d0280a4887dc95f8151d3b635.jpg', 'P15_jpg.rf.f178d8dccf0e56635d24598e4c7558a3.jpg', 'P16_jpg.rf.1a1d15f4a37323b97f6c7d31ce4453ae.jpg', 'P16_jpg.rf.c0be95a841dfc580aabb0e0461de7134.jpg', 'P16_jpg.rf.d0a9bc0d1630e441a79dd47b15cb625d.jpg', 'P19_jpg.rf.0da266bae15cc6bf493337443585f8b1.jpg', 'P19_jpg.rf.818e03f902688ed1fbd31c1eadb2fa27.jpg', 'P19_jpg.rf.95c88517b1e25d26d759c86f9a353748.jpg', 'P20_jpg.rf.2a9181675309f6d4cfb4a3821812f19a.jpg', 'P20_jpg.rf.5b1fbdf50cb40e819ec7a8a13a399b96.jpg', 'P20_jpg.rf.d918683e71ca1a51159309750830f5c1.jpg', 'P21_jpg.rf.1129cba70632321afe0af8a198e30e95.jpg', 'P21_jpg.rf.87568f736117ed6468a22a92d04e6fa3.jpg', 'P21_jpg.rf.cc1ae7d1cbc13b6af3f4fdf2d2a3e246.jpg', 'P22_jpg.rf.32bf3194fc7c843ddba4d257dbeb7da4.jpg', 'P22_jpg.rf.4dd59739e9a5b49c33f6628529bc3ce4.jpg', 'P22_jpg.rf.70c0f72c537afe48181acbfe4a4e40b6.jpg', 'P3_jpg.rf.0620953e2bd58369fc6d8bd98d905c0f.jpg', 'P3_jpg.rf.562401f39762b845e5dc4363c82bf39b.jpg', 'P3_jpg.rf.8bbd7494bf177553c0d7ae2e4e9d87fc.jpg', 'P4_jpg.rf.2a9fdad6a4ae905b56a2f7da3943c863.jpg', 'P4_jpg.rf.6fe992573d9359f0e66027a8b09ecdba.jpg', 'P4_jpg.rf.ccc1f087256780ac25de1177bcce94d9.jpg', 'P5_jpg.rf.0be5b7264d5e9bbc71852b4b56841b74.jpg', 'P5_jpg.rf.5186b95cad1319c35d3310c041f5f330.jpg', 'P5_jpg.rf.d04a155ae175858590fa7d199e4474d9.jpg', 'P6_jpg.rf.552c5783c1de57d18c303cb6ca4da38c.jpg', 'P6_jpg.rf.561e26749a202481ff40400e3143ade4.jpg', 'P6_jpg.rf.f4ee62689292b244bde17ee554b144d1.jpg', 'P7_jpg.rf.a36ffe32c42e984b585541167c5a003a.jpg', 'P7_jpg.rf.a7a849779b6a8fff66ca7afcf3898809.jpg', 'P7_jpg.rf.cc876c0a5694704500c221e6a420a15f.jpg', 'Q0_jpg.rf.06762b72d43f78cad004db514f808f01.jpg', 'Q0_jpg.rf.1772bf9861d7f9930f4e1054ca7b47ed.jpg', 'Q0_jpg.rf.8905a9e4b80d12c8762b5b90369142c3.jpg', 'Q11_jpg.rf.5758fb34e625c1e9c491cfe875e3cedb.jpg', 'Q11_jpg.rf.64598bdfa1b6495e0377de00e3bf4bd4.jpg', 'Q11_jpg.rf.bfa17e9cec1f76266419a29a3ce20fc7.jpg', 'Q12_jpg.rf.2435b442fec202745d32cf389d54210c.jpg', 'Q12_jpg.rf.53a9ec713c72eb1b44a3c972446dd3ef.jpg', 'Q12_jpg.rf.ea549f9a87e1c580d7b8ebb34104991c.jpg', 'Q13_jpg.rf.68c3811ca93c6c856ccab94fe144dadc.jpg', 'Q13_jpg.rf.9174a0e27f26455f7add68245e251819.jpg', 'Q13_jpg.rf.ab26e1d9103aed31f2abc39a0878ed07.jpg', 'Q14_jpg.rf.02cd3f2d825bb72393feec1c5d0e9ba7.jpg', 'Q14_jpg.rf.61ef784caad61cd78a35cc54916cbddf.jpg', 'Q14_jpg.rf.d1add5539449d526c42acdd772a9fe10.jpg', 'Q15_jpg.rf.39f841e34d8755ddb34c0ada3ed58c28.jpg', 'Q15_jpg.rf.882c439071ee871b2e18a2af0c730912.jpg', 'Q15_jpg.rf.b424e8f0b4e1f15d78a27b375a23cf40.jpg', 'Q16_jpg.rf.71f9d066775e18089be9e703efa87ff8.jpg', 'Q16_jpg.rf.7cb7b3036ae54d0ed5bf639fe4e73959.jpg', 'Q16_jpg.rf.825d4ec36867dc19d291a8f5407ed1e9.jpg', 'Q17_jpg.rf.4d2cb39a089c93ac393b13907601e70c.jpg', 'Q17_jpg.rf.b045f47e6bcdcb57f01b5c51c290bbdb.jpg', 'Q17_jpg.rf.fc98d7c8b2e6d45016fdaa9a34268fc0.jpg', 'Q18_jpg.rf.4ccef7320f7bba4582fd7500eb4be293.jpg', 'Q18_jpg.rf.786f976ae8778cfd2ad0c4bff11536db.jpg', 'Q18_jpg.rf.9832991424f56fc337bfa9f92b18fab5.jpg', 'Q19_jpg.rf.203d7169dbb1f147f4d71b625fbee215.jpg', 'Q19_jpg.rf.7736e8fa24b0e90638e72db94d549183.jpg', 'Q19_jpg.rf.fa9dac2819dc1c377e1d9745675d7b27.jpg', 'Q1_jpg.rf.0710826d4dd7fcb5ad1d40f520c1c9b3.jpg', 'Q1_jpg.rf.3a9ca90b06c84bf9423b4814e693bc8a.jpg', 'Q1_jpg.rf.d06b0ecb93dbd694d32f843ee07408ee.jpg', 'Q21_jpg.rf.53b54239c105bdfc17e4f1e59c5fa96c.jpg', 'Q21_jpg.rf.d9684ca6d20634352e4676a5ba8b7398.jpg', 'Q21_jpg.rf.fc3b79c4deced3cd3b41e162cce98213.jpg', 'Q23_jpg.rf.4cfeb9a8ff85e8a8b0f0ae73c14dba3e.jpg', 'Q23_jpg.rf.826e1eb222c571bbc86de11b516aa53a.jpg', 'Q23_jpg.rf.ca07e5f5781272e694122054e3a46f3f.jpg', 'Q24_jpg.rf.56db6dc7b77b9dcdc764a31b3ff34be7.jpg', 'Q24_jpg.rf.c8098c91fd8af7931f3add07f92d9dee.jpg', 'Q24_jpg.rf.da5161f26659c2febc766aca0075b050.jpg', 'Q25_jpg.rf.096398591d1dd55acf99297534c8475b.jpg', 'Q25_jpg.rf.6f7da45f1a8810955f506064c15e4749.jpg', 'Q25_jpg.rf.ca7db7496e69baec8fbad6891cc53d3d.jpg', 'Q2_jpg.rf.76315261eef71105f22bca28bcef3545.jpg', 'Q2_jpg.rf.9f1bdef21bb7c625531897559eee4928.jpg', 'Q2_jpg.rf.c1bc4e8f42cbd7aedd19d3322e7a6019.jpg', 'Q3_jpg.rf.62109fc2df1079685d23b86f1628a819.jpg', 'Q3_jpg.rf.ac81c439bd99d8928eaa5b7eddd38150.jpg', 'Q3_jpg.rf.c9e07b2e1e34370b401f78b1d5f4b926.jpg', 'Q4_jpg.rf.6485ab8c3e8c52a75a03b09d47e1f744.jpg', 'Q4_jpg.rf.da66b4292176885170a3386f42f71724.jpg', 'Q4_jpg.rf.e1b27e1507739b8656c1d363512d8d77.jpg', 'Q5_jpg.rf.001efe9040a58932cae7c1c89c309a9b.jpg', 'Q5_jpg.rf.9fc0b795c98579bf94bada3fbf839fc5.jpg', 'Q5_jpg.rf.c2f6d59ffe69a8fe0ed5de237cc6bcce.jpg', 'Q6_jpg.rf.047a225d0b551b946f14f0529e223609.jpg', 'Q6_jpg.rf.ce99bf0d46aca126cf806d6f91035764.jpg', 'Q6_jpg.rf.d0ad069d60ca8e90bb15b79d6c2965b6.jpg', 'R10_jpg.rf.26862fde7d7ebadcca0732ec983cffca.jpg', 'R10_jpg.rf.4e1a136d048b8105393dd090859c64e8.jpg', 'R10_jpg.rf.6f56bf1ea05dc8eb7dc08e872a3458b2.jpg', 'R11_jpg.rf.343496c470f64641cacb781e96c04984.jpg', 'R11_jpg.rf.5c37ce3908636b87edc4670e0576eb04.jpg', 'R11_jpg.rf.ce387b5621fcfdfb78bd535a428c53d8.jpg', 'R12_jpg.rf.6ddb7eac630519a8e6dd01543d964aa0.jpg', 'R12_jpg.rf.83ab03ce0f0815b2acc0fc0b6e485ef5.jpg', 'R12_jpg.rf.89c861028825ec67ada7227f8d34434e.jpg', 'R13_jpg.rf.2b54c7a8302635318488fb1d88df3f08.jpg', 'R13_jpg.rf.62d49267192ba1ab687700d3be67995a.jpg', 'R13_jpg.rf.df0503db517026524ad8a805020dc0f1.jpg', 'R14_jpg.rf.197282fada72cd94b287546551ed51eb.jpg', 'R14_jpg.rf.515394f30e5b2e98e8bb938e44cca009.jpg', 'R14_jpg.rf.5174782b9380d27b3e13de3a96b38458.jpg', 'R16_jpg.rf.32913ec7755e65d9726b5d6c2324bac5.jpg', 'R16_jpg.rf.6f6342ff4a6e3c361ddbaea85f49feb6.jpg', 'R16_jpg.rf.eb3cd53ab903ee0ad742dc11bb85556d.jpg', 'R19_jpg.rf.3dea50c422fcd9eef35627852f6d0816.jpg', 'R19_jpg.rf.a104f2a9503b38b47ad13a66d7a0d7a6.jpg', 'R19_jpg.rf.c9e79aac6b3b5ba6bf567fd8eca6f7ad.jpg', 'R1_jpg.rf.0c88509dd55c5b133e7eff3e11098a66.jpg', 'R1_jpg.rf.743e56b41c1d9fe09bb8da7de9e8e756.jpg', 'R1_jpg.rf.ef1381029dd436793dd87053dd1a1ab6.jpg', 'R22_jpg.rf.08bea30a7d12d737f442593459808d7d.jpg', 'R22_jpg.rf.0ef6f498eb6a2d1cce5661a681ca9926.jpg', 'R22_jpg.rf.90c9a13ffc458017094b0a9f546db4c6.jpg', 'R23_jpg.rf.11f8589be56eff2a078cbaadb62c8fa4.jpg', 'R23_jpg.rf.e13fd02183798b6459f50e031ebbdf78.jpg', 'R23_jpg.rf.f39a76c9097a18e424fd1053a08691f0.jpg', 'R24_jpg.rf.1e4d8f548e298b5cf1c05bacc5b00ddf.jpg', 'R24_jpg.rf.52265df79c4c5de704fea95cb58532ef.jpg', 'R24_jpg.rf.eaa9b9b9aa3b475dc08fd58599a8c633.jpg', 'R2_jpg.rf.1a39616a0951aaa53054aeaf6e509d56.jpg', 'R2_jpg.rf.904887ffc58f0d10541fb3647d984bec.jpg', 'R2_jpg.rf.e9ad0a8e1646e1e0dbd432e94e612332.jpg', 'R3_jpg.rf.498de18e8869c2d3536f50a84154ecfa.jpg', 'R3_jpg.rf.b7fadaa14907a8d30f0e1436cf4dd06d.jpg', 'R3_jpg.rf.d500f875867a965cfab0a7f49b86fdf2.jpg', 'R4_jpg.rf.149416c1760ad6f6d8f0f2e97a3446f7.jpg', 'R4_jpg.rf.a189824a3c3b89b7bdce9dd8d43d5688.jpg', 'R4_jpg.rf.d409b14a49c23f138488ad4a35531be1.jpg', 'R7_jpg.rf.6395a3292fae6879ff8f44fb2bba6365.jpg', 'R7_jpg.rf.734694ccb9579fd67b5361c0032386f3.jpg', 'R7_jpg.rf.904608edeab6e496ca6ad6ab11e94c01.jpg', 'R9_jpg.rf.73c325b2588dfd03460efbb7a4f017c3.jpg', 'R9_jpg.rf.82c7376a1ae2be16ca43d60eccb491f7.jpg', 'R9_jpg.rf.a2262dd25a5f3f2f74e3c03b36deede4.jpg', 'S10_jpg.rf.2c73813b85f47b15e48a3454db1caa37.jpg', 'S10_jpg.rf.6dac81ca45806b8c9996ab66e0670989.jpg', 'S10_jpg.rf.75862345fc4f9972e5bcbd51ac3f2c9a.jpg', 'S11_jpg.rf.11c5c10a6566d1d6cac5a43a19d177ff.jpg', 'S11_jpg.rf.5b21d65ba1725f7c0eb022a903325522.jpg', 'S11_jpg.rf.8d70c3fd71284f5a9095f32b5024c6c6.jpg', 'S12_jpg.rf.2425a380bf34ea9645e0a8b4ddef2aae.jpg', 'S12_jpg.rf.65bc7a4c6db38c296defe64e7de69e0c.jpg', 'S12_jpg.rf.deab9877639869aed0ccb314954f634d.jpg', 'S13_jpg.rf.cffd5b8ec439e0e05199e82a99cb5254.jpg', 'S13_jpg.rf.d74bfdf019ebe4b539351a629cbdad84.jpg', 'S13_jpg.rf.dca212ad8e4536d0f11789d0e9082776.jpg', 'S14_jpg.rf.2bed8e7655180faa0d9399c3dde9448a.jpg', 'S14_jpg.rf.d1d3d5dc8fa9b05b8729cd54fd35d7fa.jpg', 'S14_jpg.rf.d2cea8fef5468f895e433c6ec7595465.jpg', 'S15_jpg.rf.0061d332b657b74cfe0d23b65519085d.jpg', 'S15_jpg.rf.354cc1b0c8b37f0435ca77d64f44f594.jpg', 'S15_jpg.rf.c4daff2ca89babe70cd79e19583ac422.jpg', 'S17_jpg.rf.828dffe2a916c2bae34272f1d8555683.jpg', 'S17_jpg.rf.903373e243447d439ef15476fc390625.jpg', 'S17_jpg.rf.91671eb39c52642f672ee4b909fb2754.jpg', 'S18_jpg.rf.397a751bee82c9845f07466eb2797841.jpg', 'S18_jpg.rf.64a7719d1a3de47266ad88e6427319b9.jpg', 'S18_jpg.rf.c2335e0c934c7452314f2103c060caa2.jpg', 'S19_jpg.rf.480a214da47923bb98a8d67baaf787d8.jpg', 'S19_jpg.rf.9926921ed1b7d51626c68a42629b8cda.jpg', 'S19_jpg.rf.9f2cb70e259ec6622b34a44ed0cdf202.jpg', 'S1_jpg.rf.52b819e06c7df449f14cbd24d474b685.jpg', 'S1_jpg.rf.a54680e7ee288707166574f48b57a8dc.jpg', 'S1_jpg.rf.fe581b7aa89f0bff34665d80a742958a.jpg', 'S20_jpg.rf.388db7537ac75a1a8d205d160b10ea89.jpg', 'S20_jpg.rf.8665444f33809f654bbfbf2a376a1848.jpg', 'S20_jpg.rf.d0b78c40d8796ce54e6b5b92c0c294da.jpg', 'S21_jpg.rf.0227f84ae72282808406d971abf868b8.jpg', 'S21_jpg.rf.0a4d0c030e8c1a7e667ba850b96670b4.jpg', 'S21_jpg.rf.2e0dd00a783278285afde6cf2ee51d1c.jpg', 'S23_jpg.rf.129c7f88a017eb1699153a98da098e42.jpg', 'S23_jpg.rf.2044b54e45b643d3b9e55bd73ae3179d.jpg', 'S23_jpg.rf.b031758a4797fc2692eb8409a9ad874d.jpg', 'S24_jpg.rf.1eb58099c8ee63a825a348c097ac3701.jpg', 'S24_jpg.rf.3217ccd43d12739e067955e132b02ccd.jpg', 'S24_jpg.rf.5c37d9fc02d1d448e0cd5eea00aa4d0d.jpg', 'S25_jpg.rf.115046aee8a7481eaccf87b7bcf1e965.jpg', 'S25_jpg.rf.496bf18596194320b984d9e5de9a22fe.jpg', 'S25_jpg.rf.a7ad0f1bb856f2ac4c516077a8295638.jpg', 'S26_jpg.rf.80e2af279a95daabddd53a52e912cf76.jpg', 'S26_jpg.rf.b40f8ab1fd02030e3971a1ce5e6d94b7.jpg', 'S28_jpg.rf.72586d67d0d12ba40d797cdcec3ba437.jpg', 'S28_jpg.rf.982a3be062dfa483171a8830a2e6d133.jpg', 'S28_jpg.rf.e01a46b00f7baac705d107774a5aece6.jpg', 'S29_jpg.rf.0b8a97db5919bc051e3760e2a207c29a.jpg', 'S29_jpg.rf.5916641d4e8beb20b39ab3860ed2f012.jpg', 'S29_jpg.rf.f2e1a934ae023bfa53afaaaf2952de2f.jpg', 'S3_jpg.rf.65657032b7b63e9b82398995e6cfd1f9.jpg', 'S3_jpg.rf.6ae1a9689a2bd1626337c3be9be44a16.jpg', 'S3_jpg.rf.adfc801090b95df0c2b49f4680d2f386.jpg', 'S5_jpg.rf.27623774fd4f9465d084b35ba33d2662.jpg', 'S5_jpg.rf.8c20572b7f644c6af58f0cf2afdb7b92.jpg', 'S5_jpg.rf.dd66049132a852819e3856d2ff7543c8.jpg', 'S7_jpg.rf.14c9c8dd45a74ab17cef427aec142912.jpg', 'S7_jpg.rf.53ba4c86d2ee7c07de13aa943b61d1e5.jpg', 'S7_jpg.rf.7255bfb11c095b0baceceb77d78c8273.jpg', 'S8_jpg.rf.25e3207f7fcd6c042149da0731279449.jpg', 'S8_jpg.rf.c8442be925a1a40854eeda1a8a6a72c3.jpg', 'S8_jpg.rf.d45ffc7535801de113d1e7cde9a75f8f.jpg', 'S9_jpg.rf.09cdc771a96802492cffe91bba8e840a.jpg', 'S9_jpg.rf.a14ca39a984eff3e811744c4134f5f7d.jpg', 'S9_jpg.rf.bd201fb43782e46848fae864c012f81c.jpg', 'T0_jpg.rf.019a6f5d29673931e9c52d3b21b4d0ee.jpg', 'T0_jpg.rf.4ad878b0d8cb2f66e59dab725c0ee872.jpg', 'T0_jpg.rf.7d01477da22edad3984bc2d0474a8237.jpg', 'T10_jpg.rf.184ec31e94e0da6e98f828c912c8a808.jpg', 'T10_jpg.rf.3a158f710fcd56ed22051f5664ed903a.jpg', 'T10_jpg.rf.a94fc9476c1dc24a61f251f1336c3156.jpg', 'T14_jpg.rf.3007d43a042c15a3bf5a38f95fdf6f38.jpg', 'T14_jpg.rf.7a5ec080cfe593121ae817027c4e8ba8.jpg', 'T14_jpg.rf.f691d519200ba8a37d73c696765c012c.jpg', 'T15_jpg.rf.12b79819437802c2c4b93dbce8335ce6.jpg', 'T15_jpg.rf.1619ccc31d3fefd939bdceb0e659d419.jpg', 'T15_jpg.rf.d796f1f569585e6f8f700177aaa1e285.jpg', 'T19_jpg.rf.4e9da37efba7284d64c546da0fdd5e39.jpg', 'T19_jpg.rf.a3c178d025f81727f480cbfd45a69d10.jpg', 'T19_jpg.rf.c137ee45aa186652fd3d0c9c7f55f1eb.jpg', 'T20_jpg.rf.6b7af5185438cd62e6ddbb81d4b49cdb.jpg', 'T20_jpg.rf.86382c60d5bee7df4567eb58cb26386f.jpg', 'T20_jpg.rf.fc534fb97144831eb6b341e9f24bec59.jpg', 'T21_jpg.rf.9c509fd71a433d8b9233939ce1b24154.jpg', 'T21_jpg.rf.a6359a47814b5ce3c8fcbfb8ec71a293.jpg', 'T21_jpg.rf.ab9b62249c563be34284b1006d05d01f.jpg', 'T22_jpg.rf.2d140b2ae67c3f2df79187360873a27f.jpg', 'T22_jpg.rf.8a98125ee9e01c1d3d9f6958171ccf4b.jpg', 'T22_jpg.rf.ffb2f2b382259f728d56747e48e16c8c.jpg', 'T23_jpg.rf.470ecea352802a42daf8c0a7bf68f3dc.jpg', 'T23_jpg.rf.6f6c9141bdd5461615f9fec524877ff7.jpg', 'T23_jpg.rf.dacfc30c90f739143efc785221957814.jpg', 'T3_jpg.rf.143992f1a2fcf583c60ddef302a6ef0a.jpg', 'T3_jpg.rf.a20a8a5258cd54faae0219287b348b9b.jpg', 'T3_jpg.rf.f0e3983448defd50af8c8472e8d2b549.jpg', 'T5_jpg.rf.dd0765a19b53db887b71a9ab9ce2bc6b.jpg', 'T5_jpg.rf.f32ea5ddf25ab1cd8f8a77313690bbd6.jpg', 'T5_jpg.rf.fdc22ff107f65a85dfaa279680f43ab7.jpg', 'T6_jpg.rf.281e73cfb8cf780a7567a1a4cf0db536.jpg', 'T6_jpg.rf.698e300942822c4542b81dc246ae21d0.jpg', 'T6_jpg.rf.cb58f144aac8bbb1e5f991ae3dcf048d.jpg', 'T7_jpg.rf.609da1a53ba39bbbb1039e533f91454e.jpg', 'T7_jpg.rf.88c2310f1e347899d365b3e72cf2f8ae.jpg', 'T7_jpg.rf.96335d509f79bdfb743f27e8cba01eac.jpg', 'T9_jpg.rf.5540ec7389fa1252452147a111c0d0a5.jpg', 'T9_jpg.rf.5782b8f03da5ac1c11d62c428c13e18b.jpg', 'T9_jpg.rf.e2e862f30698c1a19a5430f70d71ed0c.jpg', 'U0_jpg.rf.deaf5f8d3e5a768e353d5c7e250d6f14.jpg', 'U0_jpg.rf.e9fb095549ef408985c211c9c19f03d6.jpg', 'U0_jpg.rf.eaa0f480e5f391ca6fce9f00e853c2ed.jpg', 'U10_jpg.rf.15cf596681e0fb14c0da232b6d9266d4.jpg', 'U10_jpg.rf.900882a7d34184cd638e3a65d4ac2bd9.jpg', 'U10_jpg.rf.f1ff23fe84a8a5795fd4e42f810ce694.jpg', 'U11_jpg.rf.801f29010d3cdc9a88c1ce386b400d98.jpg', 'U11_jpg.rf.b37a90bc7db105e53eb71349cf884efc.jpg', 'U11_jpg.rf.d7d9e6306414409e40fd05f1da92c5e1.jpg', 'U12_jpg.rf.557374ac19e23b74ee310aa5d4e5f9a5.jpg', 'U12_jpg.rf.7112971bf3295cfeb867d5e7a2a01985.jpg', 'U12_jpg.rf.e54122027c4b0172e6044951b6c478b1.jpg', 'U13_jpg.rf.190a34d3157f1a30d68d16ca3aa1ab06.jpg', 'U13_jpg.rf.c09c33b85052a56c34965b72bc564b2b.jpg', 'U13_jpg.rf.f0de171abf1b273c437cb2f30d83012e.jpg', 'U14_jpg.rf.4534c911588dc7fdbd475fe1e865e468.jpg', 'U14_jpg.rf.5950b2b5ae740927c28e13bd0df97a97.jpg', 'U14_jpg.rf.74ce7b9d7f5cc34671a8b56d188cb78f.jpg', 'U16_jpg.rf.ba7d95b2acef565ef660217d20199b72.jpg', 'U16_jpg.rf.befb45945bdc414483760210d27d9599.jpg', 'U16_jpg.rf.d0dd0fec6e3155f887b48ab99863fdb2.jpg', 'U17_jpg.rf.9634edfca90b96c43a74301e04fe427a.jpg', 'U17_jpg.rf.a52569aa145a9a5b1ea36a0a76b6c753.jpg', 'U17_jpg.rf.d2aaf75d751cffe65a945db316758d46.jpg', 'U19_jpg.rf.191b08431cacee7d4130c7213f0cdd52.jpg', 'U19_jpg.rf.3613dc87c67001806326133130eb9467.jpg', 'U19_jpg.rf.55390791e12edf34f7a040653d490e22.jpg', 'U1_jpg.rf.71e3fb6fa64ff7a0cc457428d93e5c3e.jpg', 'U1_jpg.rf.720e54b83dc7df59f901ba11b10e9f50.jpg', 'U1_jpg.rf.ebc8086f002807e1ded596ba4d839128.jpg', 'U20_jpg.rf.090d182b25e3bcdd25f4bc510d0e10ca.jpg', 'U20_jpg.rf.8c790f56fcc640a885b48087c76f47f4.jpg', 'U20_jpg.rf.e98c9253b0050e7baa4ffee7538a10be.jpg', 'U22_jpg.rf.05814eef7483ee7ae7c2fdfd92ca6c5f.jpg', 'U22_jpg.rf.dd333cd17f151f677685a6f0951c3483.jpg', 'U22_jpg.rf.ffd1788e5f51686ae9c29ffaafce7ab5.jpg', 'U23_jpg.rf.999f6aff3f43bc24baa607aee12244fc.jpg', 'U23_jpg.rf.9b5f9e75b68c89403695f5b997fc13c3.jpg', 'U23_jpg.rf.a701eaede9d358ea70ad7dca78d800ad.jpg', 'U4_jpg.rf.6a9349c129fa407c0537f8683e1e0906.jpg', 'U4_jpg.rf.9431cb04b3a3347f90d3b0455c897361.jpg', 'U4_jpg.rf.a5cd43eff0057188cce9164c2fcec718.jpg', 'U7_jpg.rf.51a907b95381d5a1e9181e5022c6082d.jpg', 'U7_jpg.rf.5e2854db17d149a434055dbfe9cc8a2f.jpg', 'U7_jpg.rf.a53a06b57d7b02a7d24d68f5345245df.jpg', 'U8_jpg.rf.8e4a8cc762d72232ef6a925a05880ae2.jpg', 'U8_jpg.rf.b4354e7b5315f8727eb36601b2967435.jpg', 'U8_jpg.rf.ef74be745373da5ed18a05e57dcf3539.jpg', 'V13_jpg.rf.19911a299b4f6afa9cccac73551a174b.jpg', 'V13_jpg.rf.364da46db0161c93c12b889a32d38494.jpg', 'V13_jpg.rf.bd80132a33d39d5a613b52f7eed11c7d.jpg', 'V14_jpg.rf.2379535d1e4d2d60bc4d449a10f3b484.jpg', 'V14_jpg.rf.413d43e2f2ab754af6ea6abc593c669d.jpg', 'V14_jpg.rf.563648c34701d50d38fe924e699d98ea.jpg', 'V15_jpg.rf.18e85164f76d18a5f24a628c743ee02c.jpg', 'V15_jpg.rf.6682e07c4f013dc93e35e73949bbb887.jpg', 'V15_jpg.rf.ba2bcf2ed08196820d3a1bedd4eb0059.jpg', 'V16_jpg.rf.614d49f8efe50cc6a57c99861e2b0180.jpg', 'V16_jpg.rf.8b69b3149f9ebf80223b6d438af5eee2.jpg', 'V16_jpg.rf.ed342baecb17d69c9c2521dda2acc7a4.jpg', 'V17_jpg.rf.0491c2042b61bec08f1dcb52ebdc738c.jpg', 'V17_jpg.rf.7ff407d5463b1660286e7a9dc79f3ced.jpg', 'V17_jpg.rf.ace187efba01097b5e17b2541ff4971e.jpg', 'V18_jpg.rf.49ecff845599157ef7b91d6e84f4b110.jpg', 'V18_jpg.rf.7121d543cd4e80dd99bb810fd0c715c7.jpg', 'V18_jpg.rf.e31ce2eee3df7f0dcde3b96686cc0aaf.jpg', 'V19_jpg.rf.435a30050548e694093e9e9dcf35f463.jpg', 'V19_jpg.rf.56482b023e7d653634a1016b096c0197.jpg', 'V19_jpg.rf.7de39a27e5a3fef63d00e676af04d18d.jpg', 'V1_jpg.rf.9378cd336bd4574a93530ad79926e278.jpg', 'V1_jpg.rf.b6d480fc0f6b9643b7e1ae0db66033fb.jpg', 'V1_jpg.rf.e42a1f89ee73797f19d8cfa183b79c71.jpg', 'V20_jpg.rf.145eff6099dc3c7bf263dd8c8763d424.jpg', 'V20_jpg.rf.14c84c8dc72f0bd2ae79b6a0c4ca1584.jpg', 'V20_jpg.rf.d45158798248d4b8a535058454931f8a.jpg', 'V22_jpg.rf.2ed43a1459dff7709da378fe4dfc1b97.jpg', 'V22_jpg.rf.893ae5c0214f43502572d0e9501da9bf.jpg', 'V22_jpg.rf.94578e3f9db345567a728ed8672f4153.jpg', 'V23_jpg.rf.64d65609eb59f85c0327126400024aec.jpg', 'V23_jpg.rf.79ea4c49dee73bb46ae9240841d73914.jpg', 'V23_jpg.rf.f64fb2f12f4289125c533ed6a224b70b.jpg', 'V24_jpg.rf.0aec0f20ff2d2200603c5274dba0a413.jpg', 'V24_jpg.rf.730dc6724c58b8e26e19f86d9b63e5e5.jpg', 'V24_jpg.rf.735b12fbe1e7319fdd6ba80e49744f83.jpg', 'V26_jpg.rf.029282176d36d33532ed31ce404231f8.jpg', 'V26_jpg.rf.d5c4d0b3310bc858dd08c370b6207d83.jpg', 'V26_jpg.rf.ef92c1cbec275357ea8afd813a3716bf.jpg', 'V4_jpg.rf.59b6e2415842929950ede4995290a975.jpg', 'V4_jpg.rf.81bfde9bffb0499e4bab76a23d2ccefb.jpg', 'V4_jpg.rf.9dd64737d4d8ad3f306e50cd43b44b2c.jpg', 'V5_jpg.rf.05a4a8642c3b2c87580c38a9cb4da3c9.jpg', 'V5_jpg.rf.631d5f676fcd9119fb8445a6ab1fc956.jpg', 'V5_jpg.rf.880cc86222872580773f6879c433425e.jpg', 'V6_jpg.rf.13310c3bb2a5c15a45e32d4c2ea2aefb.jpg', 'V6_jpg.rf.b99b3f927f413324c865effffb731260.jpg', 'V6_jpg.rf.f48622204f7aac247e53497cb8885f6d.jpg', 'V7_jpg.rf.ccae0e37d392b9697413d7b76b683642.jpg', 'V7_jpg.rf.e3a7db8cdab409adb6368227f37e2473.jpg', 'V7_jpg.rf.f643d068efcb53f8866d6d541c1082bb.jpg', 'V8_jpg.rf.0c6fcf3e483de211b9dd6af8fdcf61d1.jpg', 'V8_jpg.rf.abf304659051d6ff6d847bab32b3d500.jpg', 'V8_jpg.rf.c94fabc6f1f52263d2b50108bee1d069.jpg', 'V9_jpg.rf.2cd63aef5c30c93c4757b6b66a3564c0.jpg', 'V9_jpg.rf.6076211980b138850418129b53c37713.jpg', 'V9_jpg.rf.f4babe737a959902d94e38d6a1d235e7.jpg', 'W0_jpg.rf.176cbd23def4a3fc56c43e6e00be529e.jpg', 'W0_jpg.rf.5e642aa816c7b1d2789e4dd6788aef8d.jpg', 'W0_jpg.rf.951991abeecb9c3ad90e9ee7a9f79854.jpg', 'W10_jpg.rf.1ab196b6c828f32b689c8872ea250164.jpg', 'W10_jpg.rf.2fedffc79b9135e85cc648078cbc2187.jpg', 'W10_jpg.rf.e49c3d52140f2fe4804c834c841e5ff0.jpg', 'W11_jpg.rf.9ea2a5846f3807c3c6d2b358a38da694.jpg', 'W11_jpg.rf.9fc94713eae28001dba26cb9eecde8a1.jpg', 'W11_jpg.rf.fcbf0df99c977ce98d7ef702a754e321.jpg', 'W12_jpg.rf.74cee5ea11fe9fd46eb677cd4bc16611.jpg', 'W12_jpg.rf.ace7fe0ff62ca0d6af66e0f5ce00d6c0.jpg', 'W12_jpg.rf.e643248253afba95ce0ac4539fd5e494.jpg', 'W13_jpg.rf.6cc655f4c20d957bbaf34c569d4dcba7.jpg', 'W13_jpg.rf.6f46335939f57ff13913d88db929bea3.jpg', 'W13_jpg.rf.d913e6439a1d246dfc3ff1486c5ec862.jpg', 'W14_jpg.rf.bcdad76edd3c1a5be982d65ad6160c0f.jpg', 'W14_jpg.rf.d17abac17917deaca686f14644939327.jpg', 'W14_jpg.rf.e80a1ba15d1d92ae65dcd4be5c34f680.jpg', 'W15_jpg.rf.8e48729ba90eed4929b9c827989123c4.jpg', 'W15_jpg.rf.b345d9f55fc65640c49eb20bf67ae64f.jpg', 'W15_jpg.rf.e17222698afcac6ad181e7f593d0a790.jpg', 'W17_jpg.rf.2a86924e4ebf31504908236fc9693a0b.jpg', 'W17_jpg.rf.8958b1b444e7ede249cd0332543bebdc.jpg', 'W17_jpg.rf.c70449ecf3298f627deec52ea8209b05.jpg', 'W18_jpg.rf.0a316158fbe3f74d794faafd0650c0bc.jpg', 'W18_jpg.rf.20195bf6ca59b5985ef6d24d4cae36af.jpg', 'W18_jpg.rf.faac32066c06e9eefb729dd97750f0f9.jpg', 'W1_jpg.rf.533a2cdf7fe2cfe37a02fb1f8332e7e6.jpg', 'W1_jpg.rf.770d756e3e9a1f4e838bc646e92db943.jpg', 'W1_jpg.rf.9da5e88f38754485d98ab22c04951bc6.jpg', 'W20_jpg.rf.298fe4a97b202617f080e1e3a0733cd8.jpg', 'W20_jpg.rf.3b797e70a8fa4745d5c2b57eb2080edb.jpg', 'W20_jpg.rf.552c06a1e9a17d62010c76ad6a4b3be1.jpg', 'W21_jpg.rf.2b540b6c6ae768e1792072c7c82b6673.jpg', 'W21_jpg.rf.7e5aa04c7fcba477c7b484673d71ba2c.jpg', 'W21_jpg.rf.d0152d1657375eca117dab9475257439.jpg', 'W2_jpg.rf.04ca78e990faf8e60ac53cb6ee17ba8a.jpg', 'W2_jpg.rf.459b26eb117fa97b7801acb3603e9f2f.jpg', 'W2_jpg.rf.7ae00310a706a92120c3c3de86445ebc.jpg', 'W3_jpg.rf.7e82971e6c8f4243014c8f3ab9440f4c.jpg', 'W3_jpg.rf.9116a163ca7ae2e1818e39a825c23f6a.jpg', 'W3_jpg.rf.aae9dbe466592b51cab72a7f6833f41e.jpg', 'W4_jpg.rf.8cf2d84b1acafd76c0cb4ea007d6b7e7.jpg', 'W4_jpg.rf.c72163857119c6d924f28942936cbdbe.jpg', 'W4_jpg.rf.fb317df498a1c97db5adcf3d232fde3a.jpg', 'W5_jpg.rf.07705d89257e698bb668eb31684eaaab.jpg', 'W5_jpg.rf.b9b7339cf24995133c56aeb008d19982.jpg', 'W5_jpg.rf.d740a9f45b43373c6c44d5042400a6dd.jpg', 'W6_jpg.rf.20aa90ba79d79d5227a8c522c7db1a1e.jpg', 'W6_jpg.rf.4109897a5328b7af8c92d1c277acd552.jpg', 'W6_jpg.rf.e8476efb6fb5ec79f31494cf433071e6.jpg', 'W8_jpg.rf.05d82cf158069310f03f6591dc7d26b7.jpg', 'W8_jpg.rf.85ac0147ad3413d577eb618d3a7ca443.jpg', 'W8_jpg.rf.89d56e00db4908e709d1933d19ded2c7.jpg', 'W9_jpg.rf.a2ca1d01af55437e183501d7414dc7ef.jpg', 'W9_jpg.rf.ada5fbc07050e8dfb5e14758920835a2.jpg', 'W9_jpg.rf.d0bbeff563efd82433dd73640bca5228.jpg', 'X0_jpg.rf.47b01716dfe99b170c7e33f00041f8ec.jpg', 'X0_jpg.rf.5dfe417a2594533f723768c9a8dad995.jpg', 'X0_jpg.rf.c119988f53528ad7d83b7ed6e843c77e.jpg', 'X10_jpg.rf.70a7f2f680c23b0611359881937d6af0.jpg', 'X10_jpg.rf.879c29f9d9ece784a95523e9134c1d0c.jpg', 'X10_jpg.rf.c21d4acf027f19eb13599339b91bdc34.jpg', 'X11_jpg.rf.0c3cba069199fa8b792cfc9026e78b6d.jpg', 'X11_jpg.rf.3b41f8bdb98298d40c754cd0e99cccbd.jpg', 'X11_jpg.rf.88a7772e1755a40741ecf37801ef76e3.jpg', 'X13_jpg.rf.4a6a11019f193581a063d0dfc9bb4002.jpg', 'X13_jpg.rf.6ef05bee117573a0c3640ad9082f2a8a.jpg', 'X13_jpg.rf.8d8e14d6756619e068ea5bf72ebf2488.jpg', 'X15_jpg.rf.85e954492c9a97e2f5bf8421893f6e9e.jpg', 'X15_jpg.rf.8f293ae413b60cd67005e48c18a3d575.jpg', 'X15_jpg.rf.fc2fb1785931750d410a66d9cbc54b2b.jpg', 'X16_jpg.rf.29bd419e7118e8ecffadd84a508c7d44.jpg', 'X16_jpg.rf.460c008269e52029e9ea36a8a21b8256.jpg', 'X16_jpg.rf.855eaad987f8f5f7dadfa69566cc7236.jpg', 'X17_jpg.rf.5771e91819edd2b82c6ee213d2e385e1.jpg', 'X17_jpg.rf.9f77a99ca3ca281508a757bebf2a09ea.jpg', 'X17_jpg.rf.b8b9ed9b6d9221f20353d5263ccdb238.jpg', 'X18_jpg.rf.3b970a0393fb342f12feae0d3e236cca.jpg', 'X18_jpg.rf.72c1c61a8561efcc3266535a31539a00.jpg', 'X18_jpg.rf.c73e6ca895f7b7985543b03266ba8bd5.jpg', 'X19_jpg.rf.550ae3bdea5b9e406b34503e8613b91d.jpg', 'X19_jpg.rf.b69f3d7dfb5c717519553a35ff9d3dff.jpg', 'X19_jpg.rf.ec91eb716ff3529f52a10e39c301ae50.jpg', 'X1_jpg.rf.06d385a62b3dbfd1ec1ff097c7fbf2d5.jpg', 'X1_jpg.rf.3a80fc46f729227c83f7920cb03beca4.jpg', 'X1_jpg.rf.ada0ab927821189cda0acc0d0ebc501c.jpg', 'X21_jpg.rf.396e95ccc92ddae499a024dc8eb289d1.jpg', 'X21_jpg.rf.6f9095bd7edbf82cdeda7c39a7735cf3.jpg', 'X21_jpg.rf.d0880614a880eba8bf231b580e2edac1.jpg', 'X22_jpg.rf.5e56853ab584bf205225aa8b0dd2d23e.jpg', 'X22_jpg.rf.b2a756741cb51566fe59a277ce02f3c2.jpg', 'X22_jpg.rf.ffc5bbd5550093dbd51206ecd7658610.jpg', 'X23_jpg.rf.019465f2efd198798e2f55ead527de02.jpg', 'X23_jpg.rf.797f06943e74e4dc2063af2255733131.jpg', 'X23_jpg.rf.b86e375d0d8eb49c7963e7d3e7c491b5.jpg', 'X25_jpg.rf.3a911d5261121e58745fbe823c83b6f5.jpg', 'X25_jpg.rf.41fa5e950a003ec6d8bf611f3e5f5e40.jpg', 'X25_jpg.rf.4469a3e08fa50cc171d78ce9557d3841.jpg', 'X2_jpg.rf.1328f3a5cec4b13d4f645d6a7d06c97c.jpg', 'X2_jpg.rf.4e6a621b0e763b35def56d2d1e5971f1.jpg', 'X2_jpg.rf.8b31b2daf467f169dc4a39646fec3240.jpg', 'X3_jpg.rf.3160c0ddf3c284b1511ade2516d7b473.jpg', 'X3_jpg.rf.47d5b5daadd209b4ba0b9a8f1c82c79b.jpg', 'X3_jpg.rf.86764654a1ef4d5a4c6a2268409cb037.jpg', 'X4_jpg.rf.12182949cb5305a04253f3f4aeac5f97.jpg', 'X4_jpg.rf.9c5fb57866117114bb4f036163f2bf20.jpg', 'X4_jpg.rf.c7b5cd5defcd78fa4164787b1be5b1a0.jpg', 'X5_jpg.rf.114a53e378cf0c96d3fa7f1de606545c.jpg', 'X5_jpg.rf.6416c0a6001a08021cecba006610b144.jpg', 'X5_jpg.rf.a9e433f30610565c6f8b88f2f287b0fb.jpg', 'X6_jpg.rf.806d5f95fc9a27dd733797ca4a3a750d.jpg', 'X6_jpg.rf.9c3cdc73bee8dab5c78460024f736ac3.jpg', 'X6_jpg.rf.c8a0d2bf54639ecabdc5d88d249667a5.jpg', 'X7_jpg.rf.2abc83e73e4e7fea458c890709682129.jpg', 'X7_jpg.rf.d2c3a3ccf16ef5f095a7064a27042600.jpg', 'X7_jpg.rf.f07ff29574f6e246bd3995bd2ebf4df4.jpg', 'X8_jpg.rf.7d6388856d1e09dd8b6529c47af4c714.jpg', 'X8_jpg.rf.bceb57e00eb707cbd40516e02dfd1a88.jpg', 'X8_jpg.rf.cd01da0b4e6d5241fa0bb55bfabce180.jpg', 'Y11_jpg.rf.81ceb472a87e606af81d4d10824d362b.jpg', 'Y11_jpg.rf.8d4959b82c0bd8094102c4aeb66e8410.jpg', 'Y11_jpg.rf.e00700f058cdbff5c346430f7de64687.jpg', 'Y12_jpg.rf.0c00213e985b5d5d31bc602cc9746dd8.jpg', 'Y12_jpg.rf.d0bd87572a78bedc3c5f3921d7c1b415.jpg', 'Y12_jpg.rf.d8f977cbbe98fb3cab9e068d28fc6204.jpg', 'Y14_jpg.rf.1a2190d8c0b30e8d420243563f614b29.jpg', 'Y14_jpg.rf.1b1d0667396ae88b5b920b8f158aa480.jpg', 'Y14_jpg.rf.79a92f1817aa52d278e65639163871b7.jpg', 'Y15_jpg.rf.1e5dc07a76ffb3ab60c0bbe9cd6bc03f.jpg', 'Y15_jpg.rf.a49fd3eb825983ef0c5b12a819ca12bb.jpg', 'Y15_jpg.rf.aa175b02818d2e160bbb9218e820a803.jpg', 'Y16_jpg.rf.300004361c8703f43313b0ae3516cde7.jpg', 'Y16_jpg.rf.45f3f5efbc2e85e2ee88d1567a0db635.jpg', 'Y16_jpg.rf.a87f806f934d4cd41fb8b01c6e94317c.jpg', 'Y18_jpg.rf.025fc2ac15735462030e9370737c05e9.jpg', 'Y18_jpg.rf.1385afe092aec07a15688bd8d58fe75b.jpg', 'Y18_jpg.rf.66a56a9582eb2cb38fbca45e3124a134.jpg', 'Y19_jpg.rf.573b92b6c6d59caba2736693aa757d4f.jpg', 'Y19_jpg.rf.590d5f159b1e998001acdf60f0a43866.jpg', 'Y19_jpg.rf.64c76a93427b696e3597ea9c74df7ea6.jpg', 'Y1_jpg.rf.14e1bfdaf426aa3bb9ab9ef0342d4902.jpg', 'Y1_jpg.rf.47802505d039f7ec532e2fe982e5878c.jpg', 'Y1_jpg.rf.80fa03b72f80224aee22f3feeb4f40d2.jpg', 'Y22_jpg.rf.25e68db4fa05cd7c97e7dd94971aac6b.jpg', 'Y22_jpg.rf.b391d965bbbd2d570d3d56a4708d3136.jpg', 'Y22_jpg.rf.f5d1befc0a3a21fc480d6cc1ecb50fef.jpg', 'Y24_jpg.rf.447c3310affb5be65bbb76eaffad3ee7.jpg', 'Y24_jpg.rf.764e0cd1f87d356ea69a1f206e8324c0.jpg', 'Y24_jpg.rf.ca374f0e4b1ffd1d0b587ea1260e9eb8.jpg', 'Y2_jpg.rf.702e8334dfb4cc0d0c85f14567ef13e1.jpg', 'Y2_jpg.rf.b8cb234e27f286c30145cc10f9716109.jpg', 'Y2_jpg.rf.fcc5f86383b98fc42fd75e3dfd51e550.jpg', 'Y3_jpg.rf.776806d30ecc88ce7076aa206a408adb.jpg', 'Y3_jpg.rf.a8be74f2869fbed87d5fc7a253d77dfc.jpg', 'Y3_jpg.rf.e67fae890b5abd6d8d4bc7d5254e8a0c.jpg', 'Y4_jpg.rf.2edd82baa8c3442f9da59d58a4b43f9f.jpg', 'Y4_jpg.rf.4e492f16715afdc3babe4a6c6d4c1335.jpg', 'Y4_jpg.rf.d93417a99e0e62e0c3f8fdb455a02877.jpg', 'Y6_jpg.rf.84ca214946748cb2194fabbc308d2381.jpg', 'Y6_jpg.rf.c4ef9d4c76e27089ab2d46e2a64e3024.jpg', 'Y6_jpg.rf.f6bd261d928d5df1fe2ff6dbd7a369ae.jpg', 'Y8_jpg.rf.4dfe6b1353cbff84e94347f3af2c1ce4.jpg', 'Y8_jpg.rf.8f941cb8db45b7ddcab51f8b8c774631.jpg', 'Y8_jpg.rf.ae0d16865776520af3cfc53b2920b27f.jpg', 'Y9_jpg.rf.45ef6fc9b239309a5a9d78b2126fbcbc.jpg', 'Y9_jpg.rf.9865453d28ea1444984b8307fced981c.jpg', 'Y9_jpg.rf.bb2e86b3469b787ea755dc111eea0c5b.jpg', 'Z0_jpg.rf.4b7e72d443fe41f05470251e08da1ef7.jpg', 'Z0_jpg.rf.5c0b2e2416134323ea548dba05648eb7.jpg', 'Z0_jpg.rf.6554e2e01429d4dd7327547241986f26.jpg', 'Z10_jpg.rf.7e3d35782740316290b8d44a09a4764d.jpg', 'Z10_jpg.rf.8e6bf9e199d6a94feba92e38674be049.jpg', 'Z10_jpg.rf.e18f6ff6be80b63c6fff453ee84b316b.jpg', 'Z12_jpg.rf.43d489b42e8ffcc37aa1fe22879c015e.jpg', 'Z12_jpg.rf.ab148c3f353f9c517e1d97d4b5cef988.jpg', 'Z12_jpg.rf.c8d30e9a3bc122e29efaae92396155f0.jpg', 'Z13_jpg.rf.2c832be52f705bad15a71ba68976f840.jpg', 'Z13_jpg.rf.700eb66962f8248a66d8e8a54bfc8ba0.jpg', 'Z13_jpg.rf.befc7c1c17ff45fb850f6df753711f14.jpg', 'Z14_jpg.rf.1ed7af6caed41349d52f20f32e6a11bb.jpg', 'Z14_jpg.rf.345a401246328f291643c97c8e657bcb.jpg', 'Z14_jpg.rf.c2fd37cfe4e8fcd5a50f23893e349f43.jpg', 'Z15_jpg.rf.303745186c8a13244d649f0c1c399a3e.jpg', 'Z15_jpg.rf.379dad78d0136190d5f2fb9989bbcf99.jpg', 'Z15_jpg.rf.77bc18483ee8798a202d83a6feb64d2d.jpg', 'Z17_jpg.rf.6e0264918410992b4d896720b335cb3a.jpg', 'Z17_jpg.rf.879d6bd82a2cfdedcfaaac2082e419dd.jpg', 'Z17_jpg.rf.e45a0a696e6dcf41841cad9c5b757330.jpg', 'Z19_jpg.rf.1bc25dacede490fa7fbd30586d139186.jpg', 'Z19_jpg.rf.4272e72da9e8c64c73d7aafa9d99522c.jpg', 'Z19_jpg.rf.de593b925b3fbb0807ad0a68bf27bec4.jpg', 'Z1_jpg.rf.1d138d4728e522abd1d64a2a6f9fed05.jpg', 'Z1_jpg.rf.90067c5b6891447843a16cb97b192a60.jpg', 'Z1_jpg.rf.dfda22aa7d418a7aad0f713855ef923f.jpg', 'Z20_jpg.rf.1cb6fb548ffc7ca0f0d2c18677b800c9.jpg', 'Z20_jpg.rf.906dc6d79a56c2c3ff29502c13aeb9ee.jpg', 'Z20_jpg.rf.e9d1385578ae0b503cd824fe7822bfa2.jpg', 'Z21_jpg.rf.02ae5d4f607072f6392d735399d41002.jpg', 'Z21_jpg.rf.72354f49ffd7bfe46d5cf8497b94f3ad.jpg', 'Z21_jpg.rf.af6027789df2b1800121a8f507a329d1.jpg', 'Z23_jpg.rf.1c42df70d24ca3aa6f1b455960f1eb3e.jpg', 'Z23_jpg.rf.1d08201cffeba7c298ff46e5af0d9061.jpg', 'Z23_jpg.rf.aaf9ff3eb5b05e3494fe82066dc051a2.jpg', 'Z24_jpg.rf.71916f76b5bf1937d9146d9dd6faed27.jpg', 'Z24_jpg.rf.e160239cf922050a300c286088a6f237.jpg', 'Z24_jpg.rf.e1f2454a9d77944538d1427f6be603c9.jpg', 'Z25_jpg.rf.537f9dc512cb10068a6becd4a3704beb.jpg', 'Z25_jpg.rf.7a1795204b8d4c59b43a7390ee744ac1.jpg', 'Z25_jpg.rf.836d17a1dd0a1c42637379337b807f94.jpg', 'Z26_jpg.rf.d5c473bc9584b9bf35493adb8556afb1.jpg', 'Z26_jpg.rf.d8adc8b5386a715517e6be0c2cc794ed.jpg', 'Z26_jpg.rf.eb2d72c18a772794919f17691c4cd618.jpg', 'Z28_jpg.rf.47fd1a20ca5d5804f7a35cee8823c6d5.jpg', 'Z28_jpg.rf.92edb376067f800493755d05f46a8ef8.jpg', 'Z28_jpg.rf.a680722f53438506bd0deaa7747555ad.jpg', 'Z29_jpg.rf.1bb27b502c2343dd8e78f93f04849ddf.jpg', 'Z29_jpg.rf.62127df40e76595d8f2366373941da84.jpg', 'Z29_jpg.rf.66fb96c1857b3eed2ee8cc1d75127d86.jpg', 'Z3_jpg.rf.32dee203b996ec5cde83a39e2e1d99f5.jpg', 'Z3_jpg.rf.6572c0aa770ffabb0da835e4063cf654.jpg', 'Z3_jpg.rf.8184de1ad32c9765a517fd99f449ee84.jpg', 'Z5_jpg.rf.4e641f1fa5594ec314ac65dd8a39a7db.jpg', 'Z5_jpg.rf.890ac953038153955085a20dd150910f.jpg', 'Z5_jpg.rf.f158d8a0f6ad75b6eccd1d97b661a236.jpg', 'Z6_jpg.rf.01357618e4ae6f7ca94d2c165d0bdf2a.jpg', 'Z6_jpg.rf.45e1ab2aa066a67f3e0f567456abddd0.jpg', 'Z6_jpg.rf.4c3c384ec2de8f50f06a972c738cfa6d.jpg', 'Z7_jpg.rf.57f584b81f11b4509915232647f27cda.jpg', 'Z7_jpg.rf.afead3fea3c6931bd263df3169e25562.jpg', 'Z7_jpg.rf.da0150a49cda88f1261d54c399b1f894.jpg', 'Z8_jpg.rf.1b4575f14e5e609437781529cb68ab89.jpg', 'Z8_jpg.rf.7b30ec5da0536fc053c86c4587585abb.jpg', 'Z8_jpg.rf.ce417abcd6ab8156b0024b1fa6aa7ce4.jpg']\n"
     ]
    }
   ],
   "source": [
    "mp_hands = mp.solutions.hands\n",
    "hands = mp_hands.Hands(static_image_mode=True, max_num_hands=1, min_detection_confidence=0.5)\n",
    "data_path1 = 'Public/asl_alphabet_train'\n",
    "data_path = 'Public/train'\n",
    "classifications = os.listdir(data_path)\n",
    "classifications.sort()\n",
    "print(classifications)"
   ]
  },
  {
   "cell_type": "code",
   "execution_count": 5,
   "id": "b428ed72",
   "metadata": {},
   "outputs": [
    {
     "name": "stdout",
     "output_type": "stream",
     "text": [
      "[landmark {\n",
      "  x: 0.457428038\n",
      "  y: 0.583321\n",
      "  z: -6.47400668e-007\n",
      "}\n",
      "landmark {\n",
      "  x: 0.570786357\n",
      "  y: 0.503428459\n",
      "  z: -0.0355797932\n",
      "}\n",
      "landmark {\n",
      "  x: 0.640131116\n",
      "  y: 0.373975933\n",
      "  z: -0.0444065407\n",
      "}\n",
      "landmark {\n",
      "  x: 0.651733875\n",
      "  y: 0.264574826\n",
      "  z: -0.0550685\n",
      "}\n",
      "landmark {\n",
      "  x: 0.634490609\n",
      "  y: 0.179893538\n",
      "  z: -0.0590976737\n",
      "}\n",
      "landmark {\n",
      "  x: 0.545696855\n",
      "  y: 0.270556241\n",
      "  z: -0.00423305947\n",
      "}\n",
      "landmark {\n",
      "  x: 0.586574137\n",
      "  y: 0.209667951\n",
      "  z: -0.0716262534\n",
      "}\n",
      "landmark {\n",
      "  x: 0.59239167\n",
      "  y: 0.307403505\n",
      "  z: -0.111358762\n",
      "}\n",
      "landmark {\n",
      "  x: 0.589894652\n",
      "  y: 0.393817753\n",
      "  z: -0.122083895\n",
      "}\n",
      "landmark {\n",
      "  x: 0.467299551\n",
      "  y: 0.282378018\n",
      "  z: -0.00464758603\n",
      "}\n",
      "landmark {\n",
      "  x: 0.517436743\n",
      "  y: 0.234142944\n",
      "  z: -0.077506274\n",
      "}\n",
      "landmark {\n",
      "  x: 0.530205071\n",
      "  y: 0.349560529\n",
      "  z: -0.0962087959\n",
      "}\n",
      "landmark {\n",
      "  x: 0.534969032\n",
      "  y: 0.43843478\n",
      "  z: -0.0864398256\n",
      "}\n",
      "landmark {\n",
      "  x: 0.39551264\n",
      "  y: 0.304352134\n",
      "  z: -0.0160673223\n",
      "}\n",
      "landmark {\n",
      "  x: 0.45714274\n",
      "  y: 0.292900413\n",
      "  z: -0.0848888382\n",
      "}\n",
      "landmark {\n",
      "  x: 0.469179869\n",
      "  y: 0.400668502\n",
      "  z: -0.0749421343\n",
      "}\n",
      "landmark {\n",
      "  x: 0.468660116\n",
      "  y: 0.472125232\n",
      "  z: -0.0443902127\n",
      "}\n",
      "landmark {\n",
      "  x: 0.325684965\n",
      "  y: 0.335119277\n",
      "  z: -0.0306416415\n",
      "}\n",
      "landmark {\n",
      "  x: 0.391185641\n",
      "  y: 0.321072429\n",
      "  z: -0.0701518431\n",
      "}\n",
      "landmark {\n",
      "  x: 0.40494737\n",
      "  y: 0.404261172\n",
      "  z: -0.0554431491\n",
      "}\n",
      "landmark {\n",
      "  x: 0.403822094\n",
      "  y: 0.457565784\n",
      "  z: -0.0288787335\n",
      "}\n",
      "]\n"
     ]
    }
   ],
   "source": [
    "img = cv2.imread(r\"Public/asl_alphabet_train/A/A1.jpg\")\n",
    "img = cv2.cvtColor(img, cv2.COLOR_BGR2RGB)\n",
    "print(hands.process(img).multi_hand_landmarks)\n",
    "scaler = StandardScaler()"
   ]
  },
  {
   "cell_type": "markdown",
   "id": "bc4e6057",
   "metadata": {},
   "source": [
    "Extracting media pip"
   ]
  },
  {
   "cell_type": "code",
   "execution_count": null,
   "id": "5869b08b",
   "metadata": {},
   "outputs": [
    {
     "name": "stderr",
     "output_type": "stream",
     "text": [
      "100%|██████████| 29/29 [01:04<00:00,  2.23s/it]\n"
     ]
    }
   ],
   "source": [
    "# x = []\n",
    "# y = []\n",
    "\n",
    "# count = 0\n",
    "\n",
    "# for label in tqdm(classifications):\n",
    "#     folder = os.path.join(data_path, label)\n",
    "#     count = 0\n",
    "#     for file in os.listdir(folder):\n",
    "#         if label == 'del' or label == 'nothing' or label == 'space':\n",
    "#             break\n",
    "#         if count > 50:\n",
    "#             break\n",
    "#         count += 1\n",
    "#         if file.endswith('.jpg'):\n",
    "#             img_path = os.path.join(folder, file)\n",
    "#             img= cv2.imread(img_path)\n",
    "\n",
    "#             if img is None:\n",
    "#                 continue\n",
    "#             img = cv2.cvtColor(img, cv2.COLOR_BGR2RGB)\n",
    "#             results = hands.process(img)\n",
    "\n",
    "#             if results.multi_hand_landmarks:\n",
    "#                 hand = results.multi_hand_landmarks[0]\n",
    "#                 landmark_list = []\n",
    "#                 for landmark in hand.landmark:\n",
    "#                     landmark_list.extend([landmark.x, landmark.y, landmark.z])\n",
    "#                 if len(landmark_list) == 63:\n",
    "#                     x.append(landmark_list)\n",
    "#                     y.append(label.lower())\n",
    "\n",
    "# import pandas as pd\n",
    "\n"
   ]
  },
  {
   "cell_type": "code",
   "execution_count": null,
   "id": "191f671e",
   "metadata": {},
   "outputs": [
    {
     "name": "stderr",
     "output_type": "stream",
     "text": [
      "100%|██████████| 1508/1508 [01:22<00:00, 18.20it/s]\n"
     ]
    }
   ],
   "source": [
    "\n",
    "# test_path = 'Public/train'\n",
    "# test_files = sorted(os.listdir(test_path))  # this is the actual list of filenames\n",
    "\n",
    "# for file in tqdm(test_files):\n",
    "#     if file.endswith('.jpg'):\n",
    "#         img_path = os.path.join(test_path, file)\n",
    "#         img = cv2.imread(img_path)\n",
    "\n",
    "#         if img is None:\n",
    "#             continue\n",
    "\n",
    "#         img = cv2.cvtColor(img, cv2.COLOR_BGR2RGB)\n",
    "#         results = hands.process(img)\n",
    "\n",
    "#         if results.multi_hand_landmarks:\n",
    "#             hand = results.multi_hand_landmarks[0]\n",
    "#             landmark_list = []\n",
    "#             for landmark in hand.landmark:\n",
    "#                 landmark_list.extend([landmark.x, landmark.y, landmark.z])\n",
    "#             if len(landmark_list) == 63:\n",
    "#                 x.append(landmark_list)\n",
    "#                 y.append(file[0].lower())  # label like 'A', 'SPACE'\n",
    "\n"
   ]
  },
  {
   "cell_type": "code",
   "execution_count": null,
   "id": "47ce5e4a",
   "metadata": {},
   "outputs": [
    {
     "name": "stdout",
     "output_type": "stream",
     "text": [
      "['A', 'B', 'C', 'D', 'E', 'F', 'G', 'H', 'I', 'J', 'K', 'L', 'M', 'N', 'O', 'P', 'Q', 'R', 'S', 'T', 'U', 'V', 'W', 'X', 'Y']\n"
     ]
    },
    {
     "name": "stderr",
     "output_type": "stream",
     "text": [
      "100%|██████████| 25/25 [02:32<00:00,  6.09s/it]\n"
     ]
    }
   ],
   "source": [
    "\n",
    "data_path = r'captured_images'\n",
    "classifications = os.listdir(data_path)\n",
    "classifications.sort()\n",
    "print(classifications)\n",
    "\n",
    "x = []\n",
    "y = []\n",
    "\n",
    "count = 0\n",
    "\n",
    "for label in tqdm(classifications):\n",
    "    folder = os.path.join(data_path, label)\n",
    "    for file in os.listdir(folder):\n",
    "    \n",
    "        if file.endswith('.jpg'):\n",
    "            img_path = os.path.join(folder, file)\n",
    "            img= cv2.imread(img_path)\n",
    "\n",
    "            if img is None:\n",
    "                continue\n",
    "            img = cv2.cvtColor(img, cv2.COLOR_BGR2RGB)\n",
    "            results = hands.process(img)\n",
    "\n",
    "            if results.multi_hand_landmarks:\n",
    "                hand = results.multi_hand_landmarks[0]\n",
    "                # wrist = hand.landmark[0]\n",
    "                landmark_list = []\n",
    "                for landmark in hand.landmark:\n",
    "                    landmark_list.extend([landmark.x, landmark.y, landmark.z])\n",
    "                    # landmark_list.extend([landmark.x -wrist.x, landmark.y-wrist.y, landmark.z-wrist.z])\n",
    "                if len(landmark_list) == 63:\n",
    "                    x.append(landmark_list)\n",
    "                    y.append(label.lower())\n",
    "\n",
    "import pandas as pd\n",
    "\n"
   ]
  },
  {
   "cell_type": "code",
   "execution_count": 14,
   "id": "abaaf32d",
   "metadata": {},
   "outputs": [
    {
     "name": "stdout",
     "output_type": "stream",
     "text": [
      "Saved to processed_landmarks.csv\n",
      "     0    1    2         3         4         5         6         7         8  \\\n",
      "0  0.0  0.0  0.0  0.085171 -0.062060 -0.020448  0.129547 -0.197029 -0.019494   \n",
      "1  0.0  0.0  0.0  0.052231 -0.024807 -0.019708  0.097619 -0.110817 -0.023056   \n",
      "2  0.0  0.0  0.0  0.044256 -0.051245 -0.021133  0.072255 -0.131421 -0.028914   \n",
      "3  0.0  0.0  0.0  0.063961 -0.029278 -0.017377  0.114774 -0.111339 -0.019588   \n",
      "4  0.0  0.0  0.0  0.058809 -0.025422 -0.017875  0.110047 -0.096062 -0.022640   \n",
      "\n",
      "          9  ...        54        55        56        57        58        59  \\\n",
      "0  0.148407  ... -0.059940 -0.346722 -0.030640 -0.042622 -0.269981 -0.008844   \n",
      "1  0.127693  ... -0.018037 -0.224806 -0.035151 -0.010420 -0.171987 -0.019703   \n",
      "2  0.086593  ... -0.056239 -0.222546 -0.028601 -0.042336 -0.175908 -0.013664   \n",
      "3  0.142777  ... -0.004441 -0.205212 -0.040298  0.000890 -0.147358 -0.034779   \n",
      "4  0.137271  ...  0.010268 -0.192305 -0.047392  0.018106 -0.138608 -0.044744   \n",
      "\n",
      "         60        61        62  label  \n",
      "0 -0.044899 -0.240083  0.014687      a  \n",
      "1 -0.014880 -0.156819 -0.003213      a  \n",
      "2 -0.037031 -0.151831  0.003382      a  \n",
      "3  0.001719 -0.101763 -0.021946      a  \n",
      "4  0.014806 -0.096803 -0.035017      a  \n",
      "\n",
      "[5 rows x 64 columns]\n"
     ]
    }
   ],
   "source": [
    "df = pd.DataFrame(x)\n",
    "df['label'] = y\n",
    "df.to_csv('processed_landmarks_self_more_no_wrist.csv', index=False)\n",
    "print(\"Saved to processed_landmarks.csv\")\n",
    "print(df.head())"
   ]
  },
  {
   "cell_type": "code",
   "execution_count": null,
   "id": "002a24a3",
   "metadata": {},
   "outputs": [
    {
     "name": "stderr",
     "output_type": "stream",
     "text": [
      "100%|██████████| 28/28 [00:00<00:00, 30.27it/s]\n"
     ]
    }
   ],
   "source": [
    "# x_test = []\n",
    "# y_test = []\n",
    "\n",
    "# test_path = 'Public/asl_alphabet_test'\n",
    "# test_files = sorted(os.listdir(test_path))  # this is the actual list of filenames\n",
    "\n",
    "# for file in tqdm(test_files):\n",
    "#     if file.endswith('.jpg'):\n",
    "#         img_path = os.path.join(test_path, file)\n",
    "#         img = cv2.imread(img_path)\n",
    "\n",
    "#         if img is None:\n",
    "#             continue\n",
    "\n",
    "#         img = cv2.cvtColor(img, cv2.COLOR_BGR2RGB)\n",
    "#         results = hands.process(img)\n",
    "\n",
    "#         if results.multi_hand_landmarks:\n",
    "#             hand = results.multi_hand_landmarks[0]\n",
    "#             landmark_list = []\n",
    "#             for landmark in hand.landmark:\n",
    "#                 landmark_list.extend([landmark.x, landmark.y, landmark.z])\n",
    "#             if len(landmark_list) == 63:\n",
    "#                 x_test.append(landmark_list)\n",
    "#                 y_test.append(file.split('_')[0])  # label like 'A', 'SPACE'\n",
    "\n"
   ]
  },
  {
   "cell_type": "code",
   "execution_count": null,
   "id": "ca2cf895",
   "metadata": {},
   "outputs": [
    {
     "name": "stdout",
     "output_type": "stream",
     "text": [
      "          0         1             2         3         4         5         6  \\\n",
      "0  0.457428  0.583321 -6.474007e-07  0.570786  0.503428 -0.035580  0.640131   \n",
      "1  0.485155  0.613102 -7.789129e-07  0.602762  0.543648 -0.027501  0.674942   \n",
      "2  0.723598  0.674288 -6.069148e-07  0.796444  0.618316 -0.031920  0.847458   \n",
      "3  0.713132  0.752423 -4.974553e-07  0.830180  0.650730 -0.042259  0.897590   \n",
      "4  0.716940  0.759032 -4.832657e-07  0.833547  0.666843 -0.041384  0.903522   \n",
      "\n",
      "          7         8         9  ...        54        55        56        57  \\\n",
      "0  0.373976 -0.044407  0.651734  ...  0.391186  0.321072 -0.070152  0.404947   \n",
      "1  0.405732 -0.032820  0.688006  ...  0.432534  0.362228 -0.074631  0.445967   \n",
      "2  0.513981 -0.037610  0.862209  ...  0.623643  0.453718 -0.038728  0.630732   \n",
      "3  0.497577 -0.055653  0.895794  ...  0.604212  0.449319 -0.108915  0.632593   \n",
      "4  0.504841 -0.052302  0.900880  ...  0.611438  0.459419 -0.115095  0.639612   \n",
      "\n",
      "         58        59        60        61        62  label  \n",
      "0  0.404261 -0.055443  0.403822  0.457566 -0.028879      A  \n",
      "1  0.451188 -0.063124  0.443897  0.506400 -0.041344      A  \n",
      "2  0.510247 -0.031833  0.640717  0.556273 -0.014879      A  \n",
      "3  0.545551 -0.094142  0.637691  0.612206 -0.063156      A  \n",
      "4  0.556720 -0.102434  0.649539  0.625443 -0.072584      A  \n",
      "\n",
      "[5 rows x 64 columns]\n"
     ]
    }
   ],
   "source": [
    "# df =pd.read_csv('processed_landmarks_1000.csv') \n",
    "# print(df.head())\n",
    "# df['label'] = df['label'].str.lower()\n",
    "# x = df.drop('label', axis=1).values\n",
    "# y = df['label'].values"
   ]
  },
  {
   "cell_type": "code",
   "execution_count": null,
   "id": "ff610067",
   "metadata": {},
   "outputs": [
    {
     "name": "stderr",
     "output_type": "stream",
     "text": [
      "100%|██████████| 72/72 [00:03<00:00, 23.74it/s]\n"
     ]
    }
   ],
   "source": [
    "# x_test = []\n",
    "# y_test = []\n",
    "\n",
    "# test_path = 'Public/test'\n",
    "# test_files = sorted(os.listdir(test_path))  # this is the actual list of filenames\n",
    "\n",
    "# for file in tqdm(test_files):\n",
    "#     if file.endswith('.jpg'):\n",
    "#         img_path = os.path.join(test_path, file)\n",
    "#         img = cv2.imread(img_path)\n",
    "\n",
    "#         if img is None:\n",
    "#             continue\n",
    "\n",
    "#         img = cv2.cvtColor(img, cv2.COLOR_BGR2RGB)\n",
    "#         results = hands.process(img)\n",
    "\n",
    "#         if results.multi_hand_landmarks:\n",
    "#             hand = results.multi_hand_landmarks[0]\n",
    "#             landmark_list = []\n",
    "#             for landmark in hand.landmark:\n",
    "#                 landmark_list.extend([landmark.x, landmark.y, landmark.z])\n",
    "#             if len(landmark_list) == 63:\n",
    "#                 x_test.append(landmark_list)\n",
    "#                 y_test.append(file[0].lower())  # label like 'A', 'SPACE'"
   ]
  },
  {
   "cell_type": "code",
   "execution_count": null,
   "id": "d96333dd",
   "metadata": {},
   "outputs": [
    {
     "name": "stderr",
     "output_type": "stream",
     "text": [
      "100%|██████████| 28/28 [00:00<00:00, 31.33it/s]\n"
     ]
    }
   ],
   "source": [
    "# x_test = []\n",
    "# y_test = []\n",
    "\n",
    "# test_path = 'Public/asl_alphabet_test'\n",
    "# test_files = sorted(os.listdir(test_path))  # this is the actual list of filenames\n",
    "\n",
    "# for file in tqdm(test_files):\n",
    "#     if file.endswith('.jpg'):\n",
    "#         img_path = os.path.join(test_path, file)\n",
    "#         img = cv2.imread(img_path)\n",
    "\n",
    "#         if img is None:\n",
    "#             continue\n",
    "\n",
    "#         img = cv2.cvtColor(img, cv2.COLOR_BGR2RGB)\n",
    "#         results = hands.process(img)\n",
    "\n",
    "#         if results.multi_hand_landmarks:\n",
    "#             hand = results.multi_hand_landmarks[0]\n",
    "#             landmark_list = []\n",
    "#             for landmark in hand.landmark:\n",
    "#                 landmark_list.extend([landmark.x, landmark.y, landmark.z])\n",
    "#             if len(landmark_list) == 63:\n",
    "#                 x_test.append(landmark_list)\n",
    "#                 y_test.append(file[0].lower())  # label like 'A', 'SPACE'"
   ]
  },
  {
   "cell_type": "code",
   "execution_count": 15,
   "id": "8e1a2600",
   "metadata": {},
   "outputs": [
    {
     "name": "stdout",
     "output_type": "stream",
     "text": [
      "274 274\n",
      "['c', 'c', 'm', 'm', 't', 'u', 'v', 'u', 'f', 'c', 'r', 'c', 't', 'r', 'l', 't', 'y', 'm', 'w', 'd', 'o', 'k', 'k', 'c', 'l', 'y', 'c', 'a', 'p', 'x', 'u', 'u', 'k', 'l', 'n', 's', 't', 'x', 'g', 'w', 't', 'w', 'y', 'd', 'k', 's', 'k', 'c', 'x', 'd', 'c', 'h', 'w', 'v', 'h', 'k', 't', 'p', 't', 'r', 'p', 'g', 'd', 'r', 'g', 'e', 't', 'd', 'd', 'b', 'h', 'k', 's', 'x', 'y', 'q', 'g', 'h', 'g', 'v', 'o', 't', 'e', 'v', 'a', 'd', 'p', 'q', 'c', 'j', 'o', 'f', 'v', 'r', 'h', 'e', 'q', 'a', 'r', 'y', 'o', 't', 'c', 'k', 'l', 'j', 'm', 'r', 'l', 'v', 'b', 'm', 'i', 'o', 'q', 'u', 'o', 'c', 't', 'o', 'b', 'o', 'a', 'a', 'x', 'q', 'x', 'c', 's', 'c', 'c', 't', 'l', 'a', 'o', 'i', 'n', 'b', 'x', 't', 'c', 'v', 't', 'm', 'f', 'k', 'o', 'q', 'l', 'e', 'k', 't', 'x', 'n', 'a', 's', 'c', 'b', 'a', 'x', 'j', 's', 'l', 'h', 'o', 'i', 'v', 'j', 'b', 'c', 'a', 'p', 'v', 'n', 't', 'x', 't', 'v', 'd', 'o', 'o', 't', 'n', 'r', 'l', 'o', 'f', 'l', 'y', 'n', 'e', 'h', 'r', 'd', 'v', 'a', 'e', 't', 'c', 'o', 'q', 'a', 'l', 'r', 't', 'l', 'n', 't', 'h', 'k', 'i', 'i', 'f', 'o', 'o', 'l', 'q', 'y', 'w', 'l', 'a', 'q', 'q', 'v', 'v', 'c', 'l', 'o', 'e', 'b', 'y', 'b', 'h', 't', 'a', 'a', 'd', 't', 'o', 's', 'v', 'h', 'm', 's', 't', 't', 'u', 'j', 'e', 'c', 'o', 'g', 'u', 'a', 'g', 'e', 'o', 'l', 'r', 'd', 'a', 'd', 'j', 'u', 'i', 's', 't', 'f', 's', 'b', 'p', 'j', 'v', 'b']\n",
      "['a', 'a', 'a', 'a', 'a', 'a', 'a', 'a', 'a', 'a', 'a', 'a', 'a', 'a', 'a', 'a', 'a', 'a', 'a', 'a', 'a', 'a', 'a', 'a', 'a', 'a', 'a', 'a', 'a', 'a', 'a', 'a', 'a', 'a', 'a', 'a', 'a', 'a', 'a', 'a', 'a', 'a', 'a', 'a', 'a', 'a', 'a', 'a', 'a', 'a', 'a', 'a', 'a', 'a', 'a', 'a', 'a', 'a', 'a', 'a', 'a', 'a', 'a', 'a', 'a', 'a', 'a', 'a', 'a', 'a', 'a', 'a', 'a', 'a', 'a', 'a', 'a', 'a', 'a', 'a', 'a', 'a', 'a', 'a', 'a', 'a', 'a', 'a', 'a', 'a', 'a', 'a', 'a', 'a', 'a', 'a', 'a', 'a', 'a', 'a', 'a', 'a', 'a', 'a', 'a', 'a', 'a', 'a', 'a', 'a', 'a', 'a', 'a', 'a', 'a', 'a', 'a', 'a', 'a', 'a', 'a', 'a', 'a', 'a', 'a', 'a', 'a', 'a', 'a', 'a', 'a', 'a', 'a', 'a', 'a', 'a', 'a', 'a', 'a', 'a', 'a', 'a', 'a', 'a', 'a', 'a', 'a', 'a', 'a', 'a', 'a', 'a', 'a', 'a', 'a', 'a', 'a', 'a', 'a', 'b', 'b', 'b', 'b', 'b', 'b', 'b', 'b', 'b', 'b', 'b', 'b', 'b', 'b', 'b', 'b', 'b', 'b', 'b', 'b', 'b', 'b', 'b', 'b', 'b', 'b', 'b', 'b', 'b', 'b', 'b', 'b', 'b', 'b', 'b', 'b', 'b', 'b', 'b', 'b', 'b', 'b', 'b', 'b', 'b', 'b', 'b', 'b', 'b', 'b', 'b', 'b', 'b', 'b', 'b', 'b', 'b', 'b', 'b', 'b', 'b', 'b', 'b', 'b', 'b', 'b', 'b', 'b', 'b', 'b', 'b', 'b', 'b', 'b', 'b', 'b', 'b', 'c', 'c', 'c', 'c', 'c', 'c', 'c', 'c', 'c', 'c', 'c', 'c', 'c', 'c', 'c', 'c', 'c', 'c', 'c', 'c', 'c', 'c', 'c', 'c', 'c', 'c', 'c', 'c', 'c', 'c', 'c', 'c', 'c', 'c', 'c', 'c', 'c', 'c', 'c', 'c', 'c', 'c', 'c', 'c', 'c', 'c', 'c', 'c', 'c', 'c', 'c', 'c', 'c', 'c', 'c', 'c', 'c', 'c', 'c', 'c', 'c', 'c', 'c', 'c', 'c', 'c', 'c', 'c', 'c', 'c', 'c', 'c', 'c', 'c', 'c', 'c', 'c', 'c', 'c', 'c', 'c', 'c', 'c', 'c', 'c', 'c', 'c', 'c', 'c', 'c', 'c', 'c', 'c', 'c', 'c', 'c', 'c', 'c', 'c', 'c', 'c', 'c', 'c', 'c', 'c', 'c', 'c', 'c', 'c', 'c', 'c', 'c', 'c', 'c', 'c', 'c', 'c', 'c', 'c', 'c', 'c', 'c', 'c', 'c', 'c', 'c', 'c', 'c', 'c', 'c', 'c', 'c', 'c', 'c', 'c', 'c', 'c', 'c', 'c', 'c', 'c', 'c', 'c', 'c', 'c', 'c', 'c', 'c', 'c', 'c', 'c', 'c', 'c', 'c', 'c', 'c', 'c', 'c', 'c', 'c', 'c', 'c', 'c', 'c', 'c', 'c', 'c', 'c', 'c', 'c', 'c', 'c', 'c', 'c', 'c', 'c', 'c', 'c', 'c', 'c', 'c', 'c', 'c', 'c', 'c', 'c', 'd', 'd', 'd', 'd', 'd', 'd', 'd', 'd', 'd', 'd', 'd', 'd', 'd', 'd', 'd', 'd', 'd', 'd', 'd', 'd', 'd', 'd', 'd', 'd', 'd', 'd', 'd', 'd', 'd', 'd', 'd', 'd', 'd', 'd', 'd', 'd', 'd', 'd', 'd', 'd', 'd', 'd', 'd', 'd', 'd', 'd', 'd', 'd', 'd', 'd', 'd', 'd', 'd', 'd', 'd', 'd', 'd', 'd', 'd', 'd', 'd', 'd', 'd', 'd', 'd', 'd', 'd', 'd', 'd', 'd', 'd', 'd', 'd', 'd', 'd', 'd', 'd', 'd', 'd', 'd', 'd', 'd', 'd', 'd', 'd', 'd', 'd', 'd', 'd', 'd', 'd', 'd', 'd', 'e', 'e', 'e', 'e', 'e', 'e', 'e', 'e', 'e', 'e', 'e', 'e', 'e', 'e', 'e', 'e', 'e', 'e', 'e', 'e', 'e', 'e', 'e', 'e', 'e', 'e', 'e', 'e', 'e', 'e', 'e', 'e', 'e', 'e', 'e', 'e', 'e', 'e', 'e', 'e', 'e', 'e', 'e', 'e', 'e', 'e', 'e', 'e', 'e', 'e', 'e', 'e', 'e', 'e', 'e', 'e', 'e', 'e', 'e', 'e', 'e', 'e', 'e', 'e', 'e', 'e', 'e', 'e', 'e', 'e', 'e', 'e', 'e', 'e', 'e', 'e', 'e', 'e', 'e', 'e', 'e', 'e', 'e', 'e', 'e', 'e', 'e', 'e', 'e', 'e', 'e', 'e', 'e', 'e', 'e', 'e', 'f', 'f', 'f', 'f', 'f', 'f', 'f', 'f', 'f', 'f', 'f', 'f', 'f', 'f', 'f', 'f', 'f', 'f', 'f', 'f', 'f', 'f', 'f', 'f', 'f', 'f', 'f', 'f', 'f', 'f', 'f', 'f', 'f', 'f', 'f', 'f', 'f', 'f', 'f', 'f', 'f', 'f', 'f', 'f', 'f', 'f', 'f', 'f', 'f', 'f', 'f', 'f', 'f', 'f', 'f', 'f', 'f', 'f', 'f', 'f', 'f', 'f', 'f', 'f', 'f', 'f', 'f', 'f', 'f', 'f', 'f', 'f', 'f', 'f', 'f', 'f', 'f', 'f', 'f', 'f', 'f', 'f', 'g', 'g', 'g', 'g', 'g', 'g', 'g', 'g', 'g', 'g', 'g', 'g', 'g', 'g', 'g', 'g', 'g', 'g', 'g', 'g', 'g', 'g', 'g', 'g', 'g', 'g', 'g', 'g', 'g', 'g', 'g', 'g', 'g', 'g', 'g', 'g', 'g', 'g', 'g', 'g', 'g', 'g', 'g', 'g', 'g', 'g', 'g', 'g', 'g', 'g', 'g', 'g', 'g', 'g', 'g', 'g', 'g', 'g', 'g', 'g', 'g', 'g', 'g', 'g', 'g', 'g', 'g', 'g', 'g', 'g', 'g', 'g', 'g', 'g', 'g', 'g', 'g', 'g', 'g', 'g', 'g', 'g', 'g', 'g', 'g', 'g', 'g', 'g', 'g', 'h', 'h', 'h', 'h', 'h', 'h', 'h', 'h', 'h', 'h', 'h', 'h', 'h', 'h', 'h', 'h', 'h', 'h', 'h', 'h', 'h', 'h', 'h', 'h', 'h', 'h', 'h', 'h', 'h', 'h', 'h', 'h', 'h', 'h', 'h', 'h', 'h', 'h', 'h', 'h', 'h', 'h', 'h', 'h', 'h', 'h', 'h', 'h', 'h', 'h', 'h', 'h', 'h', 'h', 'h', 'h', 'h', 'h', 'h', 'h', 'h', 'h', 'h', 'h', 'h', 'h', 'h', 'h', 'h', 'h', 'h', 'h', 'h', 'h', 'h', 'h', 'h', 'h', 'h', 'h', 'h', 'h', 'h', 'h', 'h', 'h', 'h', 'h', 'i', 'i', 'i', 'i', 'i', 'i', 'i', 'i', 'i', 'i', 'i', 'i', 'i', 'i', 'i', 'i', 'i', 'i', 'i', 'i', 'i', 'i', 'i', 'i', 'i', 'i', 'i', 'i', 'i', 'i', 'i', 'i', 'i', 'i', 'i', 'i', 'i', 'i', 'i', 'i', 'i', 'i', 'i', 'i', 'i', 'i', 'i', 'i', 'i', 'i', 'i', 'i', 'i', 'i', 'i', 'i', 'i', 'i', 'i', 'i', 'i', 'i', 'i', 'i', 'i', 'i', 'i', 'i', 'i', 'i', 'i', 'i', 'i', 'i', 'i', 'i', 'i', 'i', 'i', 'i', 'i', 'i', 'i', 'i', 'i', 'i', 'i', 'i', 'i', 'i', 'i', 'i', 'i', 'i', 'i', 'i', 'i', 'i', 'i', 'i', 'i', 'i', 'i', 'i', 'i', 'i', 'j', 'j', 'j', 'j', 'j', 'j', 'j', 'j', 'j', 'j', 'j', 'j', 'j', 'j', 'j', 'j', 'j', 'j', 'j', 'j', 'j', 'j', 'j', 'j', 'j', 'j', 'j', 'j', 'j', 'j', 'j', 'j', 'j', 'j', 'j', 'j', 'j', 'j', 'j', 'j', 'j', 'j', 'j', 'j', 'j', 'j', 'j', 'j', 'j', 'j', 'j', 'j', 'j', 'j', 'j', 'j', 'j', 'j', 'j', 'j', 'j', 'j', 'j', 'j', 'j', 'j', 'j', 'j', 'j', 'j', 'j', 'j', 'j', 'j', 'j', 'j', 'j', 'j', 'j', 'j', 'j', 'j', 'j', 'j', 'j', 'j', 'j', 'j', 'j', 'j', 'j', 'j', 'j', 'k', 'k', 'k', 'k', 'k', 'k', 'k', 'k', 'k', 'k', 'k', 'k', 'k', 'k', 'k', 'k', 'k', 'k', 'k', 'k', 'k', 'k', 'k', 'k', 'k', 'k', 'k', 'k', 'k', 'k', 'k', 'k', 'k', 'k', 'k', 'k', 'k', 'k', 'k', 'k', 'k', 'k', 'k', 'k', 'k', 'k', 'k', 'k', 'k', 'k', 'k', 'k', 'k', 'k', 'k', 'k', 'k', 'k', 'k', 'k', 'k', 'k', 'k', 'k', 'k', 'k', 'k', 'k', 'k', 'k', 'k', 'k', 'k', 'k', 'k', 'k', 'k', 'k', 'k', 'k', 'k', 'k', 'k', 'k', 'k', 'k', 'k', 'k', 'k', 'k', 'k', 'k', 'k', 'k', 'k', 'k', 'k', 'k', 'k', 'k', 'k', 'k', 'k', 'k', 'k', 'k', 'k', 'k', 'l', 'l', 'l', 'l', 'l', 'l', 'l', 'l', 'l', 'l', 'l', 'l', 'l', 'l', 'l', 'l', 'l', 'l', 'l', 'l', 'l', 'l', 'l', 'l', 'l', 'l', 'l', 'l', 'l', 'l', 'l', 'l', 'l', 'l', 'l', 'l', 'l', 'l', 'l', 'l', 'l', 'l', 'l', 'l', 'l', 'l', 'l', 'l', 'l', 'l', 'l', 'l', 'l', 'l', 'l', 'l', 'l', 'l', 'l', 'l', 'l', 'l', 'l', 'l', 'l', 'l', 'l', 'l', 'l', 'l', 'l', 'l', 'l', 'l', 'l', 'l', 'l', 'l', 'l', 'l', 'l', 'l', 'l', 'l', 'l', 'l', 'l', 'l', 'l', 'l', 'l', 'l', 'l', 'l', 'l', 'l', 'l', 'l', 'l', 'l', 'l', 'l', 'l', 'l', 'l', 'l', 'l', 'l', 'l', 'l', 'l', 'l', 'l', 'l', 'l', 'm', 'm', 'm', 'm', 'm', 'm', 'm', 'm', 'm', 'm', 'm', 'm', 'm', 'm', 'm', 'm', 'm', 'm', 'm', 'm', 'm', 'm', 'm', 'm', 'm', 'm', 'm', 'm', 'm', 'm', 'm', 'm', 'm', 'm', 'm', 'm', 'm', 'm', 'm', 'm', 'm', 'm', 'm', 'm', 'm', 'm', 'm', 'm', 'm', 'm', 'm', 'm', 'm', 'm', 'm', 'm', 'm', 'm', 'm', 'm', 'm', 'm', 'm', 'm', 'n', 'n', 'n', 'n', 'n', 'n', 'n', 'n', 'n', 'n', 'n', 'n', 'n', 'n', 'n', 'n', 'n', 'n', 'n', 'n', 'n', 'n', 'n', 'n', 'n', 'n', 'n', 'n', 'n', 'n', 'n', 'n', 'n', 'n', 'n', 'n', 'n', 'n', 'n', 'n', 'n', 'n', 'n', 'n', 'n', 'n', 'n', 'n', 'n', 'n', 'n', 'n', 'o', 'o', 'o', 'o', 'o', 'o', 'o', 'o', 'o', 'o', 'o', 'o', 'o', 'o', 'o', 'o', 'o', 'o', 'o', 'o', 'o', 'o', 'o', 'o', 'o', 'o', 'o', 'o', 'o', 'o', 'o', 'o', 'o', 'o', 'o', 'o', 'o', 'o', 'o', 'o', 'o', 'o', 'o', 'o', 'o', 'o', 'o', 'o', 'o', 'o', 'o', 'o', 'o', 'o', 'o', 'o', 'o', 'o', 'o', 'o', 'o', 'o', 'o', 'o', 'o', 'o', 'o', 'o', 'o', 'o', 'o', 'o', 'o', 'o', 'o', 'o', 'o', 'o', 'o', 'o', 'o', 'o', 'o', 'o', 'o', 'o', 'o', 'o', 'o', 'o', 'o', 'o', 'o', 'o', 'o', 'o', 'o', 'o', 'o', 'o', 'o', 'o', 'o', 'o', 'o', 'o', 'o', 'o', 'o', 'o', 'o', 'o', 'o', 'o', 'o', 'o', 'o', 'o', 'o', 'o', 'o', 'o', 'o', 'o', 'o', 'o', 'o', 'o', 'o', 'o', 'o', 'o', 'o', 'o', 'o', 'o', 'o', 'o', 'o', 'o', 'o', 'o', 'o', 'o', 'o', 'o', 'o', 'o', 'o', 'o', 'o', 'o', 'o', 'o', 'o', 'o', 'o', 'o', 'o', 'o', 'o', 'o', 'o', 'o', 'o', 'o', 'o', 'o', 'o', 'o', 'o', 'o', 'o', 'o', 'o', 'o', 'o', 'o', 'o', 'o', 'o', 'p', 'p', 'p', 'p', 'p', 'p', 'p', 'p', 'p', 'p', 'p', 'p', 'p', 'p', 'p', 'p', 'p', 'p', 'p', 'p', 'p', 'p', 'p', 'p', 'p', 'p', 'p', 'p', 'p', 'p', 'p', 'p', 'p', 'p', 'p', 'p', 'p', 'p', 'p', 'p', 'p', 'p', 'p', 'p', 'p', 'p', 'p', 'p', 'p', 'p', 'p', 'p', 'p', 'p', 'p', 'p', 'p', 'p', 'p', 'p', 'p', 'p', 'p', 'p', 'p', 'p', 'p', 'p', 'p', 'p', 'p', 'p', 'p', 'p', 'p', 'p', 'p', 'p', 'p', 'p', 'p', 'p', 'p', 'p', 'p', 'p', 'p', 'p', 'p', 'p', 'p', 'p', 'p', 'p', 'p', 'p', 'p', 'p', 'p', 'p', 'p', 'p', 'p', 'p', 'p', 'q', 'q', 'q', 'q', 'q', 'q', 'q', 'q', 'q', 'q', 'q', 'q', 'q', 'q', 'q', 'q', 'q', 'q', 'q', 'q', 'q', 'q', 'q', 'q', 'q', 'q', 'q', 'q', 'q', 'q', 'q', 'q', 'q', 'q', 'q', 'q', 'q', 'q', 'q', 'q', 'q', 'q', 'q', 'q', 'q', 'q', 'q', 'q', 'q', 'q', 'q', 'q', 'q', 'q', 'q', 'q', 'q', 'q', 'q', 'q', 'q', 'q', 'q', 'q', 'q', 'q', 'q', 'q', 'q', 'q', 'q', 'q', 'q', 'q', 'q', 'q', 'q', 'q', 'q', 'q', 'q', 'q', 'q', 'q', 'q', 'q', 'q', 'q', 'q', 'q', 'q', 'q', 'q', 'q', 'q', 'q', 'q', 'q', 'q', 'q', 'r', 'r', 'r', 'r', 'r', 'r', 'r', 'r', 'r', 'r', 'r', 'r', 'r', 'r', 'r', 'r', 'r', 'r', 'r', 'r', 'r', 'r', 'r', 'r', 'r', 'r', 'r', 'r', 'r', 'r', 'r', 'r', 'r', 'r', 'r', 'r', 'r', 'r', 'r', 'r', 'r', 'r', 'r', 'r', 'r', 'r', 'r', 'r', 'r', 'r', 'r', 'r', 'r', 'r', 'r', 'r', 'r', 'r', 'r', 'r', 'r', 'r', 'r', 'r', 'r', 'r', 'r', 'r', 'r', 'r', 'r', 'r', 'r', 'r', 'r', 'r', 'r', 'r', 'r', 'r', 'r', 'r', 'r', 'r', 'r', 'r', 'r', 'r', 'r', 'r', 'r', 'r', 'r', 'r', 'r', 'r', 'r', 'r', 'r', 'r', 'r', 'r', 'r', 'r', 'r', 's', 's', 's', 's', 's', 's', 's', 's', 's', 's', 's', 's', 's', 's', 's', 's', 's', 's', 's', 's', 's', 's', 's', 's', 's', 's', 's', 's', 's', 's', 's', 's', 's', 's', 's', 's', 's', 's', 's', 's', 's', 's', 's', 's', 's', 's', 's', 's', 's', 's', 's', 's', 's', 's', 's', 's', 's', 's', 's', 's', 's', 's', 's', 's', 's', 's', 's', 's', 's', 's', 's', 's', 's', 's', 's', 's', 's', 's', 's', 's', 's', 's', 's', 's', 's', 's', 's', 's', 's', 's', 's', 's', 's', 's', 's', 's', 's', 's', 's', 's', 't', 't', 't', 't', 't', 't', 't', 't', 't', 't', 't', 't', 't', 't', 't', 't', 't', 't', 't', 't', 't', 't', 't', 't', 't', 't', 't', 't', 't', 't', 't', 't', 't', 't', 't', 't', 't', 't', 't', 't', 't', 't', 't', 't', 't', 't', 't', 't', 't', 't', 't', 't', 't', 't', 't', 't', 't', 't', 't', 't', 't', 't', 't', 't', 't', 't', 't', 't', 't', 't', 't', 't', 't', 't', 't', 't', 't', 't', 't', 't', 't', 't', 't', 't', 't', 't', 't', 't', 't', 't', 't', 't', 't', 't', 't', 't', 't', 't', 't', 't', 't', 't', 't', 't', 't', 't', 't', 't', 't', 't', 't', 't', 't', 't', 't', 't', 't', 't', 't', 't', 't', 't', 't', 't', 't', 't', 't', 't', 't', 't', 't', 't', 't', 't', 't', 't', 't', 't', 't', 't', 't', 't', 't', 't', 't', 't', 't', 't', 't', 't', 't', 't', 't', 't', 't', 't', 't', 't', 't', 't', 't', 't', 't', 't', 't', 't', 't', 't', 't', 't', 't', 't', 't', 't', 't', 't', 't', 't', 't', 't', 't', 't', 't', 't', 't', 't', 't', 't', 't', 't', 't', 't', 't', 't', 't', 't', 't', 't', 't', 't', 't', 't', 't', 't', 't', 't', 't', 'u', 'u', 'u', 'u', 'u', 'u', 'u', 'u', 'u', 'u', 'u', 'u', 'u', 'u', 'u', 'u', 'u', 'u', 'u', 'u', 'u', 'u', 'u', 'u', 'u', 'u', 'u', 'u', 'u', 'u', 'u', 'u', 'u', 'u', 'u', 'u', 'u', 'u', 'u', 'u', 'u', 'u', 'u', 'u', 'u', 'u', 'u', 'u', 'u', 'u', 'u', 'u', 'u', 'u', 'u', 'u', 'u', 'u', 'u', 'u', 'u', 'u', 'u', 'u', 'u', 'u', 'u', 'u', 'u', 'u', 'u', 'u', 'u', 'u', 'u', 'u', 'u', 'u', 'u', 'u', 'u', 'u', 'u', 'u', 'u', 'u', 'u', 'u', 'u', 'u', 'u', 'u', 'u', 'u', 'v', 'v', 'v', 'v', 'v', 'v', 'v', 'v', 'v', 'v', 'v', 'v', 'v', 'v', 'v', 'v', 'v', 'v', 'v', 'v', 'v', 'v', 'v', 'v', 'v', 'v', 'v', 'v', 'v', 'v', 'v', 'v', 'v', 'v', 'v', 'v', 'v', 'v', 'v', 'v', 'v', 'v', 'v', 'v', 'v', 'v', 'v', 'v', 'v', 'v', 'v', 'v', 'v', 'v', 'v', 'v', 'v', 'v', 'v', 'v', 'v', 'v', 'v', 'v', 'v', 'v', 'v', 'v', 'v', 'v', 'v', 'v', 'v', 'v', 'v', 'v', 'v', 'v', 'v', 'v', 'v', 'v', 'v', 'v', 'v', 'v', 'v', 'v', 'v', 'v', 'v', 'v', 'v', 'v', 'v', 'v', 'v', 'v', 'v', 'v', 'v', 'v', 'v', 'v', 'v', 'v', 'v', 'v', 'w', 'w', 'w', 'w', 'w', 'w', 'w', 'w', 'w', 'w', 'w', 'w', 'w', 'w', 'w', 'w', 'w', 'w', 'w', 'w', 'w', 'w', 'w', 'w', 'w', 'w', 'w', 'w', 'w', 'w', 'w', 'w', 'w', 'w', 'w', 'w', 'w', 'w', 'w', 'w', 'w', 'w', 'w', 'w', 'w', 'w', 'w', 'w', 'w', 'w', 'w', 'w', 'w', 'w', 'w', 'w', 'w', 'w', 'w', 'w', 'w', 'w', 'w', 'w', 'w', 'w', 'w', 'w', 'w', 'w', 'w', 'w', 'w', 'w', 'w', 'w', 'w', 'w', 'w', 'w', 'w', 'w', 'w', 'w', 'w', 'w', 'w', 'w', 'w', 'w', 'w', 'w', 'w', 'w', 'w', 'w', 'w', 'w', 'w', 'w', 'x', 'x', 'x', 'x', 'x', 'x', 'x', 'x', 'x', 'x', 'x', 'x', 'x', 'x', 'x', 'x', 'x', 'x', 'x', 'x', 'x', 'x', 'x', 'x', 'x', 'x', 'x', 'x', 'x', 'x', 'x', 'x', 'x', 'x', 'x', 'x', 'x', 'x', 'x', 'x', 'x', 'x', 'x', 'x', 'x', 'x', 'x', 'x', 'x', 'x', 'x', 'x', 'x', 'x', 'x', 'x', 'x', 'x', 'x', 'x', 'x', 'x', 'x', 'x', 'x', 'x', 'x', 'x', 'x', 'x', 'x', 'x', 'x', 'x', 'x', 'x', 'x', 'x', 'x', 'x', 'x', 'x', 'x', 'x', 'x', 'x', 'x', 'x', 'x', 'x', 'x', 'x', 'x', 'x', 'x', 'x', 'x', 'x', 'x', 'x', 'x', 'x', 'x', 'x', 'x', 'x', 'x', 'x', 'x', 'x', 'x', 'x', 'y', 'y', 'y', 'y', 'y', 'y', 'y', 'y', 'y', 'y', 'y', 'y', 'y', 'y', 'y', 'y', 'y', 'y', 'y', 'y', 'y', 'y', 'y', 'y', 'y', 'y', 'y', 'y', 'y', 'y', 'y', 'y', 'y', 'y', 'y', 'y', 'y', 'y', 'y', 'y', 'y', 'y', 'y', 'y', 'y', 'y', 'y', 'y', 'y', 'y', 'y', 'y', 'y', 'y', 'y', 'y', 'y', 'y', 'y', 'y', 'y', 'y', 'y', 'y', 'y', 'y', 'y', 'y', 'y', 'y', 'y', 'y', 'y', 'y', 'y', 'y', 'y', 'y', 'y', 'y', 'y', 'y', 'y', 'y', 'y', 'y', 'y', 'y', 'y', 'y', 'y', 'y', 'y', 'y', 'y', 'y', 'y', 'y', 'y', 'y', 'y', 'y', 'y', 'y', 'y', 'y', 'y', 'y', 'y', 'y', 'y', 'y', 'y', 'y', 'y', 'y', 'y', 'y', 'y']\n",
      "[ 2  2 12 12 19 20 21 20  5  2 17  2 19 17 11 19 24 12 22  3 14 10 10  2\n",
      " 11 24  2  0 15 23 20 20 10 11 13 18 19 23  6 22 19 22 24  3 10 18 10  2\n",
      " 23  3  2  7 22 21  7 10 19 15 19 17 15  6  3 17  6  4 19  3  3  1  7 10\n",
      " 18 23 24 16  6  7  6 21 14 19  4 21  0  3 15 16  2  9 14  5 21 17  7  4\n",
      " 16  0 17 24 14 19  2 10 11  9 12 17 11 21  1 12  8 14 16 20 14  2 19 14\n",
      "  1 14  0  0 23 16 23  2 18  2  2 19 11  0 14  8 13  1 23 19  2 21 19 12\n",
      "  5 10 14 16 11  4 10 19 23 13  0 18  2  1  0 23  9 18 11  7 14  8 21  9\n",
      "  1  2  0 15 21 13 19 23 19 21  3 14 14 19 13 17 11 14  5 11 24 13  4  7\n",
      " 17  3 21  0  4 19  2 14 16  0 11 17 19 11 13 19  7 10  8  8  5 14 14 11\n",
      " 16 24 22 11  0 16 16 21 21  2 11 14  4  1 24  1  7 19  0  0  3 19 14 18\n",
      " 21  7 12 18 19 19 20  9  4  2 14  6 20  0  6  4 14 11 17  3  0  3  9 20\n",
      "  8 18 19  5 18  1 15  9 21  1]\n",
      "[ 4  9 14 ... 10 12  7]\n"
     ]
    }
   ],
   "source": [
    "x_train, x_test, y_train, y_test = train_test_split(x, y, test_size=0.1, random_state=42)\n",
    "\n",
    "print(len(x_test), len(y_test))\n",
    "print(y_test)\n",
    "print(y)\n",
    "le = LabelEncoder()\n",
    "y_train = le.fit_transform(y_train)\n",
    "y_test = le.transform(y_test)\n",
    "\n",
    "# scaler = StandardScaler()\n",
    "x_train = scaler.fit_transform(x_train)   \n",
    "x_test = scaler.transform(x_test)\n",
    "# x_train = x\n",
    "# x_test = x_test\n",
    "print(y_test)\n",
    "print(y_train)\n"
   ]
  },
  {
   "cell_type": "code",
   "execution_count": null,
   "id": "acf78691",
   "metadata": {},
   "outputs": [
    {
     "data": {
      "text/plain": [
       "['scaler.pkl']"
      ]
     },
     "execution_count": 56,
     "metadata": {},
     "output_type": "execute_result"
    }
   ],
   "source": [
    "\n",
    "\n",
    "# #train\n",
    "# clf = MLPClassifier(hidden_layer_sizes=(128, 64), max_iter=1000, random_state=42)\n",
    "# clf.fit(x_train, y_train)\n",
    "\n",
    "# #save model\n",
    "# joblib.dump(clf, 'asl_model.pkl')\n",
    "# #save scaler\n",
    "# joblib.dump(scaler, 'scaler.pkl')\n"
   ]
  },
  {
   "cell_type": "code",
   "execution_count": 16,
   "id": "f9c79858",
   "metadata": {},
   "outputs": [
    {
     "data": {
      "text/plain": [
       "['scaler.pkl']"
      ]
     },
     "execution_count": 16,
     "metadata": {},
     "output_type": "execute_result"
    }
   ],
   "source": [
    "#train\n",
    "clf = MLPClassifier(hidden_layer_sizes=(128, 64), max_iter=500, random_state=42)\n",
    "clf.fit(x_train, y_train)\n",
    "#save model\n",
    "joblib.dump(clf, 'asl_model.pkl')\n",
    "#save scaler\n",
    "joblib.dump(scaler, 'scaler.pkl')\n"
   ]
  },
  {
   "cell_type": "code",
   "execution_count": 17,
   "id": "0498dafe",
   "metadata": {},
   "outputs": [
    {
     "name": "stdout",
     "output_type": "stream",
     "text": [
      "[ 2  2 12 12 19 20 21 20  5  2 17  2 19 17 11 19 24 12 22  3 14 10 10  2\n",
      " 11 24  2  0 15 23 20 20 10 11 13 18 19 23  6 22 19 22 24  3 10 18 10  2\n",
      " 23  3  2  7 22 21  7 10 19 15 19 17 15  6  3 17  6  4 19  3  3  1  7 10\n",
      " 18 23 24 16  6  7  6 21 14 19  4 21  0  3 15 16  2  9 14  5 21 17  7  4\n",
      " 16  0 17 24 14 19  2 10 11  9 12 17 11 21  1 12  8 14 16 20 14  2 19 14\n",
      "  1 14  0  0 23 16 23  2 18  2  2 19 11  0 14  8 13  1 23 19  2 21 19 12\n",
      "  5 10 14 16 11  4 10 19 23 13  0 18  2  1  0 23  9 18 11  7 14  8 21  9\n",
      "  1  2  0 15 21 13 19 23 19 21  3 14 14 19 13 17 11 14  5 11 24 13  4  7\n",
      " 17  3 21  0  4 19  2 14 16  0 11 17 19 11 13 19  7 10  8  8  5 14 14 11\n",
      " 16 24 22 11  0 16 16 21 21  2 11 14  4  1 24  1  7 19  0  0  3 19 14 18\n",
      " 21  7 12 18 19 19 20  9  4  2 14  6 20  0  6  4 14 11 17  3  0  3  9 20\n",
      "  8 18 19  5 18  1 15  9 21  1]\n",
      "[ 2  2 12 12 19 20 21 20  5  2 17  2 19 17 11 19 24 12 22  3 14 10 10  2\n",
      " 11 24  2  0 15 23 20 20 10 11 13 18 19 23  6 22 12 22 24  3 10 18 10  2\n",
      " 23  3  2  7 22 21  7 10 19 15 19 17 15  6  3 17  6  4 19  3  3  1  7 10\n",
      " 18 23 24 16  6  7  6 21 14 19  4 21  0  3 15 16  2  9 14  5 21 17  7  4\n",
      " 16  0 17 24 14 19  2 10 11  9 12 17 11 21  1 12  4 14 16 20 14  2 19 14\n",
      "  1 14  0  0 23 16 23  2 18  2  2 19 11  0 14  8 13  1 23 19  2 21 19 13\n",
      "  5 10 14 16 11  4 10 19 23 13  0 18  2  1  0 23  9 18 11 15 14  8 21  9\n",
      "  1  2  0 15 21 13 19 23 19 21  3 14 14 19 12 17 11 14  5 11 24 13  4  7\n",
      " 17  3 21  0  4 19  2 14 16  0 11 17 19 11 13 19  7 10  8  8  5 14 14 11\n",
      " 16 24 22 11  0 16 16 21 21  2 11 14  4  1 24  1  7 19  0  0  3 19 14 18\n",
      " 21  7 12 18 19 19 20  9  4  2 14  6 20  0  6  4 14 11 17  3  0  3  9 20\n",
      "  8 18 19  5 18  1 15  9 21  1]\n",
      "Accuracy: 98.18%\n"
     ]
    }
   ],
   "source": [
    "acc = clf.score(x_test, y_test)\n",
    "predictions = clf.predict(x_test)\n",
    "print(y_test)\n",
    "print(predictions)\n",
    "print(f\"Accuracy: {acc:.2%}\")\n",
    "with open('class_names.txt', 'w') as f:\n",
    "    f.write('\\n'.join(classifications))"
   ]
  },
  {
   "cell_type": "code",
   "execution_count": 64,
   "id": "a28f2f2b",
   "metadata": {},
   "outputs": [
    {
     "name": "stdout",
     "output_type": "stream",
     "text": [
      "Counter({12: 37, 17: 36, 23: 36, 18: 34, 19: 34, 13: 33, 24: 33, 6: 32, 8: 32, 22: 31, 11: 30, 15: 30, 16: 30, 21: 30, 10: 29, 0: 28, 1: 28, 3: 28, 5: 28, 9: 28, 14: 28, 7: 27, 20: 27, 2: 26, 4: 24})\n"
     ]
    }
   ],
   "source": [
    "import collections\n",
    "print(collections.Counter(y_train))"
   ]
  },
  {
   "cell_type": "code",
   "execution_count": null,
   "id": "f8da6d61",
   "metadata": {},
   "outputs": [
    {
     "name": "stdout",
     "output_type": "stream",
     "text": [
      "Predicted class index: 4\n",
      "Predicted label: e\n"
     ]
    }
   ],
   "source": [
    "# img = cv2.imread(\"captured_images/TEST/TEST_0.jpg\")\n",
    "# img = cv2.cvtColor(img, cv2.COLOR_BGR2RGB)\n",
    "# results = hands.process(img)\n",
    "\n",
    "# if results.multi_hand_landmarks:\n",
    "#     hand = results.multi_hand_landmarks[0]\n",
    "#     landmark_list = []\n",
    "#     for landmark in hand.landmark:\n",
    "#         landmark_list.extend([landmark.x, landmark.y, landmark.z])\n",
    "\n",
    "#     prediction = clf.predict([landmark_list])\n",
    "#     print(\"Predicted class index:\", prediction[0])\n",
    "#     print(\"Predicted label:\", le.inverse_transform(prediction)[0])\n",
    "# else:\n",
    "#     print(\"No hand detected.\")\n"
   ]
  }
 ],
 "metadata": {
  "kernelspec": {
   "display_name": "venv",
   "language": "python",
   "name": "python3"
  },
  "language_info": {
   "codemirror_mode": {
    "name": "ipython",
    "version": 3
   },
   "file_extension": ".py",
   "mimetype": "text/x-python",
   "name": "python",
   "nbconvert_exporter": "python",
   "pygments_lexer": "ipython3",
   "version": "3.12.6"
  }
 },
 "nbformat": 4,
 "nbformat_minor": 5
}
